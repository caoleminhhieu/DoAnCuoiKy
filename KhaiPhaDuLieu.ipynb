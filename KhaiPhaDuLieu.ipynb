{
 "cells": [
  {
   "cell_type": "code",
   "execution_count": 77,
   "metadata": {},
   "outputs": [],
   "source": [
    "import pandas as pd\n",
    "from sklearn.model_selection import train_test_split\n",
    "from sklearn.preprocessing import MinMaxScaler, StandardScaler\n",
    "from sklearn.base import BaseEstimator, TransformerMixin\n",
    "from sklearn.pipeline import Pipeline, make_pipeline\n",
    "from sklearn.compose import ColumnTransformer, make_column_transformer\n",
    "from sklearn.model_selection import cross_val_score\n",
    "from sklearn.neural_network import MLPClassifier\n",
    "from sklearn.metrics import zero_one_loss"
   ]
  },
  {
   "cell_type": "code",
   "execution_count": 46,
   "metadata": {},
   "outputs": [
    {
     "data": {
      "text/html": [
       "<div>\n",
       "<style scoped>\n",
       "    .dataframe tbody tr th:only-of-type {\n",
       "        vertical-align: middle;\n",
       "    }\n",
       "\n",
       "    .dataframe tbody tr th {\n",
       "        vertical-align: top;\n",
       "    }\n",
       "\n",
       "    .dataframe thead th {\n",
       "        text-align: right;\n",
       "    }\n",
       "</style>\n",
       "<table border=\"1\" class=\"dataframe\">\n",
       "  <thead>\n",
       "    <tr style=\"text-align: right;\">\n",
       "      <th></th>\n",
       "      <th>Name</th>\n",
       "      <th>Url</th>\n",
       "      <th>Goal</th>\n",
       "      <th>Pledged</th>\n",
       "      <th>Backers</th>\n",
       "      <th>Tiers</th>\n",
       "      <th>TierMin</th>\n",
       "      <th>TierMax</th>\n",
       "      <th>Status</th>\n",
       "    </tr>\n",
       "    <tr>\n",
       "      <th>Id</th>\n",
       "      <th></th>\n",
       "      <th></th>\n",
       "      <th></th>\n",
       "      <th></th>\n",
       "      <th></th>\n",
       "      <th></th>\n",
       "      <th></th>\n",
       "      <th></th>\n",
       "      <th></th>\n",
       "    </tr>\n",
       "  </thead>\n",
       "  <tbody>\n",
       "    <tr>\n",
       "      <th>0</th>\n",
       "      <td>MemoBox: actually organize all your messaging ...</td>\n",
       "      <td>http://www.kickstarter.com/projects/memobox/me...</td>\n",
       "      <td>700</td>\n",
       "      <td>132</td>\n",
       "      <td>6</td>\n",
       "      <td>2</td>\n",
       "      <td>10</td>\n",
       "      <td>100</td>\n",
       "      <td>failed</td>\n",
       "    </tr>\n",
       "    <tr>\n",
       "      <th>1</th>\n",
       "      <td>Pockit: The Portable Work Station</td>\n",
       "      <td>http://www.kickstarter.com/projects/1827963875...</td>\n",
       "      <td>50000</td>\n",
       "      <td>2</td>\n",
       "      <td>1</td>\n",
       "      <td>3</td>\n",
       "      <td>2</td>\n",
       "      <td>10</td>\n",
       "      <td>failed</td>\n",
       "    </tr>\n",
       "    <tr>\n",
       "      <th>2</th>\n",
       "      <td>Form-N-Fit NIOSH Approved N95</td>\n",
       "      <td>http://www.kickstarter.com/projects/n95-thermo...</td>\n",
       "      <td>500000</td>\n",
       "      <td>1654</td>\n",
       "      <td>22</td>\n",
       "      <td>8</td>\n",
       "      <td>62</td>\n",
       "      <td>5000</td>\n",
       "      <td>failed</td>\n",
       "    </tr>\n",
       "    <tr>\n",
       "      <th>3</th>\n",
       "      <td>DoggZam!</td>\n",
       "      <td>http://www.kickstarter.com/projects/doggzam/do...</td>\n",
       "      <td>2000</td>\n",
       "      <td>11</td>\n",
       "      <td>2</td>\n",
       "      <td>1</td>\n",
       "      <td>10</td>\n",
       "      <td>10</td>\n",
       "      <td>failed</td>\n",
       "    </tr>\n",
       "    <tr>\n",
       "      <th>4</th>\n",
       "      <td>Sustainable energy when there is wind and no sun</td>\n",
       "      <td>http://www.kickstarter.com/projects/ffabw/sust...</td>\n",
       "      <td>17000</td>\n",
       "      <td>722</td>\n",
       "      <td>11</td>\n",
       "      <td>1</td>\n",
       "      <td>20</td>\n",
       "      <td>20</td>\n",
       "      <td>failed</td>\n",
       "    </tr>\n",
       "  </tbody>\n",
       "</table>\n",
       "</div>"
      ],
      "text/plain": [
       "                                                 Name  \\\n",
       "Id                                                      \n",
       "0   MemoBox: actually organize all your messaging ...   \n",
       "1                   Pockit: The Portable Work Station   \n",
       "2                       Form-N-Fit NIOSH Approved N95   \n",
       "3                                            DoggZam!   \n",
       "4    Sustainable energy when there is wind and no sun   \n",
       "\n",
       "                                                  Url    Goal Pledged  \\\n",
       "Id                                                                      \n",
       "0   http://www.kickstarter.com/projects/memobox/me...     700     132   \n",
       "1   http://www.kickstarter.com/projects/1827963875...   50000       2   \n",
       "2   http://www.kickstarter.com/projects/n95-thermo...  500000    1654   \n",
       "3   http://www.kickstarter.com/projects/doggzam/do...    2000      11   \n",
       "4   http://www.kickstarter.com/projects/ffabw/sust...   17000     722   \n",
       "\n",
       "    Backers  Tiers  TierMin  TierMax  Status  \n",
       "Id                                            \n",
       "0         6      2       10      100  failed  \n",
       "1         1      3        2       10  failed  \n",
       "2        22      8       62     5000  failed  \n",
       "3         2      1       10       10  failed  \n",
       "4        11      1       20       20  failed  "
      ]
     },
     "execution_count": 46,
     "metadata": {},
     "output_type": "execute_result"
    }
   ],
   "source": [
    "df = pd.read_csv('data.csv', index_col=0)\n",
    "df.head()"
   ]
  },
  {
   "cell_type": "code",
   "execution_count": 47,
   "metadata": {},
   "outputs": [
    {
     "name": "stdout",
     "output_type": "stream",
     "text": [
      "<class 'pandas.core.frame.DataFrame'>\n",
      "Int64Index: 600 entries, 0 to 599\n",
      "Data columns (total 9 columns):\n",
      "Name       600 non-null object\n",
      "Url        600 non-null object\n",
      "Goal       600 non-null object\n",
      "Pledged    600 non-null object\n",
      "Backers    600 non-null int64\n",
      "Tiers      600 non-null int64\n",
      "TierMin    600 non-null int64\n",
      "TierMax    600 non-null int64\n",
      "Status     600 non-null object\n",
      "dtypes: int64(4), object(5)\n",
      "memory usage: 46.9+ KB\n"
     ]
    }
   ],
   "source": [
    "df.info()"
   ]
  },
  {
   "cell_type": "code",
   "execution_count": 48,
   "metadata": {},
   "outputs": [
    {
     "data": {
      "text/plain": [
       "failed     399\n",
       "success    201\n",
       "Name: Status, dtype: int64"
      ]
     },
     "execution_count": 48,
     "metadata": {},
     "output_type": "execute_result"
    }
   ],
   "source": [
    "df['Status'].value_counts()"
   ]
  },
  {
   "cell_type": "code",
   "execution_count": 49,
   "metadata": {},
   "outputs": [
    {
     "data": {
      "text/plain": [
       "Name        0\n",
       "Url         0\n",
       "Goal       64\n",
       "Pledged    64\n",
       "Backers     0\n",
       "Tiers       0\n",
       "TierMin     0\n",
       "TierMax     0\n",
       "Status      0\n",
       "dtype: int64"
      ]
     },
     "execution_count": 49,
     "metadata": {},
     "output_type": "execute_result"
    }
   ],
   "source": [
    "df['Goal'] = pd.to_numeric(df['Goal'], errors='coerce')\n",
    "df['Pledged'] = pd.to_numeric(df['Pledged'], errors='coerce')\n",
    "df.isna().sum()"
   ]
  },
  {
   "cell_type": "code",
   "execution_count": 50,
   "metadata": {},
   "outputs": [
    {
     "data": {
      "text/plain": [
       "0"
      ]
     },
     "execution_count": 50,
     "metadata": {},
     "output_type": "execute_result"
    }
   ],
   "source": [
    "df.duplicated().sum()"
   ]
  },
  {
   "cell_type": "code",
   "execution_count": 51,
   "metadata": {},
   "outputs": [
    {
     "name": "stdout",
     "output_type": "stream",
     "text": [
      "<class 'pandas.core.frame.DataFrame'>\n",
      "Int64Index: 536 entries, 0 to 599\n",
      "Data columns (total 9 columns):\n",
      "Name       536 non-null object\n",
      "Url        536 non-null object\n",
      "Goal       536 non-null float64\n",
      "Pledged    536 non-null float64\n",
      "Backers    536 non-null int64\n",
      "Tiers      536 non-null int64\n",
      "TierMin    536 non-null int64\n",
      "TierMax    536 non-null int64\n",
      "Status     536 non-null object\n",
      "dtypes: float64(2), int64(4), object(3)\n",
      "memory usage: 41.9+ KB\n"
     ]
    }
   ],
   "source": [
    "df = df.dropna()\n",
    "df.info()"
   ]
  },
  {
   "cell_type": "code",
   "execution_count": 52,
   "metadata": {},
   "outputs": [
    {
     "name": "stdout",
     "output_type": "stream",
     "text": [
      "(536, 7)\n",
      "(536,)\n"
     ]
    }
   ],
   "source": [
    "X = df.drop(['Status', 'Pledged'], axis=1)\n",
    "y = df['Status']\n",
    "print(X.shape)\n",
    "print(y.shape)"
   ]
  },
  {
   "cell_type": "code",
   "execution_count": 67,
   "metadata": {},
   "outputs": [
    {
     "name": "stdout",
     "output_type": "stream",
     "text": [
      "(375, 7) (375,)\n",
      "(161, 7) (161,)\n"
     ]
    }
   ],
   "source": [
    "X_train, X_test, y_train, y_test = train_test_split(X, y, test_size=0.3, random_state=29031996)\n",
    "print(X_train.shape, y_train.shape)\n",
    "print(X_test.shape, y_test.shape)"
   ]
  },
  {
   "cell_type": "code",
   "execution_count": 68,
   "metadata": {},
   "outputs": [
    {
     "data": {
      "text/plain": [
       "(375, 5)"
      ]
     },
     "execution_count": 68,
     "metadata": {},
     "output_type": "execute_result"
    }
   ],
   "source": [
    "class ColumnDropper(BaseEstimator, TransformerMixin):\n",
    "    def __init__(self, num_top_titles=1):\n",
    "        self.num_top_titles = num_top_titles\n",
    "    def fit(self, X_df, y=None):\n",
    "        return self\n",
    "    def transform(self, X_df, y=None):\n",
    "        return X_df.drop(['Name', 'Url'], axis=1)\n",
    "    \n",
    "ColumnDropper().fit_transform(X_train).shape"
   ]
  },
  {
   "cell_type": "code",
   "execution_count": 69,
   "metadata": {},
   "outputs": [],
   "source": [
    "full_pipeline = make_pipeline(ColumnDropper(),\n",
    "                              MinMaxScaler(),\n",
    "                              MLPClassifier(hidden_layer_sizes=(5), activation='tanh', solver='lbfgs', random_state=0, max_iter=2500)) "
   ]
  },
  {
   "cell_type": "code",
   "execution_count": 70,
   "metadata": {},
   "outputs": [],
   "source": [
    "res = cross_val_score(full_pipeline, X_train, y_train, cv=5)"
   ]
  },
  {
   "cell_type": "code",
   "execution_count": 72,
   "metadata": {},
   "outputs": [
    {
     "data": {
      "text/plain": [
       "0.9013333333333333"
      ]
     },
     "execution_count": 72,
     "metadata": {},
     "output_type": "execute_result"
    }
   ],
   "source": [
    "res.mean()"
   ]
  },
  {
   "cell_type": "code",
   "execution_count": 74,
   "metadata": {},
   "outputs": [
    {
     "data": {
      "text/plain": [
       "Pipeline(steps=[('columndropper', ColumnDropper()),\n",
       "                ('minmaxscaler', MinMaxScaler()),\n",
       "                ('mlpclassifier',\n",
       "                 MLPClassifier(activation='tanh', hidden_layer_sizes=5,\n",
       "                               max_iter=2500, random_state=0,\n",
       "                               solver='lbfgs'))])"
      ]
     },
     "execution_count": 74,
     "metadata": {},
     "output_type": "execute_result"
    }
   ],
   "source": [
    "full_pipeline.fit(X_train, y_train)"
   ]
  },
  {
   "cell_type": "code",
   "execution_count": 79,
   "metadata": {},
   "outputs": [
    {
     "data": {
      "text/plain": [
       "0.9316770186335404"
      ]
     },
     "execution_count": 79,
     "metadata": {},
     "output_type": "execute_result"
    }
   ],
   "source": [
    "prediction = full_pipeline.predict(X_test)\n",
    "error = zero_one_loss(prediction, y_test)\n",
    "score = 1 - error\n",
    "score"
   ]
  },
  {
   "cell_type": "code",
   "execution_count": null,
   "metadata": {},
   "outputs": [],
   "source": []
  }
 ],
 "metadata": {
  "kernelspec": {
   "display_name": "Python 3",
   "language": "python",
   "name": "python3"
  },
  "language_info": {
   "codemirror_mode": {
    "name": "ipython",
    "version": 3
   },
   "file_extension": ".py",
   "mimetype": "text/x-python",
   "name": "python",
   "nbconvert_exporter": "python",
   "pygments_lexer": "ipython3",
   "version": "3.7.2"
  }
 },
 "nbformat": 4,
 "nbformat_minor": 4
}
