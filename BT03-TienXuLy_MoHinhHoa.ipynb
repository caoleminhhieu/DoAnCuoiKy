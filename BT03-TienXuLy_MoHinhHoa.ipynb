{
 "cells": [
  {
   "cell_type": "markdown",
   "metadata": {
    "Collapsed": "false"
   },
   "source": [
    "# BT03: Tiền xử lý và mô hình hóa dữ liệu\n",
    "\n",
    "(Cập nhật 27/12/2020)\n",
    "\n",
    "Họ tên: Cao Lê Minh Hiếu.\n",
    "\n",
    "MSSV: 18120368."
   ]
  },
  {
   "cell_type": "markdown",
   "metadata": {
    "Collapsed": "false"
   },
   "source": [
    "---"
   ]
  },
  {
   "cell_type": "markdown",
   "metadata": {
    "Collapsed": "false"
   },
   "source": [
    "## Cách làm bài và nộp bài\n",
    "&#9889; Bạn lưu ý là mình sẽ dùng chương trình hỗ trợ chấm bài nên bạn cần phải tuân thủ chính xác qui định mà mình đặt ra, nếu không rõ thì hỏi, chứ không nên tự tiện làm theo ý của cá nhân.\n",
    "\n",
    "**Cách làm bài**\n",
    "\n",
    "Bạn sẽ làm trực tiếp trên file notebook này. Đầu tiên, bạn điền họ tên và MSSV vào phần đầu file ở bên trên. Trong file, bạn làm bài ở những chỗ có ghi là:\n",
    "```python\n",
    "# YOUR CODE HERE\n",
    "raise NotImplementedError()\n",
    "```\n",
    "hoặc đối với những phần code không bắt buộc thì là:\n",
    "```python\n",
    "# YOUR CODE HERE (OPTION)\n",
    "```\n",
    "hoặc đối với markdown cell thì là:\n",
    "```markdown\n",
    "YOUR ANSWER HERE\n",
    "```\n",
    "Tất nhiên, khi làm thì bạn xóa dòng `raise NotImplementedError()` đi.\n",
    "Đối những phần yêu cầu code thì thường ở ngay phía dưới sẽ có một (hoặc một số) cell chứa các bộ test để giúp bạn biết đã code đúng hay chưa; nếu chạy cell này không có lỗi gì thì có nghĩa là qua được các bộ test. Trong một số trường hợp, các bộ test có thể sẽ không đầy đủ; nghĩa là, nếu không qua được test thì là code sai, nhưng nếu qua được test thì chưa chắc đã đúng.\n",
    "\n",
    "Trong khi làm bài, bạn có thể cho in ra màn hình, tạo thêm các cell để test. Nhưng khi nộp bài thì bạn xóa các cell mà bạn tự tạo, xóa hoặc comment các câu lệnh in ra màn hình. Bạn lưu ý <font color=red>không được tự tiện xóa các cell hay sửa code của Thầy</font> (trừ những chỗ được phép sửa như đã nói ở trên).\n",
    "\n",
    "Trong khi làm bài, thường xuyên `Ctrl + S` để lưu lại bài làm của bạn, tránh mất mát thông tin.\n",
    "\n",
    "\n",
    "*Nên nhớ mục tiêu chính ở đây là <font color=green>học, học một cách chân thật</font>. Bạn có thể thảo luận ý tưởng với bạn khác, nhưng <font color=green>code và bài làm phải là của bạn, dựa trên sự hiểu thật sự của bạn</font>. <font color=red>Nếu vi phạm thì sẽ bị 0 điểm cho toàn bộ môn học.</font>*\n",
    "\n",
    "**Cách nộp bài**\n",
    "\n",
    "Khi chấm bài, đầu tiên mình sẽ chọn `Kernel` - `Restart & Run All`, để restart và chạy tất cả các cell trong notebook của bạn; do đó, trước khi nộp bài, bạn nên chạy thử `Kernel` - `Restart & Run All` để đảm bảo mọi chuyện diễn ra đúng như mong đợi.\n",
    "\n",
    "Sau đó, bạn tạo thư mục nộp bài theo cấu trúc sau:\n",
    "- Thư mục `MSSV` (vd, nếu bạn có MSSV là 1234567 thì bạn đặt tên thư mục là `1234567`)\n",
    "    - File `BT03-TienXuLy_MoHinhHoa.ipynb` (không cần nộp các file khác)\n",
    "\n",
    "Cuối cùng, bạn nén thư mục `MSSV` này lại và nộp ở link trên moodle. <font color=red>Bạn lưu ý tuân thủ chính xác cấu trúc này.</font>"
   ]
  },
  {
   "cell_type": "markdown",
   "metadata": {
    "Collapsed": "false"
   },
   "source": [
    "---"
   ]
  },
  {
   "cell_type": "markdown",
   "metadata": {
    "Collapsed": "false"
   },
   "source": [
    "## Import"
   ]
  },
  {
   "cell_type": "code",
   "execution_count": 1,
   "metadata": {
    "Collapsed": "false"
   },
   "outputs": [],
   "source": [
    "%matplotlib inline\n",
    "import matplotlib.pyplot as plt\n",
    "import seaborn as sns # seaborn là thư viện được xây trên matplotlib, giúp việc visualization đỡ khổ hơn\n",
    "import pandas as pd\n",
    "import numpy as np\n",
    "\n",
    "from sklearn.model_selection import train_test_split\n",
    "from sklearn.preprocessing import OneHotEncoder, StandardScaler\n",
    "from sklearn.impute import SimpleImputer\n",
    "from sklearn.base import BaseEstimator, TransformerMixin\n",
    "from sklearn.pipeline import Pipeline, make_pipeline\n",
    "from sklearn.compose import ColumnTransformer, make_column_transformer\n",
    "from sklearn.neural_network import MLPClassifier\n",
    "from sklearn import set_config\n",
    "set_config(display='diagram') # Để trực quan hóa pipeline\n",
    "\n",
    "# You can also import other things ...\n",
    "# YOUR CODE HERE (OPTION)"
   ]
  },
  {
   "cell_type": "code",
   "execution_count": 2,
   "metadata": {
    "Collapsed": "false"
   },
   "outputs": [
    {
     "data": {
      "text/plain": [
       "'0.23.2'"
      ]
     },
     "execution_count": 2,
     "metadata": {},
     "output_type": "execute_result"
    }
   ],
   "source": [
    "import sklearn\n",
    "sklearn.__version__"
   ]
  },
  {
   "cell_type": "markdown",
   "metadata": {
    "Collapsed": "false"
   },
   "source": [
    "---"
   ]
  },
  {
   "cell_type": "markdown",
   "metadata": {
    "Collapsed": "false"
   },
   "source": [
    "## Thu thập dữ liệu\n",
    "Bộ dữ liệu được sử dụng trong bài tập là bộ dữ liệu đã được thu thập sẵn cho [một cuộc thi trên Kaggle](https://www.kaggle.com/c/titanic); bộ dữ liệu này là về thông tin của các hành khách trên chuyến tàu Titanic mà đã bị chìm do đâm phải tảng băng trôi vào năm 1912 (chắc bạn cũng có biết). Ban đầu, mình định sử dụng bộ dữ liệu về giá nhà cho bài tập này (như mình có nói trên lớp); tuy nhiên, các bộ dữ liệu về giá nhà mà mình tìm được không có những đặc điểm mà mình muốn (mình muốn dữ liệu có giá trị thiếu, có các cột dạng chuỗi, ... để bạn có thể thực hành tiền xử lý các vấn đề này). Do đó, mình đã đổi sang bộ dữ liệu này (do mình không sử dụng bộ dữ liệu về giá nhà nữa nên cũng không còn yêu cầu tránh bộ dữ liệu này trong đồ án cuối kỳ).\n",
    "\n",
    "Cuộc thi trên Kaggle với bộ dữ liệu này là về mô hình hóa dữ liệu nên Kaggle đã tách sẵn tập huấn luyện và tập kiểm tra. Mình có đính kèm các file dữ liệu mà Kaggle cung cấp: \n",
    "- File \"train.csv\": tập huấn luyện\n",
    "- File \"test.csv\": tập kiểm tra (chỉ có input, dùng để submit kết quả dự đoán của mô hình sau cùng lên Kaggle)\n",
    "- File \"description.txt\": mô tả ý nghĩa của các cột"
   ]
  },
  {
   "cell_type": "markdown",
   "metadata": {
    "Collapsed": "false"
   },
   "source": [
    "---"
   ]
  },
  {
   "cell_type": "markdown",
   "metadata": {
    "Collapsed": "false"
   },
   "source": [
    "## Khám phá dữ liệu (đủ để có thể xác định câu hỏi)"
   ]
  },
  {
   "cell_type": "code",
   "execution_count": 3,
   "metadata": {
    "Collapsed": "false"
   },
   "outputs": [
    {
     "data": {
      "text/html": [
       "<div>\n",
       "<style scoped>\n",
       "    .dataframe tbody tr th:only-of-type {\n",
       "        vertical-align: middle;\n",
       "    }\n",
       "\n",
       "    .dataframe tbody tr th {\n",
       "        vertical-align: top;\n",
       "    }\n",
       "\n",
       "    .dataframe thead th {\n",
       "        text-align: right;\n",
       "    }\n",
       "</style>\n",
       "<table border=\"1\" class=\"dataframe\">\n",
       "  <thead>\n",
       "    <tr style=\"text-align: right;\">\n",
       "      <th></th>\n",
       "      <th>Survived</th>\n",
       "      <th>Pclass</th>\n",
       "      <th>Name</th>\n",
       "      <th>Sex</th>\n",
       "      <th>Age</th>\n",
       "      <th>SibSp</th>\n",
       "      <th>Parch</th>\n",
       "      <th>Ticket</th>\n",
       "      <th>Fare</th>\n",
       "      <th>Cabin</th>\n",
       "      <th>Embarked</th>\n",
       "    </tr>\n",
       "    <tr>\n",
       "      <th>PassengerId</th>\n",
       "      <th></th>\n",
       "      <th></th>\n",
       "      <th></th>\n",
       "      <th></th>\n",
       "      <th></th>\n",
       "      <th></th>\n",
       "      <th></th>\n",
       "      <th></th>\n",
       "      <th></th>\n",
       "      <th></th>\n",
       "      <th></th>\n",
       "    </tr>\n",
       "  </thead>\n",
       "  <tbody>\n",
       "    <tr>\n",
       "      <th>1</th>\n",
       "      <td>0</td>\n",
       "      <td>3</td>\n",
       "      <td>Braund, Mr. Owen Harris</td>\n",
       "      <td>male</td>\n",
       "      <td>22.0</td>\n",
       "      <td>1</td>\n",
       "      <td>0</td>\n",
       "      <td>A/5 21171</td>\n",
       "      <td>7.2500</td>\n",
       "      <td>NaN</td>\n",
       "      <td>S</td>\n",
       "    </tr>\n",
       "    <tr>\n",
       "      <th>2</th>\n",
       "      <td>1</td>\n",
       "      <td>1</td>\n",
       "      <td>Cumings, Mrs. John Bradley (Florence Briggs Th...</td>\n",
       "      <td>female</td>\n",
       "      <td>38.0</td>\n",
       "      <td>1</td>\n",
       "      <td>0</td>\n",
       "      <td>PC 17599</td>\n",
       "      <td>71.2833</td>\n",
       "      <td>C85</td>\n",
       "      <td>C</td>\n",
       "    </tr>\n",
       "    <tr>\n",
       "      <th>3</th>\n",
       "      <td>1</td>\n",
       "      <td>3</td>\n",
       "      <td>Heikkinen, Miss. Laina</td>\n",
       "      <td>female</td>\n",
       "      <td>26.0</td>\n",
       "      <td>0</td>\n",
       "      <td>0</td>\n",
       "      <td>STON/O2. 3101282</td>\n",
       "      <td>7.9250</td>\n",
       "      <td>NaN</td>\n",
       "      <td>S</td>\n",
       "    </tr>\n",
       "    <tr>\n",
       "      <th>4</th>\n",
       "      <td>1</td>\n",
       "      <td>1</td>\n",
       "      <td>Futrelle, Mrs. Jacques Heath (Lily May Peel)</td>\n",
       "      <td>female</td>\n",
       "      <td>35.0</td>\n",
       "      <td>1</td>\n",
       "      <td>0</td>\n",
       "      <td>113803</td>\n",
       "      <td>53.1000</td>\n",
       "      <td>C123</td>\n",
       "      <td>S</td>\n",
       "    </tr>\n",
       "    <tr>\n",
       "      <th>5</th>\n",
       "      <td>0</td>\n",
       "      <td>3</td>\n",
       "      <td>Allen, Mr. William Henry</td>\n",
       "      <td>male</td>\n",
       "      <td>35.0</td>\n",
       "      <td>0</td>\n",
       "      <td>0</td>\n",
       "      <td>373450</td>\n",
       "      <td>8.0500</td>\n",
       "      <td>NaN</td>\n",
       "      <td>S</td>\n",
       "    </tr>\n",
       "  </tbody>\n",
       "</table>\n",
       "</div>"
      ],
      "text/plain": [
       "             Survived  Pclass  \\\n",
       "PassengerId                     \n",
       "1                   0       3   \n",
       "2                   1       1   \n",
       "3                   1       3   \n",
       "4                   1       1   \n",
       "5                   0       3   \n",
       "\n",
       "                                                          Name     Sex   Age  \\\n",
       "PassengerId                                                                    \n",
       "1                                      Braund, Mr. Owen Harris    male  22.0   \n",
       "2            Cumings, Mrs. John Bradley (Florence Briggs Th...  female  38.0   \n",
       "3                                       Heikkinen, Miss. Laina  female  26.0   \n",
       "4                 Futrelle, Mrs. Jacques Heath (Lily May Peel)  female  35.0   \n",
       "5                                     Allen, Mr. William Henry    male  35.0   \n",
       "\n",
       "             SibSp  Parch            Ticket     Fare Cabin Embarked  \n",
       "PassengerId                                                          \n",
       "1                1      0         A/5 21171   7.2500   NaN        S  \n",
       "2                1      0          PC 17599  71.2833   C85        C  \n",
       "3                0      0  STON/O2. 3101282   7.9250   NaN        S  \n",
       "4                1      0            113803  53.1000  C123        S  \n",
       "5                0      0            373450   8.0500   NaN        S  "
      ]
     },
     "execution_count": 3,
     "metadata": {},
     "output_type": "execute_result"
    }
   ],
   "source": [
    "data_df = pd.read_csv('train.csv', \n",
    "                      index_col=0) # Cho cột index là cột 0 (PassengerId)\n",
    "data_df.head()"
   ]
  },
  {
   "cell_type": "markdown",
   "metadata": {},
   "source": [
    "### Dữ liệu có bao nhiêu dòng và bao nhiêu cột?"
   ]
  },
  {
   "cell_type": "code",
   "execution_count": 4,
   "metadata": {},
   "outputs": [
    {
     "data": {
      "text/plain": [
       "(891, 11)"
      ]
     },
     "execution_count": 4,
     "metadata": {},
     "output_type": "execute_result"
    }
   ],
   "source": [
    "data_df.shape"
   ]
  },
  {
   "cell_type": "markdown",
   "metadata": {},
   "source": [
    "### Mỗi dòng có ý nghĩa gì? Có vấn đề các dòng có ý nghĩa khác nhau không?"
   ]
  },
  {
   "cell_type": "markdown",
   "metadata": {},
   "source": [
    "Quan sát sơ bộ dữ liệu ta thấy mỗi dòng chứa thông tin của một hành khách, và có vẻ không có vấn đề các dòng có ý nghĩa khác nhau."
   ]
  },
  {
   "cell_type": "markdown",
   "metadata": {},
   "source": [
    "### Dữ liệu có các dòng bị lặp không?"
   ]
  },
  {
   "cell_type": "code",
   "execution_count": 5,
   "metadata": {},
   "outputs": [
    {
     "data": {
      "text/plain": [
       "0"
      ]
     },
     "execution_count": 5,
     "metadata": {},
     "output_type": "execute_result"
    }
   ],
   "source": [
    "data_df.index.duplicated().sum()"
   ]
  },
  {
   "cell_type": "markdown",
   "metadata": {},
   "source": [
    "### Mỗi cột có ý nghĩa gì?"
   ]
  },
  {
   "cell_type": "markdown",
   "metadata": {},
   "source": [
    "Xem file \"description.txt\"."
   ]
  },
  {
   "cell_type": "code",
   "execution_count": 6,
   "metadata": {},
   "outputs": [
    {
     "name": "stdout",
     "output_type": "stream",
     "text": [
      "VARIABLE DESCRIPTIONS:\n",
      "survival        Survival\n",
      "                (0 = No; 1 = Yes)\n",
      "pclass          Passenger Class\n",
      "                (1 = 1st; 2 = 2nd; 3 = 3rd)\n",
      "name            Name\n",
      "sex             Sex\n",
      "age             Age\n",
      "sibsp           Number of Siblings/Spouses Aboard\n",
      "parch           Number of Parents/Children Aboard\n",
      "ticket          Ticket Number\n",
      "fare            Passenger Fare\n",
      "cabin           Cabin\n",
      "embarked        Port of Embarkation\n",
      "                (C = Cherbourg; Q = Queenstown; S = Southampton)\n",
      "\n",
      "SPECIAL NOTES:\n",
      "Pclass is a proxy for socio-economic status (SES)\n",
      " 1st ~ Upper; 2nd ~ Middle; 3rd ~ Lower\n",
      "\n",
      "Age is in Years; Fractional if Age less than One (1)\n",
      " If the Age is Estimated, it is in the form xx.5\n",
      "\n",
      "With respect to the family relation variables (i.e. sibsp and parch)\n",
      "some relations were ignored.  The following are the definitions used\n",
      "for sibsp and parch.\n",
      "\n",
      "Sibling:  Brother, Sister, Stepbrother, or Stepsister of Passenger Aboard Titanic\n",
      "Spouse:   Husband or Wife of Passenger Aboard Titanic (Mistresses and Fiances Ignored)\n",
      "Parent:   Mother or Father of Passenger Aboard Titanic\n",
      "Child:    Son, Daughter, Stepson, or Stepdaughter of Passenger Aboard Titanic\n",
      "\n",
      "Other family relatives excluded from this study include cousins,\n",
      "nephews/nieces, aunts/uncles, and in-laws.  Some children travelled\n",
      "only with a nanny, therefore parch=0 for them.  As well, some\n",
      "travelled with very close friends or neighbors in a village, however,\n",
      "the definitions do not support such relations.\n"
     ]
    }
   ],
   "source": [
    "with open('description.txt', 'r') as f:\n",
    "    print(f.read())"
   ]
  },
  {
   "cell_type": "markdown",
   "metadata": {},
   "source": [
    "---"
   ]
  },
  {
   "cell_type": "markdown",
   "metadata": {},
   "source": [
    "Khám phá dữ liệu đến đây là đã đủ để có thể đưa ra câu hỏi cần trả lời. Sau khi đưa ra câu hỏi cần trả lời thì ta sẽ tiến hành ngay bước tiền xử lý là tách ra tập validation và tập kiểm tra (ở bài tập này thì chỉ tách tập validation, vì tập kiểm tra đã được Kaggle tách ra trước đó). Sau đó, ta có thể tiếp tục khám phá trên *tập huấn luyện* (tập mà đã tách ra tập validation và tập kiểm tra) để hiểu hơn về dữ liệu.\n",
    "\n",
    "Sở dĩ ta cần *tách sớm tập validation và tập kiểm tra* vì 2 tập này (đặc biệt là tập kiểm tra) cần phải được giữ bí mật để kết quả đánh giá được khách quan. Nếu ta khám phá dữ liệu nhiều quá, hiểu dữ liệu nhiều quá rồi mới tách các tập thì kết quả trên tập validation và tập kiểm tra có thể sẽ không được khách quan vì ta có thể dùng các hiểu biết khi khám phá dữ liệu (có tập validation và tập kiểm tra trong đó) để đưa ra các lựa chọn khi tiền xử lý và mô hình hóa dữ liệu (ở đây, mình muốn nói đến các hiểu biết mà chỉ đúng với tập dữ liệu cụ thể này chứ không thật sự là đúng)."
   ]
  },
  {
   "cell_type": "markdown",
   "metadata": {},
   "source": [
    "---"
   ]
  },
  {
   "cell_type": "markdown",
   "metadata": {},
   "source": [
    "## Đưa ra câu hỏi cần trả lời"
   ]
  },
  {
   "cell_type": "markdown",
   "metadata": {},
   "source": [
    "Quan trọng nhất ở bước này là ta phải xác định đâu là cột ouput. Về các cột input, nếu được thì ta cố gắng xác định những cột nào sẽ không dùng đến dựa vào ý nghĩa của các cột và sẽ bỏ luôn các cột này để đơn giản hóa cho các bước lúc sau (nhất là trong trường hợp dữ liệu có nhiều cột); với những cột mà không chắc chắn là nên bỏ hay nên giữ thì tạm cứ để đó, và ta sẽ làm ở bước tiền xử lý lúc sau.\n",
    "\n",
    "Trong cuộc thi trên Kaggle với bộ dữ liệu này, cột output đã được chỉ định sẵn là cột \"survival\" (sống/chết). Như vậy câu hỏi cần trả lời là: \n",
    "\n",
    "*Output - sống/chết -* được tính từ *input - các thông tin của hành khách -* theo công thức nào?\n",
    "\n",
    "Tạm thời ta sẽ để input là toàn bộ thông tin của hành khách, ta sẽ xác định cụ thể hơn ở bước tiền xử lý lúc sau.\n",
    "\n",
    "Việc tìm ra câu trả lời này cho câu hỏi này thật ra không có nhiều ý nghĩa trong thực tế; mục đích chính của cuộc thi này và của bài tập này là để tập luyện tiền xử lý + mô hình hóa dữ liệu. Trong đồ án cuối kỳ thì bạn cần giải thích để người đọc thấy được ý nghĩa thực tế của việc đi tìm câu trả lời cho câu hỏi."
   ]
  },
  {
   "cell_type": "markdown",
   "metadata": {
    "Collapsed": "false"
   },
   "source": [
    "---"
   ]
  },
  {
   "cell_type": "markdown",
   "metadata": {
    "Collapsed": "false"
   },
   "source": [
    "## Khám phá dữ liệu (để biết cách tách các tập)\n",
    "Để biết cách tách các tập thì ta cần khám phá thêm cột output một ít:\n",
    "- Cột này hiện có kiểu dữ liệu là gì? Trong bài toán hồi qui thì cột output bắt buộc phải có dạng số; nếu hiện chưa có dạng số (ví dụ, số nhưng được lưu dưới dạng chuỗi) thì ta cần chuyển sang dạng số rồi mới tách các tập.\n",
    "- Cột này có giá trị thiếu không? Nếu có giá trị thiếu thì ta sẽ bỏ các dòng mà output có giá trị thiếu rồi mới tách các tập (loại học mà học từ dữ liệu trong đó output có giá trị thiếu được gọi là semi-supervised learning; trong phạm vi môn học, ta không đụng tới loại học này).\n",
    "- Nếu cột này có dạng categorical (phân lớp) thì tỉ lệ các lớp như thế nào? Nếu tỉ lệ các lớp bị chênh lệch nhau quá nhiều thì có thể ta sẽ cần qua lại bước thu thập dữ liệu và thu thập thêm để cho tỉ lệ các lớp không bị chênh lệnh quá nhiều (hoặc khi đánh giá ta cần có một độ lỗi phù hợp)."
   ]
  },
  {
   "cell_type": "code",
   "execution_count": 7,
   "metadata": {},
   "outputs": [
    {
     "data": {
      "text/plain": [
       "dtype('int64')"
      ]
     },
     "execution_count": 7,
     "metadata": {},
     "output_type": "execute_result"
    }
   ],
   "source": [
    "# Cột output hiện có kiểu dữ liệu gì?\n",
    "data_df['Survived'].dtype"
   ]
  },
  {
   "cell_type": "code",
   "execution_count": 8,
   "metadata": {},
   "outputs": [
    {
     "data": {
      "text/plain": [
       "0"
      ]
     },
     "execution_count": 8,
     "metadata": {},
     "output_type": "execute_result"
    }
   ],
   "source": [
    "# Cột output có giá trị thiếu không?\n",
    "data_df['Survived'].isna().sum()"
   ]
  },
  {
   "cell_type": "code",
   "execution_count": 9,
   "metadata": {},
   "outputs": [
    {
     "data": {
      "text/plain": [
       "0    61.616162\n",
       "1    38.383838\n",
       "Name: Survived, dtype: float64"
      ]
     },
     "execution_count": 9,
     "metadata": {},
     "output_type": "execute_result"
    }
   ],
   "source": [
    "# Tỉ lệ các lớp trong cột output?\n",
    "data_df['Survived'].value_counts(normalize=True) * 100"
   ]
  },
  {
   "cell_type": "markdown",
   "metadata": {},
   "source": [
    "OK, như vậy là không có vấn đề gì cả."
   ]
  },
  {
   "cell_type": "markdown",
   "metadata": {},
   "source": [
    "---"
   ]
  },
  {
   "cell_type": "markdown",
   "metadata": {},
   "source": [
    "## Tiền xử lý (tách các tập)"
   ]
  },
  {
   "cell_type": "markdown",
   "metadata": {},
   "source": [
    "Bây giờ ta sẽ thực hiện bước tiền xử lý là tách tập validation và tập kiểm tra ra (trong bài tập này thì chỉ tách tập validation)."
   ]
  },
  {
   "cell_type": "code",
   "execution_count": 10,
   "metadata": {
    "Collapsed": "false"
   },
   "outputs": [],
   "source": [
    "# Tách X và y\n",
    "y_sr = data_df[\"Survived\"] # sr là viết tắt của series\n",
    "X_df = data_df.drop(\"Survived\", axis=1)"
   ]
  },
  {
   "cell_type": "code",
   "execution_count": 11,
   "metadata": {
    "Collapsed": "false"
   },
   "outputs": [],
   "source": [
    "# Tách tập huấn luyện và tập validation theo tỉ lệ 70%:30%\n",
    "train_X_df, val_X_df, train_y_sr, val_y_sr = train_test_split(X_df, y_sr, test_size=0.3, \n",
    "                                                              stratify=y_sr, random_state=0)"
   ]
  },
  {
   "cell_type": "code",
   "execution_count": 12,
   "metadata": {},
   "outputs": [
    {
     "data": {
      "text/plain": [
       "(623, 10)"
      ]
     },
     "execution_count": 12,
     "metadata": {},
     "output_type": "execute_result"
    }
   ],
   "source": [
    "train_X_df.shape"
   ]
  },
  {
   "cell_type": "code",
   "execution_count": 13,
   "metadata": {},
   "outputs": [
    {
     "data": {
      "text/plain": [
       "(623,)"
      ]
     },
     "execution_count": 13,
     "metadata": {},
     "output_type": "execute_result"
    }
   ],
   "source": [
    "train_y_sr.shape"
   ]
  },
  {
   "cell_type": "code",
   "execution_count": 14,
   "metadata": {},
   "outputs": [
    {
     "data": {
      "text/plain": [
       "(268, 10)"
      ]
     },
     "execution_count": 14,
     "metadata": {},
     "output_type": "execute_result"
    }
   ],
   "source": [
    "val_X_df.shape"
   ]
  },
  {
   "cell_type": "code",
   "execution_count": 15,
   "metadata": {},
   "outputs": [
    {
     "data": {
      "text/plain": [
       "(268,)"
      ]
     },
     "execution_count": 15,
     "metadata": {},
     "output_type": "execute_result"
    }
   ],
   "source": [
    "val_y_sr.shape"
   ]
  },
  {
   "cell_type": "code",
   "execution_count": 16,
   "metadata": {
    "Collapsed": "false"
   },
   "outputs": [
    {
     "data": {
      "text/plain": [
       "Int64Index([232, 837, 640, 390, 598], dtype='int64', name='PassengerId')"
      ]
     },
     "execution_count": 16,
     "metadata": {},
     "output_type": "execute_result"
    }
   ],
   "source": [
    "train_X_df.head().index"
   ]
  },
  {
   "cell_type": "markdown",
   "metadata": {
    "Collapsed": "false"
   },
   "source": [
    "&#9889; Mình đã cố định `random_state` trong `train_test_split` để đảm bảo kết quả của mình ra giống với của bạn. Tuy nhiên, mình không biết là với các hệ điều hành khác nhau thì điều này có được đảm bảo không. Kết quả của câu lệnh `train_X_df.head().index` của mình ra 5 giá trị là: 232, 837, 640, 390, 598. Nếu của bạn ra khác thì bạn báo lại trên moodle, vì nếu ra khác thì các kết quả lúc sau của bạn cũng sẽ khác với của mình. "
   ]
  },
  {
   "cell_type": "markdown",
   "metadata": {
    "Collapsed": "false"
   },
   "source": [
    "---"
   ]
  },
  {
   "cell_type": "markdown",
   "metadata": {
    "Collapsed": "false"
   },
   "source": [
    "## Khám phá dữ liệu (tập huấn luyện)"
   ]
  },
  {
   "cell_type": "markdown",
   "metadata": {},
   "source": [
    "Sau khi đã tách ra các tập thì ta có thể thoải mái khám phá trên tập huấn luyện mà không lo sẽ làm kết quả trên tập validation và tập kiểm tra bị mất đi sự khách quan."
   ]
  },
  {
   "cell_type": "markdown",
   "metadata": {},
   "source": [
    "### Mỗi cột input hiện đang có kiểu dữ liệu gì? Có cột nào có kiểu dữ liệu chưa phù hợp để có thể xử lý tiếp không?"
   ]
  },
  {
   "cell_type": "code",
   "execution_count": 17,
   "metadata": {},
   "outputs": [
    {
     "data": {
      "text/plain": [
       "Pclass        int64\n",
       "Name         object\n",
       "Sex          object\n",
       "Age         float64\n",
       "SibSp         int64\n",
       "Parch         int64\n",
       "Ticket       object\n",
       "Fare        float64\n",
       "Cabin        object\n",
       "Embarked     object\n",
       "dtype: object"
      ]
     },
     "execution_count": 17,
     "metadata": {},
     "output_type": "execute_result"
    }
   ],
   "source": [
    "train_X_df.dtypes"
   ]
  },
  {
   "cell_type": "markdown",
   "metadata": {},
   "source": [
    "Có vẻ các cột đều có kiểu dữ liệu phù hợp. "
   ]
  },
  {
   "cell_type": "markdown",
   "metadata": {},
   "source": [
    "### Với mỗi cột input có kiểu dữ liệu dạng số, các giá trị được phân bố như thế nào?"
   ]
  },
  {
   "cell_type": "markdown",
   "metadata": {},
   "source": [
    "Trong `train_X_df`, có 5/10 cột có dtype không phải là object:"
   ]
  },
  {
   "cell_type": "code",
   "execution_count": 18,
   "metadata": {},
   "outputs": [
    {
     "data": {
      "text/plain": [
       "Pclass      int64\n",
       "Age       float64\n",
       "SibSp       int64\n",
       "Parch       int64\n",
       "Fare      float64\n",
       "dtype: object"
      ]
     },
     "execution_count": 18,
     "metadata": {},
     "output_type": "execute_result"
    }
   ],
   "source": [
    "train_X_df.dtypes[train_X_df.dtypes != object]"
   ]
  },
  {
   "cell_type": "markdown",
   "metadata": {},
   "source": [
    "Nhưng thật ra chỉ có 4 cột thật sự là dạng số: \"Age\", \"SibSp\", \"Parch\", \"Fare\". Còn cột \"Pclass\" thật ra là dạng categorical."
   ]
  },
  {
   "cell_type": "code",
   "execution_count": 19,
   "metadata": {},
   "outputs": [
    {
     "data": {
      "text/html": [
       "<div>\n",
       "<style scoped>\n",
       "    .dataframe tbody tr th:only-of-type {\n",
       "        vertical-align: middle;\n",
       "    }\n",
       "\n",
       "    .dataframe tbody tr th {\n",
       "        vertical-align: top;\n",
       "    }\n",
       "\n",
       "    .dataframe thead th {\n",
       "        text-align: right;\n",
       "    }\n",
       "</style>\n",
       "<table border=\"1\" class=\"dataframe\">\n",
       "  <thead>\n",
       "    <tr style=\"text-align: right;\">\n",
       "      <th></th>\n",
       "      <th>Age</th>\n",
       "      <th>SibSp</th>\n",
       "      <th>Parch</th>\n",
       "      <th>Fare</th>\n",
       "    </tr>\n",
       "  </thead>\n",
       "  <tbody>\n",
       "    <tr>\n",
       "      <th>missing_ratio</th>\n",
       "      <td>20.40</td>\n",
       "      <td>0.0</td>\n",
       "      <td>0.0</td>\n",
       "      <td>0.0000</td>\n",
       "    </tr>\n",
       "    <tr>\n",
       "      <th>min</th>\n",
       "      <td>0.42</td>\n",
       "      <td>0.0</td>\n",
       "      <td>0.0</td>\n",
       "      <td>0.0000</td>\n",
       "    </tr>\n",
       "    <tr>\n",
       "      <th>lower_quartile</th>\n",
       "      <td>20.00</td>\n",
       "      <td>0.0</td>\n",
       "      <td>0.0</td>\n",
       "      <td>7.9000</td>\n",
       "    </tr>\n",
       "    <tr>\n",
       "      <th>median</th>\n",
       "      <td>28.80</td>\n",
       "      <td>0.0</td>\n",
       "      <td>0.0</td>\n",
       "      <td>14.5000</td>\n",
       "    </tr>\n",
       "    <tr>\n",
       "      <th>upper_quartile</th>\n",
       "      <td>38.00</td>\n",
       "      <td>1.0</td>\n",
       "      <td>0.0</td>\n",
       "      <td>31.0000</td>\n",
       "    </tr>\n",
       "    <tr>\n",
       "      <th>max</th>\n",
       "      <td>80.00</td>\n",
       "      <td>8.0</td>\n",
       "      <td>5.0</td>\n",
       "      <td>512.3292</td>\n",
       "    </tr>\n",
       "  </tbody>\n",
       "</table>\n",
       "</div>"
      ],
      "text/plain": [
       "                  Age  SibSp  Parch      Fare\n",
       "missing_ratio   20.40    0.0    0.0    0.0000\n",
       "min              0.42    0.0    0.0    0.0000\n",
       "lower_quartile  20.00    0.0    0.0    7.9000\n",
       "median          28.80    0.0    0.0   14.5000\n",
       "upper_quartile  38.00    1.0    0.0   31.0000\n",
       "max             80.00    8.0    5.0  512.3292"
      ]
     },
     "execution_count": 19,
     "metadata": {},
     "output_type": "execute_result"
    }
   ],
   "source": [
    "num_cols = ['Age', 'SibSp', 'Parch', 'Fare']\n",
    "df = train_X_df[num_cols]\n",
    "def missing_ratio(df):\n",
    "    return (df.isna().mean() * 100).round(1)\n",
    "def lower_quartile(df):\n",
    "    return df.quantile(0.25).round(1)\n",
    "def median(df):\n",
    "    return df.quantile(0.5).round(1)\n",
    "def upper_quartile(df):\n",
    "    return df.quantile(0.75).round(1)\n",
    "df.agg([missing_ratio, 'min', lower_quartile, median, upper_quartile, 'max'])"
   ]
  },
  {
   "cell_type": "markdown",
   "metadata": {},
   "source": [
    "Hmm ..."
   ]
  },
  {
   "cell_type": "markdown",
   "metadata": {},
   "source": [
    "### Với mỗi cột input có kiểu dữ liệu không phải dạng số, các giá trị được phân bố như thế nào?"
   ]
  },
  {
   "cell_type": "code",
   "execution_count": 20,
   "metadata": {
    "Collapsed": "false"
   },
   "outputs": [
    {
     "data": {
      "text/html": [
       "<div>\n",
       "<style scoped>\n",
       "    .dataframe tbody tr th:only-of-type {\n",
       "        vertical-align: middle;\n",
       "    }\n",
       "\n",
       "    .dataframe tbody tr th {\n",
       "        vertical-align: top;\n",
       "    }\n",
       "\n",
       "    .dataframe thead th {\n",
       "        text-align: right;\n",
       "    }\n",
       "</style>\n",
       "<table border=\"1\" class=\"dataframe\">\n",
       "  <thead>\n",
       "    <tr style=\"text-align: right;\">\n",
       "      <th></th>\n",
       "      <th>Pclass</th>\n",
       "      <th>Cabin</th>\n",
       "      <th>Embarked</th>\n",
       "      <th>Ticket</th>\n",
       "      <th>Name</th>\n",
       "      <th>Sex</th>\n",
       "    </tr>\n",
       "  </thead>\n",
       "  <tbody>\n",
       "    <tr>\n",
       "      <th>missing_ratio</th>\n",
       "      <td>0</td>\n",
       "      <td>77</td>\n",
       "      <td>0.3</td>\n",
       "      <td>0</td>\n",
       "      <td>0</td>\n",
       "      <td>0</td>\n",
       "    </tr>\n",
       "    <tr>\n",
       "      <th>num_values</th>\n",
       "      <td>3</td>\n",
       "      <td>114</td>\n",
       "      <td>3</td>\n",
       "      <td>499</td>\n",
       "      <td>623</td>\n",
       "      <td>2</td>\n",
       "    </tr>\n",
       "    <tr>\n",
       "      <th>value_ratios</th>\n",
       "      <td>{3: 54.1, 1: 25.0, 2: 20.9}</td>\n",
       "      <td>{'B96 B98': 2.1, 'G6': 2.1, 'C23 C25 C27': 2.1, 'E33': 1.4, 'B20': 1.4, 'B5': 1.4, 'C52': 1.4, 'C83': 1.4, 'C68': 1.4, 'D35': 1.4, 'E101': 1.4, 'D33': 1.4, 'E24': 1.4, 'B77': 1.4, 'B49': 1.4, 'B51...</td>\n",
       "      <td>{'S': 73.3, 'C': 18.7, 'Q': 8.1}</td>\n",
       "      <td>{'1601': 1.0, '347088': 1.0, '382652': 0.8, '347082': 0.8, '4133': 0.6, 'CA. 2343': 0.6, '17421': 0.5, '371110': 0.5, '3101295': 0.5, '113760': 0.5, 'C.A. 34651': 0.5, 'CA 2144': 0.5, 'PC 17757': ...</td>\n",
       "      <td>{'Coxon, Mr. Daniel': 0.2, 'Sandstrom, Miss. Marguerite Rut': 0.2, 'Sedgwick, Mr. Charles Frederick Waddington': 0.2, 'Rush, Mr. Alfred George John': 0.2, 'Goldenberg, Mr. Samuel L': 0.2, 'Mineff,...</td>\n",
       "      <td>{'male': 64.8, 'female': 35.2}</td>\n",
       "    </tr>\n",
       "  </tbody>\n",
       "</table>\n",
       "</div>"
      ],
      "text/plain": [
       "                                    Pclass  \\\n",
       "missing_ratio                            0   \n",
       "num_values                               3   \n",
       "value_ratios   {3: 54.1, 1: 25.0, 2: 20.9}   \n",
       "\n",
       "                                                                                                                                                                                                                 Cabin  \\\n",
       "missing_ratio                                                                                                                                                                                                       77   \n",
       "num_values                                                                                                                                                                                                         114   \n",
       "value_ratios   {'B96 B98': 2.1, 'G6': 2.1, 'C23 C25 C27': 2.1, 'E33': 1.4, 'B20': 1.4, 'B5': 1.4, 'C52': 1.4, 'C83': 1.4, 'C68': 1.4, 'D35': 1.4, 'E101': 1.4, 'D33': 1.4, 'E24': 1.4, 'B77': 1.4, 'B49': 1.4, 'B51...   \n",
       "\n",
       "                                       Embarked  \\\n",
       "missing_ratio                               0.3   \n",
       "num_values                                    3   \n",
       "value_ratios   {'S': 73.3, 'C': 18.7, 'Q': 8.1}   \n",
       "\n",
       "                                                                                                                                                                                                                Ticket  \\\n",
       "missing_ratio                                                                                                                                                                                                        0   \n",
       "num_values                                                                                                                                                                                                         499   \n",
       "value_ratios   {'1601': 1.0, '347088': 1.0, '382652': 0.8, '347082': 0.8, '4133': 0.6, 'CA. 2343': 0.6, '17421': 0.5, '371110': 0.5, '3101295': 0.5, '113760': 0.5, 'C.A. 34651': 0.5, 'CA 2144': 0.5, 'PC 17757': ...   \n",
       "\n",
       "                                                                                                                                                                                                                  Name  \\\n",
       "missing_ratio                                                                                                                                                                                                        0   \n",
       "num_values                                                                                                                                                                                                         623   \n",
       "value_ratios   {'Coxon, Mr. Daniel': 0.2, 'Sandstrom, Miss. Marguerite Rut': 0.2, 'Sedgwick, Mr. Charles Frederick Waddington': 0.2, 'Rush, Mr. Alfred George John': 0.2, 'Goldenberg, Mr. Samuel L': 0.2, 'Mineff,...   \n",
       "\n",
       "                                          Sex  \n",
       "missing_ratio                               0  \n",
       "num_values                                  2  \n",
       "value_ratios   {'male': 64.8, 'female': 35.2}  "
      ]
     },
     "execution_count": 20,
     "metadata": {},
     "output_type": "execute_result"
    }
   ],
   "source": [
    "pd.set_option('display.max_colwidth', 200) # Để nhìn rõ hơn\n",
    "cat_cols = list(set(train_X_df.columns) - set(num_cols))\n",
    "df = train_X_df[cat_cols]\n",
    "def missing_ratio(df):\n",
    "    return (df.isna().mean() * 100).round(1)\n",
    "def num_values(df):\n",
    "    return df.nunique()\n",
    "def value_ratios(c):\n",
    "    return dict((c.value_counts(normalize=True) * 100).round(1))\n",
    "df.agg([missing_ratio, num_values, value_ratios])"
   ]
  },
  {
   "cell_type": "markdown",
   "metadata": {},
   "source": [
    "Hmm ..."
   ]
  },
  {
   "cell_type": "markdown",
   "metadata": {
    "Collapsed": "false"
   },
   "source": [
    "---"
   ]
  },
  {
   "cell_type": "markdown",
   "metadata": {},
   "source": [
    "## Tiền xử lý (tập huấn luyện) (3.5đ)"
   ]
  },
  {
   "cell_type": "markdown",
   "metadata": {
    "Collapsed": "false"
   },
   "source": [
    "Đầu tiên, ta sẽ thêm và bỏ một số cột như sau: \n",
    "- Với cột \"Name\", ta sẽ tiến hành rút trích ra cột \"Title\" tương ứng, gồm các giá trị như \"Miss\", \"Mrs\", \"Mr\", \"Master\" ..., vì trong tên thì phần này có vẻ là sẽ có ích cho việc dự đoán sống/chết. Tuy nhiên, bạn sẽ thấy \"Title\" có khá nhiều giá trị khác nhau trong tập huấn luyện (bạn thử thì sẽ thấy có 14 giá trị), trong đó có các giá trị chỉ xuất hiện một hoặc một ít lần; nếu ta để nguyên thì khi chuyển sang dạng số bằng phương pháp one-hot sẽ có nhiều cột &#8594; dễ bị overfit. Ta sẽ xử lý vấn đề này như sau: chỉ lấy `num_top_titles` (ví dụ, 4) giá trị xuất hiện nhiều nhất, các giá trị còn lại sẽ được thay thế bằng giá trị \"Others\". Lúc sau, ta sẽ thí nghiệm để chọn ra giá trị `num_top_titles` phù hợp. Sau khi xử lý cột \"Title\" như vừa nói, ta thêm cột này vào dataframe và bỏ cột \"Name\" đi.\n",
    "- Bỏ cột \"Cabin\" vì cột này có quá nhiều giá thiếu.\n",
    "- Bỏ cột \"Ticket\" vì cột này có rất nhiều giá trị khác nhau, nếu chuyển sang dạng số bằng phương pháp one-hot thì sẽ làm tăng số lượng cột lên rất nhiều.\n",
    "\n",
    "Class `ColAdderDropper` ở dưới đây sẽ thực hiện các bước ở trên. Vì trong các bước ở trên, có bước ta cần tính toán các giá trị từ tập huấn luyện (`num_top_titles` giá trị của cột \"Title\" mà xuất hiện nhiều nhất) và dùng các giá trị này để \"transform\" tập dữ liệu (có thể là tập huấn luyện, có thể là tập validation hoặc tập kiểm tra) nên ta phải tự định nghĩa một class theo dạng \"transformer\" của Sklearn (để lúc sau có thể dùng pipeline của Sklearn) và trong đó ta phải tự định nghĩa phương thức `fit` và `transform` (còn nếu chỉ cần \"transform\" tập dữ liệu mà không cần tính toán giá trị gì từ tập huấn luyện thì dùng `FunctionTransformer` như trong file \"08-Demo.ipynb\" sẽ tiện lợi hơn). Bạn lưu ý: phương thức `fit` chỉ được dùng trên tập huấn luyện, còn phương thức `transform` (sau khi đã `fit`) có thể được dùng cho bất kỳ tập nào. Ở dưới, mình đã viết cho bạn phương thức `fit`; sau khi `fit`, các giá trị của cột \"Title\" cùng với số lần xuất hiện sẽ được lưu vào thuộc tính `self.title_counts_` (khi \"transform\" thì không cần dùng đến thông tin này, nhưng có thể bạn sẽ muốn xem thông in này), và `num_top_titles` giá trị xuất hiện nhiều nhất sẽ được lưu vào `self.top_titles_` (`num_top_titles` là siêu tham số mà phải chỉ định khi tạo ra một đối tượng thuộc class này). Nhiệm vụ của bạn là hoàn thành phương thức `transform` (trong đó, sẽ cần dùng đến `self.top_titles_`); bạn lưu ý không làm thay đổi dữ liệu ở `X_df` truyền vào.\n",
    "\n",
    "Ngoài ra, như bạn có thể thấy ở bên dưới, class `ColAdderDropper` được kế thừa từ 2 class của Sklearn là `BaseEstimator` và `TransformerMixin`. Việc kế thừa này giúp class của ta tự động có các phương thức như `set_params`, `get_params`, `fit_transform` (nếu không thì ta sẽ phải tự định nghĩa các phương thức này). Nếu muốn tìm hiểu thêm về cách viết class theo dạng của Sklearn, bạn có thể đọc [ở đây](https://scikit-learn.org/stable/developers/develop.html?highlight=baseestimator)."
   ]
  },
  {
   "cell_type": "code",
   "execution_count": 21,
   "metadata": {
    "Collapsed": "false",
    "deletable": false,
    "nbgrader": {
     "cell_type": "code",
     "checksum": "0dda65a5c2f1394f88a1e4ac11ac7d8d",
     "grade": false,
     "grade_id": "cell-c2cb62acb65582f6",
     "locked": false,
     "schema_version": 3,
     "solution": true,
     "task": false
    }
   },
   "outputs": [],
   "source": [
    "class ColAdderDropper(BaseEstimator, TransformerMixin):\n",
    "    def __init__(self, num_top_titles=1):\n",
    "        self.num_top_titles = num_top_titles\n",
    "    def fit(self, X_df, y=None):\n",
    "        title_col = X_df.Name.str.extract(r'([a-zA-z]+)\\.', expand=False)\n",
    "        self.title_counts_ = title_col.value_counts()\n",
    "        titles = list(self.title_counts_.index)\n",
    "        self.top_titles_ = titles[:max(1, min(self.num_top_titles, len(titles)))]\n",
    "        return self\n",
    "    def transform(self, X_df, y=None):\n",
    "        # YOUR CODE HERE\n",
    "        X_df_Cpy = X_df.copy()\n",
    "        X_df_Cpy['Title'] = X_df_Cpy.Name.str.extract(r'([a-zA-z]+)\\.', expand=False)\n",
    "        X_df_Cpy.loc[~X_df_Cpy['Title'].isin(self.top_titles_), 'Title'] = 'Others'\n",
    "        X_df_Cpy.drop(['Name','Cabin','Ticket'], axis=1, inplace = True)\n",
    "        return X_df_Cpy"
   ]
  },
  {
   "cell_type": "code",
   "execution_count": 22,
   "metadata": {},
   "outputs": [
    {
     "name": "stdout",
     "output_type": "stream",
     "text": [
      "Mr          357\n",
      "Miss        125\n",
      "Mrs          89\n",
      "Master       32\n",
      "Dr            7\n",
      "Rev           5\n",
      "Jonkheer      1\n",
      "Capt          1\n",
      "Don           1\n",
      "Ms            1\n",
      "Mme           1\n",
      "Countess      1\n",
      "Col           1\n",
      "Mlle          1\n",
      "Name: Name, dtype: int64\n",
      "\n",
      "['Mr', 'Miss', 'Mrs', 'Master']\n"
     ]
    }
   ],
   "source": [
    "# TEST FIT METHOD\n",
    "col_adderdropper = ColAdderDropper(num_top_titles=4)\n",
    "col_adderdropper.fit(train_X_df)\n",
    "print(col_adderdropper.title_counts_)\n",
    "print()\n",
    "print(col_adderdropper.top_titles_)"
   ]
  },
  {
   "cell_type": "code",
   "execution_count": 23,
   "metadata": {
    "Collapsed": "false",
    "deletable": false,
    "editable": false,
    "nbgrader": {
     "cell_type": "code",
     "checksum": "8894ed9a78d71de03e47528b355002af",
     "grade": true,
     "grade_id": "cell-7a54f3df0d0a2556",
     "locked": true,
     "points": 1,
     "schema_version": 3,
     "solution": false,
     "task": false
    },
    "scrolled": true
   },
   "outputs": [
    {
     "data": {
      "text/html": [
       "<div>\n",
       "<style scoped>\n",
       "    .dataframe tbody tr th:only-of-type {\n",
       "        vertical-align: middle;\n",
       "    }\n",
       "\n",
       "    .dataframe tbody tr th {\n",
       "        vertical-align: top;\n",
       "    }\n",
       "\n",
       "    .dataframe thead th {\n",
       "        text-align: right;\n",
       "    }\n",
       "</style>\n",
       "<table border=\"1\" class=\"dataframe\">\n",
       "  <thead>\n",
       "    <tr style=\"text-align: right;\">\n",
       "      <th></th>\n",
       "      <th>Pclass</th>\n",
       "      <th>Sex</th>\n",
       "      <th>Age</th>\n",
       "      <th>SibSp</th>\n",
       "      <th>Parch</th>\n",
       "      <th>Fare</th>\n",
       "      <th>Embarked</th>\n",
       "      <th>Title</th>\n",
       "    </tr>\n",
       "    <tr>\n",
       "      <th>PassengerId</th>\n",
       "      <th></th>\n",
       "      <th></th>\n",
       "      <th></th>\n",
       "      <th></th>\n",
       "      <th></th>\n",
       "      <th></th>\n",
       "      <th></th>\n",
       "      <th></th>\n",
       "    </tr>\n",
       "  </thead>\n",
       "  <tbody>\n",
       "    <tr>\n",
       "      <th>232</th>\n",
       "      <td>3</td>\n",
       "      <td>male</td>\n",
       "      <td>29.0</td>\n",
       "      <td>0</td>\n",
       "      <td>0</td>\n",
       "      <td>7.7750</td>\n",
       "      <td>S</td>\n",
       "      <td>Mr</td>\n",
       "    </tr>\n",
       "    <tr>\n",
       "      <th>837</th>\n",
       "      <td>3</td>\n",
       "      <td>male</td>\n",
       "      <td>21.0</td>\n",
       "      <td>0</td>\n",
       "      <td>0</td>\n",
       "      <td>8.6625</td>\n",
       "      <td>S</td>\n",
       "      <td>Mr</td>\n",
       "    </tr>\n",
       "    <tr>\n",
       "      <th>640</th>\n",
       "      <td>3</td>\n",
       "      <td>male</td>\n",
       "      <td>NaN</td>\n",
       "      <td>1</td>\n",
       "      <td>0</td>\n",
       "      <td>16.1000</td>\n",
       "      <td>S</td>\n",
       "      <td>Mr</td>\n",
       "    </tr>\n",
       "    <tr>\n",
       "      <th>390</th>\n",
       "      <td>2</td>\n",
       "      <td>female</td>\n",
       "      <td>17.0</td>\n",
       "      <td>0</td>\n",
       "      <td>0</td>\n",
       "      <td>12.0000</td>\n",
       "      <td>C</td>\n",
       "      <td>Miss</td>\n",
       "    </tr>\n",
       "    <tr>\n",
       "      <th>598</th>\n",
       "      <td>3</td>\n",
       "      <td>male</td>\n",
       "      <td>49.0</td>\n",
       "      <td>0</td>\n",
       "      <td>0</td>\n",
       "      <td>0.0000</td>\n",
       "      <td>S</td>\n",
       "      <td>Mr</td>\n",
       "    </tr>\n",
       "  </tbody>\n",
       "</table>\n",
       "</div>"
      ],
      "text/plain": [
       "             Pclass     Sex   Age  SibSp  Parch     Fare Embarked Title\n",
       "PassengerId                                                            \n",
       "232               3    male  29.0      0      0   7.7750        S    Mr\n",
       "837               3    male  21.0      0      0   8.6625        S    Mr\n",
       "640               3    male   NaN      1      0  16.1000        S    Mr\n",
       "390               2  female  17.0      0      0  12.0000        C  Miss\n",
       "598               3    male  49.0      0      0   0.0000        S    Mr"
      ]
     },
     "execution_count": 23,
     "metadata": {},
     "output_type": "execute_result"
    }
   ],
   "source": [
    "# TEST TRANSFORM METHOD\n",
    "fewer_cols_train_X_df = col_adderdropper.transform(train_X_df)\n",
    "assert set(fewer_cols_train_X_df.columns) == {'Age', 'Embarked', 'Fare', 'Parch', 'Pclass', 'Sex', 'SibSp', 'Title'}\n",
    "assert np.all(fewer_cols_train_X_df['Title'].value_counts() == \\\n",
    "              pd.Series([357, 125, 89, 32, 20], ['Mr', 'Miss', 'Mrs', 'Master', 'Others']))\n",
    "fewer_cols_train_X_df.head()"
   ]
  },
  {
   "cell_type": "markdown",
   "metadata": {
    "Collapsed": "false"
   },
   "source": [
    "Đến đây, các cột dạng số (numerical) gồm: \"Age\", \"SibSp\", \"Parch\", \"Fare\"; các cột không phải dạng số (categorical) và không có thứ tự gồm: \"Sex\", \"Embarked\", \"Title\"; cột không phải dạng số và có thứ tự: \"PClass\". Các bước tiền xử lý tiếp theo như sau:\n",
    "- Với các cột dạng số, ta sẽ điền giá trị thiếu bằng giá trị mean của cột <font color=gray>(gợi ý: dùng `SimpleImputer` trong Sklearn)</font>. Với *tất cả* các cột dạng số trong tập huấn luyện, ta đều cần tính mean, vì ta không biết được cột nào sẽ bị thiếu giá trị khi dự đoán với các véc-tơ input mới. \n",
    "- Với các cột không phải dạng số và không có thứ tự:\n",
    "    - Ta sẽ điền giá trị thiếu bằng giá trị mode (giá trị xuất hiện nhiều nhất) của cột <font color=gray>(gợi ý: dùng `SimpleImputer` trong Sklearn)</font>. Với *tất cả* các cột không có dạng số và không có thứ tự, ta đều cần tính mode, vì ta không biết được cột nào sẽ bị thiếu giá trị khi dự đoán với các véc-tơ input mới.\n",
    "    - Sau đó, ta sẽ chuyển sang dạng số bằng phương pháp mã hóa one-hot <font color=gray>(gợi ý: dùng `OneHotEncoder` trong Sklearn, để ý tham số `handle_unknown` vì khi dự đoán với các véc-tơ input mới ...)</font>.\n",
    "- Với cột không phải dạng số và có thứ tự (cột \"PClass\"):\n",
    "    - Ta sẽ điền giá trị thiếu bằng giá trị mode (giá trị xuất hiện nhiều nhất) của cột.\n",
    "    - Cột này đã được chuyển sang dạng số rồi nên ta không cần chuyển nữa.\n",
    "- Cuối cùng, khi tất cả các cột đã được điền giá trị thiếu và đã có dạng số, ta sẽ tiến hành chuẩn hóa bằng cách trừ đi mean và chia cho độ lệch chuẩn của cột để giúp cho các thuật toán cực tiểu hóa như Gradient Descent, LBFGS, ... hội tụ nhanh hơn <font color=gray>(gợi ý: dùng `StandardScaler` trong Sklearn)</font>.\n",
    "\n",
    "Nhiệm vụ của bạn là tạo ra một pipeline, đặt tên là `preprocess_pipeline`, bao gồm: bước thêm cột `Title` và bỏ các cột (đã cài ở class `ColAdderDropper`, bạn để `num_top_titles=4`), và tất cả các bước ở đây. Sau khi tạo ra được pipeline này rồi, bạn sẽ gọi phương thức `fit_transform` với đầu vào là `train_X_df` để tính các giá trị từ tập huấn luyện (ví dụ, `top_titles_` ở bước thêm và xóa cột, mean và mode ở bước xử lý giá trị thiếu, mean và độ lệch chuẩn ở bước chuẩn hóa) và đồng thời tiền xử lý `train_X_df`; kết quả trả về sẽ là `train_X_df` sau khi đã tiền xử lý, là một mảng Numpy, bạn đặt tên là `preprocessed_train_X`. <font color=gray>(Gợi ý: bạn đọc cách sử dụng pipeline ở [document](https://scikit-learn.org/stable/modules/compose.html#transforming-target-in-regression), có thể bỏ qua mục 6.1.2; bạn sẽ cần dùng `Pipeline`/`make_pipeline` và `ColumnTransformer`/`make_column_transformer`.)</font>"
   ]
  },
  {
   "cell_type": "code",
   "execution_count": 24,
   "metadata": {
    "Collapsed": "false",
    "deletable": false,
    "nbgrader": {
     "cell_type": "code",
     "checksum": "e7a1d4ae5e4fa50b60b4998de6be96a1",
     "grade": false,
     "grade_id": "cell-ae75d7dfa7256c7f",
     "locked": false,
     "schema_version": 3,
     "solution": true
    }
   },
   "outputs": [],
   "source": [
    "nume_cols = ['Age', 'SibSp', 'Parch', 'Fare']\n",
    "unorder_cate_cols = ['Sex', 'Embarked', 'Title']\n",
    "order_cate_cols = ['Pclass']\n",
    "# YOUR CODE HERE\n",
    "unorder_cate_cols_transformer = make_pipeline(SimpleImputer(missing_values=np.nan, strategy='most_frequent'),\n",
    "                                              OneHotEncoder(handle_unknown='ignore'))\n",
    "columns_transformer = make_column_transformer(\n",
    "    (SimpleImputer(missing_values=np.nan, strategy='mean'), nume_cols),\n",
    "    (unorder_cate_cols_transformer, unorder_cate_cols),\n",
    "    (SimpleImputer(missing_values=np.nan, strategy='most_frequent'), order_cate_cols),\n",
    "    remainder='passthrough')\n",
    "preprocess_pipeline = make_pipeline(ColAdderDropper(num_top_titles=4), columns_transformer, StandardScaler())\n",
    "preprocessed_train_X = preprocess_pipeline.fit_transform(train_X_df)"
   ]
  },
  {
   "cell_type": "code",
   "execution_count": 25,
   "metadata": {
    "Collapsed": "false",
    "deletable": false,
    "editable": false,
    "nbgrader": {
     "cell_type": "code",
     "checksum": "8e1467ce6e547f6d16ca0fe78775b3ad",
     "grade": true,
     "grade_id": "cell-1cf65ae2cdb14c0c",
     "locked": true,
     "points": 2.5,
     "schema_version": 3,
     "solution": false
    }
   },
   "outputs": [
    {
     "data": {
      "text/html": [
       "<style>div.sk-top-container {color: black;background-color: white;}div.sk-toggleable {background-color: white;}label.sk-toggleable__label {cursor: pointer;display: block;width: 100%;margin-bottom: 0;padding: 0.2em 0.3em;box-sizing: border-box;text-align: center;}div.sk-toggleable__content {max-height: 0;max-width: 0;overflow: hidden;text-align: left;background-color: #f0f8ff;}div.sk-toggleable__content pre {margin: 0.2em;color: black;border-radius: 0.25em;background-color: #f0f8ff;}input.sk-toggleable__control:checked~div.sk-toggleable__content {max-height: 200px;max-width: 100%;overflow: auto;}div.sk-estimator input.sk-toggleable__control:checked~label.sk-toggleable__label {background-color: #d4ebff;}div.sk-label input.sk-toggleable__control:checked~label.sk-toggleable__label {background-color: #d4ebff;}input.sk-hidden--visually {border: 0;clip: rect(1px 1px 1px 1px);clip: rect(1px, 1px, 1px, 1px);height: 1px;margin: -1px;overflow: hidden;padding: 0;position: absolute;width: 1px;}div.sk-estimator {font-family: monospace;background-color: #f0f8ff;margin: 0.25em 0.25em;border: 1px dotted black;border-radius: 0.25em;box-sizing: border-box;}div.sk-estimator:hover {background-color: #d4ebff;}div.sk-parallel-item::after {content: \"\";width: 100%;border-bottom: 1px solid gray;flex-grow: 1;}div.sk-label:hover label.sk-toggleable__label {background-color: #d4ebff;}div.sk-serial::before {content: \"\";position: absolute;border-left: 1px solid gray;box-sizing: border-box;top: 2em;bottom: 0;left: 50%;}div.sk-serial {display: flex;flex-direction: column;align-items: center;background-color: white;}div.sk-item {z-index: 1;}div.sk-parallel {display: flex;align-items: stretch;justify-content: center;background-color: white;}div.sk-parallel-item {display: flex;flex-direction: column;position: relative;background-color: white;}div.sk-parallel-item:first-child::after {align-self: flex-end;width: 50%;}div.sk-parallel-item:last-child::after {align-self: flex-start;width: 50%;}div.sk-parallel-item:only-child::after {width: 0;}div.sk-dashed-wrapped {border: 1px dashed gray;margin: 0.2em;box-sizing: border-box;padding-bottom: 0.1em;background-color: white;position: relative;}div.sk-label label {font-family: monospace;font-weight: bold;background-color: white;display: inline-block;line-height: 1.2em;}div.sk-label-container {position: relative;z-index: 2;text-align: center;}div.sk-container {display: inline-block;position: relative;}</style><div class=\"sk-top-container\"><div class=\"sk-container\"><div class=\"sk-item sk-dashed-wrapped\"><div class=\"sk-label-container\"><div class=\"sk-label sk-toggleable\"><input class=\"sk-toggleable__control sk-hidden--visually\" id=\"406104a6-c84c-4dd7-ba39-fc5cb004a0ba\" type=\"checkbox\" ><label class=\"sk-toggleable__label\" for=\"406104a6-c84c-4dd7-ba39-fc5cb004a0ba\">Pipeline</label><div class=\"sk-toggleable__content\"><pre>Pipeline(steps=[('coladderdropper', ColAdderDropper(num_top_titles=4)),\n",
       "                ('columntransformer',\n",
       "                 ColumnTransformer(remainder='passthrough',\n",
       "                                   transformers=[('simpleimputer-1',\n",
       "                                                  SimpleImputer(),\n",
       "                                                  ['Age', 'SibSp', 'Parch',\n",
       "                                                   'Fare']),\n",
       "                                                 ('pipeline',\n",
       "                                                  Pipeline(steps=[('simpleimputer',\n",
       "                                                                   SimpleImputer(strategy='most_frequent')),\n",
       "                                                                  ('onehotencoder',\n",
       "                                                                   OneHotEncoder(handle_unknown='ignore'))]),\n",
       "                                                  ['Sex', 'Embarked', 'Title']),\n",
       "                                                 ('simpleimputer-2',\n",
       "                                                  SimpleImputer(strategy='most_frequent'),\n",
       "                                                  ['Pclass'])])),\n",
       "                ('standardscaler', StandardScaler())])</pre></div></div></div><div class=\"sk-serial\"><div class=\"sk-item\"><div class=\"sk-estimator sk-toggleable\"><input class=\"sk-toggleable__control sk-hidden--visually\" id=\"b1763e74-f22c-4da9-a5a6-e61f203663eb\" type=\"checkbox\" ><label class=\"sk-toggleable__label\" for=\"b1763e74-f22c-4da9-a5a6-e61f203663eb\">ColAdderDropper</label><div class=\"sk-toggleable__content\"><pre>ColAdderDropper(num_top_titles=4)</pre></div></div></div><div class=\"sk-item sk-dashed-wrapped\"><div class=\"sk-label-container\"><div class=\"sk-label sk-toggleable\"><input class=\"sk-toggleable__control sk-hidden--visually\" id=\"e443613b-fd56-472d-86da-a13c6e90b02c\" type=\"checkbox\" ><label class=\"sk-toggleable__label\" for=\"e443613b-fd56-472d-86da-a13c6e90b02c\">columntransformer: ColumnTransformer</label><div class=\"sk-toggleable__content\"><pre>ColumnTransformer(remainder='passthrough',\n",
       "                  transformers=[('simpleimputer-1', SimpleImputer(),\n",
       "                                 ['Age', 'SibSp', 'Parch', 'Fare']),\n",
       "                                ('pipeline',\n",
       "                                 Pipeline(steps=[('simpleimputer',\n",
       "                                                  SimpleImputer(strategy='most_frequent')),\n",
       "                                                 ('onehotencoder',\n",
       "                                                  OneHotEncoder(handle_unknown='ignore'))]),\n",
       "                                 ['Sex', 'Embarked', 'Title']),\n",
       "                                ('simpleimputer-2',\n",
       "                                 SimpleImputer(strategy='most_frequent'),\n",
       "                                 ['Pclass'])])</pre></div></div></div><div class=\"sk-parallel\"><div class=\"sk-parallel-item\"><div class=\"sk-item\"><div class=\"sk-label-container\"><div class=\"sk-label sk-toggleable\"><input class=\"sk-toggleable__control sk-hidden--visually\" id=\"065dc20f-a5f0-4782-a5c9-7dd6ef0c7d42\" type=\"checkbox\" ><label class=\"sk-toggleable__label\" for=\"065dc20f-a5f0-4782-a5c9-7dd6ef0c7d42\">simpleimputer-1</label><div class=\"sk-toggleable__content\"><pre>['Age', 'SibSp', 'Parch', 'Fare']</pre></div></div></div><div class=\"sk-serial\"><div class=\"sk-item\"><div class=\"sk-estimator sk-toggleable\"><input class=\"sk-toggleable__control sk-hidden--visually\" id=\"ed076bc7-6acf-4071-b698-0d8fbfa2f905\" type=\"checkbox\" ><label class=\"sk-toggleable__label\" for=\"ed076bc7-6acf-4071-b698-0d8fbfa2f905\">SimpleImputer</label><div class=\"sk-toggleable__content\"><pre>SimpleImputer()</pre></div></div></div></div></div></div><div class=\"sk-parallel-item\"><div class=\"sk-item\"><div class=\"sk-label-container\"><div class=\"sk-label sk-toggleable\"><input class=\"sk-toggleable__control sk-hidden--visually\" id=\"9dafda44-67e8-4536-bdfc-00eb4fbaf739\" type=\"checkbox\" ><label class=\"sk-toggleable__label\" for=\"9dafda44-67e8-4536-bdfc-00eb4fbaf739\">pipeline</label><div class=\"sk-toggleable__content\"><pre>['Sex', 'Embarked', 'Title']</pre></div></div></div><div class=\"sk-serial\"><div class=\"sk-item\"><div class=\"sk-serial\"><div class=\"sk-item\"><div class=\"sk-estimator sk-toggleable\"><input class=\"sk-toggleable__control sk-hidden--visually\" id=\"35ed266e-f597-4ac1-9865-0abdde501e00\" type=\"checkbox\" ><label class=\"sk-toggleable__label\" for=\"35ed266e-f597-4ac1-9865-0abdde501e00\">SimpleImputer</label><div class=\"sk-toggleable__content\"><pre>SimpleImputer(strategy='most_frequent')</pre></div></div></div><div class=\"sk-item\"><div class=\"sk-estimator sk-toggleable\"><input class=\"sk-toggleable__control sk-hidden--visually\" id=\"1bb5a6d3-5bc9-4ff7-a450-2e7d1c09f21c\" type=\"checkbox\" ><label class=\"sk-toggleable__label\" for=\"1bb5a6d3-5bc9-4ff7-a450-2e7d1c09f21c\">OneHotEncoder</label><div class=\"sk-toggleable__content\"><pre>OneHotEncoder(handle_unknown='ignore')</pre></div></div></div></div></div></div></div></div><div class=\"sk-parallel-item\"><div class=\"sk-item\"><div class=\"sk-label-container\"><div class=\"sk-label sk-toggleable\"><input class=\"sk-toggleable__control sk-hidden--visually\" id=\"5bb11970-01c4-4c96-b1d4-2150af84d70a\" type=\"checkbox\" ><label class=\"sk-toggleable__label\" for=\"5bb11970-01c4-4c96-b1d4-2150af84d70a\">simpleimputer-2</label><div class=\"sk-toggleable__content\"><pre>['Pclass']</pre></div></div></div><div class=\"sk-serial\"><div class=\"sk-item\"><div class=\"sk-estimator sk-toggleable\"><input class=\"sk-toggleable__control sk-hidden--visually\" id=\"ef0c88ab-3424-4128-a4a9-e70922104452\" type=\"checkbox\" ><label class=\"sk-toggleable__label\" for=\"ef0c88ab-3424-4128-a4a9-e70922104452\">SimpleImputer</label><div class=\"sk-toggleable__content\"><pre>SimpleImputer(strategy='most_frequent')</pre></div></div></div></div></div></div></div></div><div class=\"sk-item\"><div class=\"sk-estimator sk-toggleable\"><input class=\"sk-toggleable__control sk-hidden--visually\" id=\"c6246f47-9231-4340-8564-380165bed700\" type=\"checkbox\" ><label class=\"sk-toggleable__label\" for=\"c6246f47-9231-4340-8564-380165bed700\">StandardScaler</label><div class=\"sk-toggleable__content\"><pre>StandardScaler()</pre></div></div></div></div></div></div></div>"
      ],
      "text/plain": [
       "Pipeline(steps=[('coladderdropper', ColAdderDropper(num_top_titles=4)),\n",
       "                ('columntransformer',\n",
       "                 ColumnTransformer(remainder='passthrough',\n",
       "                                   transformers=[('simpleimputer-1',\n",
       "                                                  SimpleImputer(),\n",
       "                                                  ['Age', 'SibSp', 'Parch',\n",
       "                                                   'Fare']),\n",
       "                                                 ('pipeline',\n",
       "                                                  Pipeline(steps=[('simpleimputer',\n",
       "                                                                   SimpleImputer(strategy='most_frequent')),\n",
       "                                                                  ('onehotencoder',\n",
       "                                                                   OneHotEncoder(handle_unknown='ignore'))]),\n",
       "                                                  ['Sex', 'Embarked', 'Title']),\n",
       "                                                 ('simpleimputer-2',\n",
       "                                                  SimpleImputer(strategy='most_frequent'),\n",
       "                                                  ['Pclass'])])),\n",
       "                ('standardscaler', StandardScaler())])"
      ]
     },
     "execution_count": 25,
     "metadata": {},
     "output_type": "execute_result"
    }
   ],
   "source": [
    "# TEST\n",
    "assert preprocessed_train_X.shape == (623, 15)\n",
    "row0 = {-0.041, -0.481, -0.48 , -0.479, -0.736,  0.736, -0.478, -0.295,\n",
    "        0.603, -0.233, -0.501,  0.863, -0.408, -0.182,  0.844}\n",
    "row1 = {-0.664, -0.481, -0.48 , -0.463, -0.736,  0.736, -0.478, -0.295,\n",
    "        0.603, -0.233, -0.501,  0.863, -0.408, -0.182,  0.844}\n",
    "assert set(preprocessed_train_X[0].round(3)) == row0\n",
    "assert set(preprocessed_train_X[1].round(3)) == row1\n",
    "preprocess_pipeline"
   ]
  },
  {
   "cell_type": "markdown",
   "metadata": {
    "Collapsed": "false"
   },
   "source": [
    "## Tiền xử lý (tập validation) (1.5đ)"
   ]
  },
  {
   "cell_type": "markdown",
   "metadata": {
    "Collapsed": "false"
   },
   "source": [
    "Một khi đã có `preprocess_pipeline` với các giá trị (`top_titles_`, mean, mode, ...) đã được tính từ tập huấn luyện, ta có thể dễ dàng dùng phương thức `transform` để tiền xử lý cho các véc-tơ input mới trong tập validation và tập kiểm tra. Dưới đây, bạn sẽ làm như vậy để tiền xử lý cho `val_X_df` và lưu kết quả vào `preprocessed_val_X`."
   ]
  },
  {
   "cell_type": "code",
   "execution_count": 26,
   "metadata": {
    "Collapsed": "false",
    "deletable": false,
    "nbgrader": {
     "cell_type": "code",
     "checksum": "986f547abfe534258eb2c41f692c1084",
     "grade": false,
     "grade_id": "cell-5b00ff693785976e",
     "locked": false,
     "schema_version": 3,
     "solution": true
    }
   },
   "outputs": [],
   "source": [
    "# YOUR CODE HERE\n",
    "preprocessed_val_X = preprocess_pipeline.transform(val_X_df)"
   ]
  },
  {
   "cell_type": "code",
   "execution_count": 27,
   "metadata": {
    "Collapsed": "false",
    "deletable": false,
    "editable": false,
    "nbgrader": {
     "cell_type": "code",
     "checksum": "a78ff2194ae58fc4d73215de771a775b",
     "grade": true,
     "grade_id": "cell-b9c978682fecdf3c",
     "locked": true,
     "points": 0.5,
     "schema_version": 3,
     "solution": false
    }
   },
   "outputs": [],
   "source": [
    "# Test\n",
    "assert preprocessed_val_X.shape == (268, 15)\n",
    "row0 = {-0.664, -0.481, -0.48 , -0.48 , -0.736,  0.736, -0.478,  3.385,\n",
    "       -1.659, -0.233, -0.501,  0.863, -0.408, -0.182,  0.844}\n",
    "row1 = {-1.988,  1.38 ,  0.831,  0.098,  1.358, -1.358, -0.478, -0.295,\n",
    "        0.603, -0.233,  1.996, -1.158, -0.408, -0.182, -0.346}\n",
    "assert set(preprocessed_val_X[0].round(3)) == row0\n",
    "assert set(preprocessed_val_X[1].round(3)) == row1"
   ]
  },
  {
   "cell_type": "markdown",
   "metadata": {
    "Collapsed": "false"
   },
   "source": [
    "Giải thích tại sao không nên làm 2 cách sau:\n",
    "- Tiền xử lý tập validation bằng các giá trị  (top_titles_, mean, mode, ...) được tính từ tập validation\n",
    "- Hoặc tiền xử lý tất cả dữ liệu rồi mới tách tập validation"
   ]
  },
  {
   "cell_type": "markdown",
   "metadata": {
    "Collapsed": "false",
    "deletable": false,
    "nbgrader": {
     "cell_type": "markdown",
     "checksum": "2a1567a9361126ee5dd2d6371498efda",
     "grade": true,
     "grade_id": "cell-c9f9e4ac63684628",
     "locked": false,
     "points": 1,
     "schema_version": 3,
     "solution": true
    }
   },
   "source": [
    "YOUR ANSWER HERE\n",
    "\n",
    "-Thứ nhất, do dữ liệu đầu vào được chuẩn hóa từ mean và variance của training set, nên phải tiền xử lý tập validation từ các giá trị(top_titles,mean,mode,...) của tập training.\n",
    "\n",
    "-Thứ hai, tập validation là dùng để xem sự hiệu quả của mô hình và mô hình sẽ được training trên tập training sao cho khi áp dụng vô tập validation sẽ đạt hiệu quả nhất. Từ đó mới đem mô hình vô dữ liệu thực tế - test data. Vì thế khi chúng ta không nên tiền xử lý tất cả dữ liệu (training + validation) vì chúng ta không muốn tập validation lộ thông tin (tham gia tính mean, mode, top_titles). Điều đó sẽ dẫn đến overfitting và biased. Chúng ta không muốn biết nhiều thứ từ tập validation.\n"
   ]
  },
  {
   "cell_type": "markdown",
   "metadata": {
    "Collapsed": "false"
   },
   "source": [
    "---"
   ]
  },
  {
   "cell_type": "markdown",
   "metadata": {
    "Collapsed": "false"
   },
   "source": [
    "## Tiền xử lý + mô hình hóa"
   ]
  },
  {
   "cell_type": "markdown",
   "metadata": {},
   "source": [
    "### Tìm mô hình tốt nhất (4đ)"
   ]
  },
  {
   "cell_type": "markdown",
   "metadata": {
    "Collapsed": "false"
   },
   "source": [
    "Ta sẽ sử dụng mô hình Neural Net để phân lớp. Bạn sẽ tạo ra một pipeline từ đầu đến cuối bao gồm: các bước tiền xử lý ở trên + Neural Net (với các siêu tham số `hidden_layer_sizes=(20), activation='tanh', solver='lbfgs', random_state=0, max_iter=2500`). Bạn đặt tên cho pipeline này là `full_pipeline`. Việc tạo ra một pipeline từ đầu đến cuối như này có các lợi ích sau:\n",
    "- Giúp đơn giản hóa: \n",
    "    - Để huấn luyện từ đầu tới cuối, chỉ cần gọi phương thức `fit` của pipeline này trên tập huấn luyện dạng thô. Lúc này, các \"transformer\" ở các bước tiền xử lý sẽ gọi `fit_transform`, còn \"classifier\" ở cuối sẽ gọi `fit`.\n",
    "    - Với các véc-tơ input ở dạng thô, để dự đoán thì chỉ cần gọi phương thức `predict` của pipeline. Lúc này, các \"transformer\" ở các bước tiền xử lý sẽ gọi `transform`, còn \"classifier\" ở cuối sẽ gọi `predict`.\n",
    "- Giúp tránh tiền xử lý tập validation/kiểm-tra sai cách (như đã nói ở mục \"Tiền xử lý (tập validation)\" ở trên). Để làm sai cũng khó à nha ;-).\n",
    "- Giúp dễ dàng thử nghiệm đồng thời các giá trị của các siêu tham số ở các bước trong pipeline (sẽ làm ở ngay dưới).\n",
    "\n",
    "Sau khi đã có được pipeline từ đầu đến cuối này, bạn sẽ thử nghiệm:\n",
    "- Siêu tham số `alpha` (mức độ L2 regularization hay weight decay) của `MLPClassifier` với 5 giá trị khác nhau: 0.1, 1, 10, 100, 1000.\n",
    "- Siêu tham số `num_top_titles` của `ColAdderDropper` (ở bước tiền xử lý) với 6 giá trị khác nhau: 1, 3, 5, 7, 9, 11.\n",
    "\n",
    "Để gán lại giá trị `alpha` và `num_top_titles` cho `full_pipeline`, bạn sẽ dùng phương thức `set_params`: \n",
    "\n",
    "`full_pipeline.set_params(coladderdropper__num_top_titles=..., mlpclassifier__alpha=...)`\n",
    "\n",
    "Trong câu lệnh ở trên, `coladderdropper` và `mlpclassifier` là tên của 2 bước trong `full_pipeline` (2 bước nào thì chắc bạn cũng đoán được). Nếu bạn tạo pipeline bằng `make_pipeline` thì tên của các bước sẽ được tự động lấy là tên của các class và được viết thường như 2 tên ở trên. Còn nếu bạn dùng `Pipeline` và tự đặt tên cho các bước thì bạn dùng tên của bạn trong phương thức `set_params`.  \n",
    "\n",
    "Như vậy, tổng cộng bạn sẽ thử nghiệm $5\\times6 = 30$ mô hình khác nhau, với mỗi mô hình bạn sẽ: huấn luyện trên tập huấn luyện, tính độ lỗi trên tập huấn luyện và tập validation rồi `append` độ lỗi vào 2 list tương ứng là `train_errs` và `var_errs` (để dễ nhìn, bạn tính độ lỗi theo đơn vị %, nghĩa là có giá trị từ 0-100 chứ không phải từ 0-1). Bạn lưu lại độ lỗi nhỏ nhất trên tập validation và giá trị `alpha` và `num_top_titles` tương ứng lần lượt vào biến `best_val_err`, `best_alpha`, `best_num_top_titles`."
   ]
  },
  {
   "cell_type": "code",
   "execution_count": 28,
   "metadata": {
    "Collapsed": "false",
    "deletable": false,
    "nbgrader": {
     "cell_type": "code",
     "checksum": "bb0c3953788eff39e4c9c0cd5c2dcde6",
     "grade": false,
     "grade_id": "cell-fdd12a79fb590313",
     "locked": false,
     "schema_version": 3,
     "solution": true,
     "task": false
    }
   },
   "outputs": [
    {
     "data": {
      "text/plain": [
       "'Finish!'"
      ]
     },
     "execution_count": 28,
     "metadata": {},
     "output_type": "execute_result"
    }
   ],
   "source": [
    "# Tạo full pipeline\n",
    "nume_cols = ['Age', 'SibSp', 'Parch', 'Fare']\n",
    "unorder_cate_cols = ['Sex', 'Embarked', 'Title']\n",
    "order_cate_cols = ['Pclass']\n",
    "# YOUR CODE HERE\n",
    "classifer = MLPClassifier(hidden_layer_sizes=(20), activation='tanh', solver='lbfgs', random_state=0, max_iter=2500)\n",
    "full_pipeline = make_pipeline(ColAdderDropper(),columns_transformer, StandardScaler(), classifer)\n",
    "# Thử nghiệm với các giá trị khác nhau của các siêu tham số\n",
    "# và chọn ra các giá trị tốt nhất\n",
    "train_errs = []\n",
    "val_errs = []\n",
    "alphas = [0.1, 1, 10, 100, 1000]\n",
    "num_top_titles_s = [1, 3, 5, 7, 9, 11]\n",
    "best_val_err = float('inf'); best_alpha = None; best_num_top_titles = None\n",
    "for alpha in alphas:\n",
    "    for num_top_titles in num_top_titles_s:\n",
    "        # YOUR CODE HERE\n",
    "        full_pipeline.set_params(coladderdropper__num_top_titles=num_top_titles, mlpclassifier__alpha=alpha)\n",
    "        \n",
    "        full_pipeline.fit(train_X_df,train_y_sr)\n",
    "        train_errs.append((1 - full_pipeline.score(train_X_df,train_y_sr))*100)\n",
    "        \n",
    "        full_pipeline.predict(val_X_df)\n",
    "        score = (1 - full_pipeline.score(val_X_df,val_y_sr))*100\n",
    "        val_errs.append(score)\n",
    "        if min(val_errs) == score:\n",
    "            best_val_err = score\n",
    "            best_alpha = alpha\n",
    "            best_num_top_titles = num_top_titles\n",
    "'Finish!'"
   ]
  },
  {
   "cell_type": "code",
   "execution_count": 29,
   "metadata": {},
   "outputs": [
    {
     "data": {
      "text/html": [
       "<style>div.sk-top-container {color: black;background-color: white;}div.sk-toggleable {background-color: white;}label.sk-toggleable__label {cursor: pointer;display: block;width: 100%;margin-bottom: 0;padding: 0.2em 0.3em;box-sizing: border-box;text-align: center;}div.sk-toggleable__content {max-height: 0;max-width: 0;overflow: hidden;text-align: left;background-color: #f0f8ff;}div.sk-toggleable__content pre {margin: 0.2em;color: black;border-radius: 0.25em;background-color: #f0f8ff;}input.sk-toggleable__control:checked~div.sk-toggleable__content {max-height: 200px;max-width: 100%;overflow: auto;}div.sk-estimator input.sk-toggleable__control:checked~label.sk-toggleable__label {background-color: #d4ebff;}div.sk-label input.sk-toggleable__control:checked~label.sk-toggleable__label {background-color: #d4ebff;}input.sk-hidden--visually {border: 0;clip: rect(1px 1px 1px 1px);clip: rect(1px, 1px, 1px, 1px);height: 1px;margin: -1px;overflow: hidden;padding: 0;position: absolute;width: 1px;}div.sk-estimator {font-family: monospace;background-color: #f0f8ff;margin: 0.25em 0.25em;border: 1px dotted black;border-radius: 0.25em;box-sizing: border-box;}div.sk-estimator:hover {background-color: #d4ebff;}div.sk-parallel-item::after {content: \"\";width: 100%;border-bottom: 1px solid gray;flex-grow: 1;}div.sk-label:hover label.sk-toggleable__label {background-color: #d4ebff;}div.sk-serial::before {content: \"\";position: absolute;border-left: 1px solid gray;box-sizing: border-box;top: 2em;bottom: 0;left: 50%;}div.sk-serial {display: flex;flex-direction: column;align-items: center;background-color: white;}div.sk-item {z-index: 1;}div.sk-parallel {display: flex;align-items: stretch;justify-content: center;background-color: white;}div.sk-parallel-item {display: flex;flex-direction: column;position: relative;background-color: white;}div.sk-parallel-item:first-child::after {align-self: flex-end;width: 50%;}div.sk-parallel-item:last-child::after {align-self: flex-start;width: 50%;}div.sk-parallel-item:only-child::after {width: 0;}div.sk-dashed-wrapped {border: 1px dashed gray;margin: 0.2em;box-sizing: border-box;padding-bottom: 0.1em;background-color: white;position: relative;}div.sk-label label {font-family: monospace;font-weight: bold;background-color: white;display: inline-block;line-height: 1.2em;}div.sk-label-container {position: relative;z-index: 2;text-align: center;}div.sk-container {display: inline-block;position: relative;}</style><div class=\"sk-top-container\"><div class=\"sk-container\"><div class=\"sk-item sk-dashed-wrapped\"><div class=\"sk-label-container\"><div class=\"sk-label sk-toggleable\"><input class=\"sk-toggleable__control sk-hidden--visually\" id=\"5ec06884-134c-44b9-9d1e-d132260b6e80\" type=\"checkbox\" ><label class=\"sk-toggleable__label\" for=\"5ec06884-134c-44b9-9d1e-d132260b6e80\">Pipeline</label><div class=\"sk-toggleable__content\"><pre>Pipeline(steps=[('coladderdropper', ColAdderDropper(num_top_titles=11)),\n",
       "                ('columntransformer',\n",
       "                 ColumnTransformer(remainder='passthrough',\n",
       "                                   transformers=[('simpleimputer-1',\n",
       "                                                  SimpleImputer(),\n",
       "                                                  ['Age', 'SibSp', 'Parch',\n",
       "                                                   'Fare']),\n",
       "                                                 ('pipeline',\n",
       "                                                  Pipeline(steps=[('simpleimputer',\n",
       "                                                                   SimpleImputer(strategy='most_frequent')),\n",
       "                                                                  ('onehotencoder',\n",
       "                                                                   OneHotEncoder(handle_unknown='ignore'))]),\n",
       "                                                  ['Sex', 'Embarked', 'Title']),\n",
       "                                                 ('simpleimputer-2',\n",
       "                                                  SimpleImputer(strategy='most_frequent'),\n",
       "                                                  ['Pclass'])])),\n",
       "                ('standardscaler', StandardScaler()),\n",
       "                ('mlpclassifier',\n",
       "                 MLPClassifier(activation='tanh', alpha=1000,\n",
       "                               hidden_layer_sizes=20, max_iter=2500,\n",
       "                               random_state=0, solver='lbfgs'))])</pre></div></div></div><div class=\"sk-serial\"><div class=\"sk-item\"><div class=\"sk-estimator sk-toggleable\"><input class=\"sk-toggleable__control sk-hidden--visually\" id=\"e3383a13-105d-45c9-86ce-ca1f2c2c61eb\" type=\"checkbox\" ><label class=\"sk-toggleable__label\" for=\"e3383a13-105d-45c9-86ce-ca1f2c2c61eb\">ColAdderDropper</label><div class=\"sk-toggleable__content\"><pre>ColAdderDropper(num_top_titles=11)</pre></div></div></div><div class=\"sk-item sk-dashed-wrapped\"><div class=\"sk-label-container\"><div class=\"sk-label sk-toggleable\"><input class=\"sk-toggleable__control sk-hidden--visually\" id=\"07de5b77-c7cd-4c18-b82f-28ddd01f117e\" type=\"checkbox\" ><label class=\"sk-toggleable__label\" for=\"07de5b77-c7cd-4c18-b82f-28ddd01f117e\">columntransformer: ColumnTransformer</label><div class=\"sk-toggleable__content\"><pre>ColumnTransformer(remainder='passthrough',\n",
       "                  transformers=[('simpleimputer-1', SimpleImputer(),\n",
       "                                 ['Age', 'SibSp', 'Parch', 'Fare']),\n",
       "                                ('pipeline',\n",
       "                                 Pipeline(steps=[('simpleimputer',\n",
       "                                                  SimpleImputer(strategy='most_frequent')),\n",
       "                                                 ('onehotencoder',\n",
       "                                                  OneHotEncoder(handle_unknown='ignore'))]),\n",
       "                                 ['Sex', 'Embarked', 'Title']),\n",
       "                                ('simpleimputer-2',\n",
       "                                 SimpleImputer(strategy='most_frequent'),\n",
       "                                 ['Pclass'])])</pre></div></div></div><div class=\"sk-parallel\"><div class=\"sk-parallel-item\"><div class=\"sk-item\"><div class=\"sk-label-container\"><div class=\"sk-label sk-toggleable\"><input class=\"sk-toggleable__control sk-hidden--visually\" id=\"3dfe0a90-febf-46e3-8f53-2c40a4eede2d\" type=\"checkbox\" ><label class=\"sk-toggleable__label\" for=\"3dfe0a90-febf-46e3-8f53-2c40a4eede2d\">simpleimputer-1</label><div class=\"sk-toggleable__content\"><pre>['Age', 'SibSp', 'Parch', 'Fare']</pre></div></div></div><div class=\"sk-serial\"><div class=\"sk-item\"><div class=\"sk-estimator sk-toggleable\"><input class=\"sk-toggleable__control sk-hidden--visually\" id=\"b9308d03-21ff-4caf-bdf1-2bccd8da3a4f\" type=\"checkbox\" ><label class=\"sk-toggleable__label\" for=\"b9308d03-21ff-4caf-bdf1-2bccd8da3a4f\">SimpleImputer</label><div class=\"sk-toggleable__content\"><pre>SimpleImputer()</pre></div></div></div></div></div></div><div class=\"sk-parallel-item\"><div class=\"sk-item\"><div class=\"sk-label-container\"><div class=\"sk-label sk-toggleable\"><input class=\"sk-toggleable__control sk-hidden--visually\" id=\"7936032f-864d-42eb-8f94-457500335945\" type=\"checkbox\" ><label class=\"sk-toggleable__label\" for=\"7936032f-864d-42eb-8f94-457500335945\">pipeline</label><div class=\"sk-toggleable__content\"><pre>['Sex', 'Embarked', 'Title']</pre></div></div></div><div class=\"sk-serial\"><div class=\"sk-item\"><div class=\"sk-serial\"><div class=\"sk-item\"><div class=\"sk-estimator sk-toggleable\"><input class=\"sk-toggleable__control sk-hidden--visually\" id=\"7d4a1d59-4841-4430-8895-af4977bfe8bf\" type=\"checkbox\" ><label class=\"sk-toggleable__label\" for=\"7d4a1d59-4841-4430-8895-af4977bfe8bf\">SimpleImputer</label><div class=\"sk-toggleable__content\"><pre>SimpleImputer(strategy='most_frequent')</pre></div></div></div><div class=\"sk-item\"><div class=\"sk-estimator sk-toggleable\"><input class=\"sk-toggleable__control sk-hidden--visually\" id=\"9c4c4e85-d8eb-4b1f-b82a-1c47e5818bb5\" type=\"checkbox\" ><label class=\"sk-toggleable__label\" for=\"9c4c4e85-d8eb-4b1f-b82a-1c47e5818bb5\">OneHotEncoder</label><div class=\"sk-toggleable__content\"><pre>OneHotEncoder(handle_unknown='ignore')</pre></div></div></div></div></div></div></div></div><div class=\"sk-parallel-item\"><div class=\"sk-item\"><div class=\"sk-label-container\"><div class=\"sk-label sk-toggleable\"><input class=\"sk-toggleable__control sk-hidden--visually\" id=\"9ab0cae1-2c13-48d3-b5ed-0d14fd938970\" type=\"checkbox\" ><label class=\"sk-toggleable__label\" for=\"9ab0cae1-2c13-48d3-b5ed-0d14fd938970\">simpleimputer-2</label><div class=\"sk-toggleable__content\"><pre>['Pclass']</pre></div></div></div><div class=\"sk-serial\"><div class=\"sk-item\"><div class=\"sk-estimator sk-toggleable\"><input class=\"sk-toggleable__control sk-hidden--visually\" id=\"6ec0adc3-5a83-4b56-94c1-082bdff89cc7\" type=\"checkbox\" ><label class=\"sk-toggleable__label\" for=\"6ec0adc3-5a83-4b56-94c1-082bdff89cc7\">SimpleImputer</label><div class=\"sk-toggleable__content\"><pre>SimpleImputer(strategy='most_frequent')</pre></div></div></div></div></div></div></div></div><div class=\"sk-item\"><div class=\"sk-estimator sk-toggleable\"><input class=\"sk-toggleable__control sk-hidden--visually\" id=\"b84506e5-cfd9-4157-b022-553fe739006a\" type=\"checkbox\" ><label class=\"sk-toggleable__label\" for=\"b84506e5-cfd9-4157-b022-553fe739006a\">StandardScaler</label><div class=\"sk-toggleable__content\"><pre>StandardScaler()</pre></div></div></div><div class=\"sk-item\"><div class=\"sk-estimator sk-toggleable\"><input class=\"sk-toggleable__control sk-hidden--visually\" id=\"fdb09305-5d13-4bd9-986c-09e3f0bf8ccb\" type=\"checkbox\" ><label class=\"sk-toggleable__label\" for=\"fdb09305-5d13-4bd9-986c-09e3f0bf8ccb\">MLPClassifier</label><div class=\"sk-toggleable__content\"><pre>MLPClassifier(activation='tanh', alpha=1000, hidden_layer_sizes=20,\n",
       "              max_iter=2500, random_state=0, solver='lbfgs')</pre></div></div></div></div></div></div></div>"
      ],
      "text/plain": [
       "Pipeline(steps=[('coladderdropper', ColAdderDropper(num_top_titles=11)),\n",
       "                ('columntransformer',\n",
       "                 ColumnTransformer(remainder='passthrough',\n",
       "                                   transformers=[('simpleimputer-1',\n",
       "                                                  SimpleImputer(),\n",
       "                                                  ['Age', 'SibSp', 'Parch',\n",
       "                                                   'Fare']),\n",
       "                                                 ('pipeline',\n",
       "                                                  Pipeline(steps=[('simpleimputer',\n",
       "                                                                   SimpleImputer(strategy='most_frequent')),\n",
       "                                                                  ('onehotencoder',\n",
       "                                                                   OneHotEncoder(handle_unknown='ignore'))]),\n",
       "                                                  ['Sex', 'Embarked', 'Title']),\n",
       "                                                 ('simpleimputer-2',\n",
       "                                                  SimpleImputer(strategy='most_frequent'),\n",
       "                                                  ['Pclass'])])),\n",
       "                ('standardscaler', StandardScaler()),\n",
       "                ('mlpclassifier',\n",
       "                 MLPClassifier(activation='tanh', alpha=1000,\n",
       "                               hidden_layer_sizes=20, max_iter=2500,\n",
       "                               random_state=0, solver='lbfgs'))])"
      ]
     },
     "execution_count": 29,
     "metadata": {},
     "output_type": "execute_result"
    }
   ],
   "source": [
    "# TEST\n",
    "full_pipeline"
   ]
  },
  {
   "cell_type": "code",
   "execution_count": 30,
   "metadata": {
    "deletable": false,
    "editable": false,
    "nbgrader": {
     "cell_type": "code",
     "checksum": "f33688c1c8f4b1a71567209f5872b5e7",
     "grade": true,
     "grade_id": "cell-0b98eab69b5f1ff7",
     "locked": true,
     "points": 1.5,
     "schema_version": 3,
     "solution": false,
     "task": false
    }
   },
   "outputs": [],
   "source": [
    "# TEST\n",
    "assert round(best_val_err, 3) == 16.045\n",
    "assert best_alpha == 10\n",
    "assert best_num_top_titles == 3"
   ]
  },
  {
   "cell_type": "code",
   "execution_count": 31,
   "metadata": {},
   "outputs": [
    {
     "data": {
      "image/png": "[encoded data removed]",
      "text/plain": [
       "<Figure size 720x360 with 2 Axes>"
      ]
     },
     "metadata": {
      "needs_background": "light"
     },
     "output_type": "display_data"
    }
   ],
   "source": [
    "# Trực quan hóa kết quả\n",
    "train_errs_df = pd.DataFrame(data=np.array(train_errs).reshape(len(alphas), -1),\n",
    "                             index=alphas, columns=num_top_titles_s)\n",
    "val_errs_df = pd.DataFrame(data=np.array(val_errs).reshape(len(alphas), -1), \n",
    "                           index=alphas, columns=num_top_titles_s)\n",
    "min_err = min(min(train_errs), min(val_errs))\n",
    "max_err = max(max(train_errs), max(val_errs))\n",
    "plt.figure(figsize=(10, 5))\n",
    "plt.subplot(1, 2, 1)\n",
    "sns.heatmap(train_errs_df, vmin=min_err, vmax=max_err, square=True, annot=True, \n",
    "            cbar=False, fmt='.1f', cmap='Reds')\n",
    "plt.title('train errors'); plt.xlabel('num_top_titles'); plt.ylabel('alpha')\n",
    "plt.subplot(1, 2, 2)\n",
    "sns.heatmap(val_errs_df, vmin=min_err, vmax=max_err, square=True, annot=True, \n",
    "            cbar=False, fmt='.1f', cmap='Reds')\n",
    "plt.title('validation errors'); plt.xlabel('num_top_titles'); plt.ylabel('alpha');"
   ]
  },
  {
   "cell_type": "markdown",
   "metadata": {
    "Collapsed": "false"
   },
   "source": [
    "Nhận xét về ảnh hưởng của siêu tham số `alpha` (có sao thì bạn nói vậy, chỗ nào không biết thì nói là không biết): \n",
    "- Bạn kỳ vọng khi `alpha` thay đổi thì độ lỗi trên tập huấn luyện và tập validation sẽ thay đổi như thế nào? Tại sao bạn lại kỳ vọng như vậy?\n",
    "- Kết quả ở trên có giống như kỳ vọng của bạn không? Nếu không thì bạn nghĩ xem tại sao lại như vậy?"
   ]
  },
  {
   "cell_type": "markdown",
   "metadata": {
    "deletable": false,
    "nbgrader": {
     "cell_type": "markdown",
     "checksum": "9e0471605e1a0872e36754fa0f485aa1",
     "grade": true,
     "grade_id": "cell-4debcfe69b8e605b",
     "locked": false,
     "points": 1,
     "schema_version": 3,
     "solution": true,
     "task": false
    }
   },
   "source": [
    "YOUR ANSWER HERE\n",
    "- Alpha ở đây là tham số cho regularization giải quyết cho vấn đề overfitting bằng cách ràng buộc độ lớn của các tham số mô hình. Alpha tăng -> tránh high variance (overfitting), Alpha giảm -> tránh high bias (underfitting).\n",
    "\n",
    "- Độ lỗi 38.4 là khi tham số của mô hình bằng không hết vì mình đã thử tăng alpha lên 2000 và độ lỗi vẫn là 38.4.\n",
    "\n",
    "- Đối với độ lỗi trên tập huấn luyện:\n",
    " + Khi alpha tăng thì độ lỗi sẽ tăng. Giải thích cho chuyện này: Khi alpha tăng và sử dụng L2 regularization, độ lỗi do tổng bình phương tham số gây ra tăng nhanh và outweight dù mô hình cố gắng tối thiểu hóa độ lỗi tổng.\n",
    "\n",
    "- Đối với độ lỗi trên tập validation:\n",
    " + Khi alpha nhỏ, độ lỗi lớn do ràng buộc lên độ lớn tham số của mô hình chưa đủ lớn -> underfitting.\n",
    " + Khi alpha tăng vừa đủ tới ngưỡng, độ lỗi nhỏ nhất do regularization hợp lý.\n",
    " + Khi alpha lớn, độ lỗi lớn do trọng số lên tổng bình phương của tham số mô hình tăng nhanh và outweigh.\n"
   ]
  },
  {
   "cell_type": "markdown",
   "metadata": {
    "Collapsed": "false"
   },
   "source": [
    "Nhận xét về ảnh hưởng của siêu tham số `num_top_titles` (có sao thì bạn nói vậy, chỗ nào không biết thì nói là không biết): \n",
    "- Bạn kỳ vọng khi `num_top_titles` thay đổi thì độ lỗi trên tập huấn luyện và tập validation sẽ thay đổi như thế nào? Tại sao bạn lại kỳ vọng như vậy?\n",
    "- Kết quả ở trên có giống như kỳ vọng của bạn không? Nếu không thì bạn nghĩ xem tại sao lại như vậy?"
   ]
  },
  {
   "cell_type": "markdown",
   "metadata": {
    "deletable": false,
    "nbgrader": {
     "cell_type": "markdown",
     "checksum": "49982bae0349935c9ca94046bf830735",
     "grade": true,
     "grade_id": "cell-94737f293bd3c2a8",
     "locked": false,
     "points": 1,
     "schema_version": 3,
     "solution": true,
     "task": false
    }
   },
   "source": [
    "YOUR ANSWER HERE\n",
    "- Khi thay đổi num_top_titles tăng đến mức nào đó tương ứng với từng alpha thì độ lỗi giảm dần.\n",
    "  + Giải thích cho điều này: Khi 'num_top_titles' chưa đủ lớn, khác biệt giữa các dòng dữ liệu do cột title tạo ra nhỏ( chỉ giữ lại top tiles và gán các title còn lại là 'others') -> miền giá trị của cột này ít. Hơn nữa tần suất xuất hiện của các dòng có titles không nằm trong top cũng khá lớn (nếu tổng tần suất xuất hiện của 'num_top_titles' nhỏ) tạo nên tập dữ liệu không tốt. Từ đó dẫn đến với các input mà có 'title' không mằm trong top thì sẽ được gán là 'others' và do 'others' chiếm tần suất xuất hiện nhiều (vì tập các titles không nằm trong top cộng lại sẽ lớn nếu num_top_titles nhỏ) , mô hình sẽ có độ lỗi lớn vì features được tạo từ titles không có tác dụng nhiều vì không phân biệt được các điểm dữ liệu với nhau.\n",
    "  \n",
    "- Tiếp tục tăng num_top_titles thì độ lỗi lại tăng lên hoặc giữ nguyên:\n",
    "  + Giải thích cho điều này: 'num_top_titles' tiếp tục tăng, mặc dù sự phân biệt giữa các điểm dữ liệu từ 'titles' tốt nhưng do tần suất xuất hiện của một số trong đó thấp dẫn đến dự đoán sai với tần số thấp. Từ đó độ lỗi không thể giảm hơn nữa -> giữ nguyên. Nhìn vào dòng vói alpha = 10 ta thấy điều này. Còn nếu tăng rồi lại giảm thì có thể do tần suất xuất hiện của các điểm dữ liệu với titles tần suất thấp lại cao lên."
   ]
  },
  {
   "cell_type": "markdown",
   "metadata": {},
   "source": [
    "Cuối cùng, bạn sẽ huấn luyện lại `full_pipeline` trên `X_df` và `y_sr` (tập huấn luyện + tập validation) với `best_alpha` và `best_num_top_titles` tìm được ở trên để ra được mô hình cụ thể cuối cùng."
   ]
  },
  {
   "cell_type": "code",
   "execution_count": 32,
   "metadata": {
    "deletable": false,
    "nbgrader": {
     "cell_type": "code",
     "checksum": "e771c0641435719860146ab39be71ef8",
     "grade": true,
     "grade_id": "cell-34157b0f98b9d3f5",
     "locked": false,
     "points": 0.5,
     "schema_version": 3,
     "solution": true,
     "task": false
    }
   },
   "outputs": [
    {
     "data": {
      "text/html": [
       "<style>div.sk-top-container {color: black;background-color: white;}div.sk-toggleable {background-color: white;}label.sk-toggleable__label {cursor: pointer;display: block;width: 100%;margin-bottom: 0;padding: 0.2em 0.3em;box-sizing: border-box;text-align: center;}div.sk-toggleable__content {max-height: 0;max-width: 0;overflow: hidden;text-align: left;background-color: #f0f8ff;}div.sk-toggleable__content pre {margin: 0.2em;color: black;border-radius: 0.25em;background-color: #f0f8ff;}input.sk-toggleable__control:checked~div.sk-toggleable__content {max-height: 200px;max-width: 100%;overflow: auto;}div.sk-estimator input.sk-toggleable__control:checked~label.sk-toggleable__label {background-color: #d4ebff;}div.sk-label input.sk-toggleable__control:checked~label.sk-toggleable__label {background-color: #d4ebff;}input.sk-hidden--visually {border: 0;clip: rect(1px 1px 1px 1px);clip: rect(1px, 1px, 1px, 1px);height: 1px;margin: -1px;overflow: hidden;padding: 0;position: absolute;width: 1px;}div.sk-estimator {font-family: monospace;background-color: #f0f8ff;margin: 0.25em 0.25em;border: 1px dotted black;border-radius: 0.25em;box-sizing: border-box;}div.sk-estimator:hover {background-color: #d4ebff;}div.sk-parallel-item::after {content: \"\";width: 100%;border-bottom: 1px solid gray;flex-grow: 1;}div.sk-label:hover label.sk-toggleable__label {background-color: #d4ebff;}div.sk-serial::before {content: \"\";position: absolute;border-left: 1px solid gray;box-sizing: border-box;top: 2em;bottom: 0;left: 50%;}div.sk-serial {display: flex;flex-direction: column;align-items: center;background-color: white;}div.sk-item {z-index: 1;}div.sk-parallel {display: flex;align-items: stretch;justify-content: center;background-color: white;}div.sk-parallel-item {display: flex;flex-direction: column;position: relative;background-color: white;}div.sk-parallel-item:first-child::after {align-self: flex-end;width: 50%;}div.sk-parallel-item:last-child::after {align-self: flex-start;width: 50%;}div.sk-parallel-item:only-child::after {width: 0;}div.sk-dashed-wrapped {border: 1px dashed gray;margin: 0.2em;box-sizing: border-box;padding-bottom: 0.1em;background-color: white;position: relative;}div.sk-label label {font-family: monospace;font-weight: bold;background-color: white;display: inline-block;line-height: 1.2em;}div.sk-label-container {position: relative;z-index: 2;text-align: center;}div.sk-container {display: inline-block;position: relative;}</style><div class=\"sk-top-container\"><div class=\"sk-container\"><div class=\"sk-item sk-dashed-wrapped\"><div class=\"sk-label-container\"><div class=\"sk-label sk-toggleable\"><input class=\"sk-toggleable__control sk-hidden--visually\" id=\"8d243336-78f8-4b94-8887-90f4d9fcf0dd\" type=\"checkbox\" ><label class=\"sk-toggleable__label\" for=\"8d243336-78f8-4b94-8887-90f4d9fcf0dd\">Pipeline</label><div class=\"sk-toggleable__content\"><pre>Pipeline(steps=[('coladderdropper', ColAdderDropper(num_top_titles=3)),\n",
       "                ('columntransformer',\n",
       "                 ColumnTransformer(remainder='passthrough',\n",
       "                                   transformers=[('simpleimputer-1',\n",
       "                                                  SimpleImputer(),\n",
       "                                                  ['Age', 'SibSp', 'Parch',\n",
       "                                                   'Fare']),\n",
       "                                                 ('pipeline',\n",
       "                                                  Pipeline(steps=[('simpleimputer',\n",
       "                                                                   SimpleImputer(strategy='most_frequent')),\n",
       "                                                                  ('onehotencoder',\n",
       "                                                                   OneHotEncoder(handle_unknown='ignore'))]),\n",
       "                                                  ['Sex', 'Embarked', 'Title']),\n",
       "                                                 ('simpleimputer-2',\n",
       "                                                  SimpleImputer(strategy='most_frequent'),\n",
       "                                                  ['Pclass'])])),\n",
       "                ('standardscaler', StandardScaler()),\n",
       "                ('mlpclassifier',\n",
       "                 MLPClassifier(activation='tanh', alpha=10,\n",
       "                               hidden_layer_sizes=20, max_iter=2500,\n",
       "                               random_state=0, solver='lbfgs'))])</pre></div></div></div><div class=\"sk-serial\"><div class=\"sk-item\"><div class=\"sk-estimator sk-toggleable\"><input class=\"sk-toggleable__control sk-hidden--visually\" id=\"b6520650-319b-40ac-8ac9-715cbb672c2e\" type=\"checkbox\" ><label class=\"sk-toggleable__label\" for=\"b6520650-319b-40ac-8ac9-715cbb672c2e\">ColAdderDropper</label><div class=\"sk-toggleable__content\"><pre>ColAdderDropper(num_top_titles=3)</pre></div></div></div><div class=\"sk-item sk-dashed-wrapped\"><div class=\"sk-label-container\"><div class=\"sk-label sk-toggleable\"><input class=\"sk-toggleable__control sk-hidden--visually\" id=\"7554c774-1e83-4d72-b01f-fdb7cc771d67\" type=\"checkbox\" ><label class=\"sk-toggleable__label\" for=\"7554c774-1e83-4d72-b01f-fdb7cc771d67\">columntransformer: ColumnTransformer</label><div class=\"sk-toggleable__content\"><pre>ColumnTransformer(remainder='passthrough',\n",
       "                  transformers=[('simpleimputer-1', SimpleImputer(),\n",
       "                                 ['Age', 'SibSp', 'Parch', 'Fare']),\n",
       "                                ('pipeline',\n",
       "                                 Pipeline(steps=[('simpleimputer',\n",
       "                                                  SimpleImputer(strategy='most_frequent')),\n",
       "                                                 ('onehotencoder',\n",
       "                                                  OneHotEncoder(handle_unknown='ignore'))]),\n",
       "                                 ['Sex', 'Embarked', 'Title']),\n",
       "                                ('simpleimputer-2',\n",
       "                                 SimpleImputer(strategy='most_frequent'),\n",
       "                                 ['Pclass'])])</pre></div></div></div><div class=\"sk-parallel\"><div class=\"sk-parallel-item\"><div class=\"sk-item\"><div class=\"sk-label-container\"><div class=\"sk-label sk-toggleable\"><input class=\"sk-toggleable__control sk-hidden--visually\" id=\"22aec8b2-b1cb-49c6-84d8-2773b15698fb\" type=\"checkbox\" ><label class=\"sk-toggleable__label\" for=\"22aec8b2-b1cb-49c6-84d8-2773b15698fb\">simpleimputer-1</label><div class=\"sk-toggleable__content\"><pre>['Age', 'SibSp', 'Parch', 'Fare']</pre></div></div></div><div class=\"sk-serial\"><div class=\"sk-item\"><div class=\"sk-estimator sk-toggleable\"><input class=\"sk-toggleable__control sk-hidden--visually\" id=\"e38bfcf6-afdf-43b5-b9a3-a4d7f4dddccc\" type=\"checkbox\" ><label class=\"sk-toggleable__label\" for=\"e38bfcf6-afdf-43b5-b9a3-a4d7f4dddccc\">SimpleImputer</label><div class=\"sk-toggleable__content\"><pre>SimpleImputer()</pre></div></div></div></div></div></div><div class=\"sk-parallel-item\"><div class=\"sk-item\"><div class=\"sk-label-container\"><div class=\"sk-label sk-toggleable\"><input class=\"sk-toggleable__control sk-hidden--visually\" id=\"04182bf9-b4fb-42dd-9353-c5737e2daf41\" type=\"checkbox\" ><label class=\"sk-toggleable__label\" for=\"04182bf9-b4fb-42dd-9353-c5737e2daf41\">pipeline</label><div class=\"sk-toggleable__content\"><pre>['Sex', 'Embarked', 'Title']</pre></div></div></div><div class=\"sk-serial\"><div class=\"sk-item\"><div class=\"sk-serial\"><div class=\"sk-item\"><div class=\"sk-estimator sk-toggleable\"><input class=\"sk-toggleable__control sk-hidden--visually\" id=\"33317213-7083-4b33-90f3-808b803f9474\" type=\"checkbox\" ><label class=\"sk-toggleable__label\" for=\"33317213-7083-4b33-90f3-808b803f9474\">SimpleImputer</label><div class=\"sk-toggleable__content\"><pre>SimpleImputer(strategy='most_frequent')</pre></div></div></div><div class=\"sk-item\"><div class=\"sk-estimator sk-toggleable\"><input class=\"sk-toggleable__control sk-hidden--visually\" id=\"7f40b39b-e0e2-4cfe-b66d-e7ae414eba95\" type=\"checkbox\" ><label class=\"sk-toggleable__label\" for=\"7f40b39b-e0e2-4cfe-b66d-e7ae414eba95\">OneHotEncoder</label><div class=\"sk-toggleable__content\"><pre>OneHotEncoder(handle_unknown='ignore')</pre></div></div></div></div></div></div></div></div><div class=\"sk-parallel-item\"><div class=\"sk-item\"><div class=\"sk-label-container\"><div class=\"sk-label sk-toggleable\"><input class=\"sk-toggleable__control sk-hidden--visually\" id=\"c42c3fcd-ffb5-4cf2-8e8f-25e14fb3088d\" type=\"checkbox\" ><label class=\"sk-toggleable__label\" for=\"c42c3fcd-ffb5-4cf2-8e8f-25e14fb3088d\">simpleimputer-2</label><div class=\"sk-toggleable__content\"><pre>['Pclass']</pre></div></div></div><div class=\"sk-serial\"><div class=\"sk-item\"><div class=\"sk-estimator sk-toggleable\"><input class=\"sk-toggleable__control sk-hidden--visually\" id=\"fe65b569-8ecd-45fb-b076-bb4b4ea1188c\" type=\"checkbox\" ><label class=\"sk-toggleable__label\" for=\"fe65b569-8ecd-45fb-b076-bb4b4ea1188c\">SimpleImputer</label><div class=\"sk-toggleable__content\"><pre>SimpleImputer(strategy='most_frequent')</pre></div></div></div></div></div></div></div></div><div class=\"sk-item\"><div class=\"sk-estimator sk-toggleable\"><input class=\"sk-toggleable__control sk-hidden--visually\" id=\"7765c048-64a1-4a5b-b21f-fdb445c15a22\" type=\"checkbox\" ><label class=\"sk-toggleable__label\" for=\"7765c048-64a1-4a5b-b21f-fdb445c15a22\">StandardScaler</label><div class=\"sk-toggleable__content\"><pre>StandardScaler()</pre></div></div></div><div class=\"sk-item\"><div class=\"sk-estimator sk-toggleable\"><input class=\"sk-toggleable__control sk-hidden--visually\" id=\"3941ff57-ef10-45fe-905b-0780b697f61b\" type=\"checkbox\" ><label class=\"sk-toggleable__label\" for=\"3941ff57-ef10-45fe-905b-0780b697f61b\">MLPClassifier</label><div class=\"sk-toggleable__content\"><pre>MLPClassifier(activation='tanh', alpha=10, hidden_layer_sizes=20, max_iter=2500,\n",
       "              random_state=0, solver='lbfgs')</pre></div></div></div></div></div></div></div>"
      ],
      "text/plain": [
       "Pipeline(steps=[('coladderdropper', ColAdderDropper(num_top_titles=3)),\n",
       "                ('columntransformer',\n",
       "                 ColumnTransformer(remainder='passthrough',\n",
       "                                   transformers=[('simpleimputer-1',\n",
       "                                                  SimpleImputer(),\n",
       "                                                  ['Age', 'SibSp', 'Parch',\n",
       "                                                   'Fare']),\n",
       "                                                 ('pipeline',\n",
       "                                                  Pipeline(steps=[('simpleimputer',\n",
       "                                                                   SimpleImputer(strategy='most_frequent')),\n",
       "                                                                  ('onehotencoder',\n",
       "                                                                   OneHotEncoder(handle_unknown='ignore'))]),\n",
       "                                                  ['Sex', 'Embarked', 'Title']),\n",
       "                                                 ('simpleimputer-2',\n",
       "                                                  SimpleImputer(strategy='most_frequent'),\n",
       "                                                  ['Pclass'])])),\n",
       "                ('standardscaler', StandardScaler()),\n",
       "                ('mlpclassifier',\n",
       "                 MLPClassifier(activation='tanh', alpha=10,\n",
       "                               hidden_layer_sizes=20, max_iter=2500,\n",
       "                               random_state=0, solver='lbfgs'))])"
      ]
     },
     "execution_count": 32,
     "metadata": {},
     "output_type": "execute_result"
    }
   ],
   "source": [
    "# YOUR CODE HERE\n",
    "full_pipeline.set_params(coladderdropper__num_top_titles=best_num_top_titles, mlpclassifier__alpha=best_alpha)\n",
    "full_pipeline.fit(X_df,y_sr)"
   ]
  },
  {
   "cell_type": "markdown",
   "metadata": {
    "Collapsed": "false"
   },
   "source": [
    "### Đánh giá mô hình tìm được (1đ)\n",
    "Bạn sẽ dùng mô hình cụ thể cuối cùng ở trên để dự đoán với các input trong tập test (file \"test.csv\") và submit kết quả dự đoán lên Kaggle. Để có thể submit thì bạn phải tạo ra file csv có 2 cột: cột thứ nhất là id của các hành khách trong tập test, cột thứ hai là giá trị dự đoán của bạn (1 - sống, và 0 - chết). Bạn có thể xem file mẫu `submission.csv` mà mình đính kèm. Bạn đặt tên file của bạn là `my_preds.csv`."
   ]
  },
  {
   "cell_type": "code",
   "execution_count": 33,
   "metadata": {
    "Collapsed": "false",
    "deletable": false,
    "nbgrader": {
     "cell_type": "code",
     "checksum": "226b0f0ebb7e79c2866d02164cec9e2d",
     "grade": false,
     "grade_id": "cell-e184d7a3003ba334",
     "locked": false,
     "schema_version": 3,
     "solution": true,
     "task": false
    }
   },
   "outputs": [],
   "source": [
    "# YOUR CODE HERE\n",
    "test_X = pd.read_csv('test.csv', index_col=0)\n",
    "test_Y = full_pipeline.predict(test_X)\n",
    "\n",
    "X = test_X.reset_index()\n",
    "submission = pd.DataFrame({\n",
    "        \"PassengerId\": X[\"PassengerId\"],\n",
    "        \"Survived\": test_Y\n",
    "    })\n",
    "submission.to_csv('my_preds.csv', index=False)"
   ]
  },
  {
   "cell_type": "code",
   "execution_count": 34,
   "metadata": {
    "deletable": false,
    "editable": false,
    "nbgrader": {
     "cell_type": "code",
     "checksum": "4af5baeded7464b6854a1a123c5465c2",
     "grade": true,
     "grade_id": "cell-dbdc218117501513",
     "locked": true,
     "points": 0.75,
     "schema_version": 3,
     "solution": false,
     "task": false
    }
   },
   "outputs": [],
   "source": [
    "# TEST\n",
    "my_preds_df = pd.read_csv('my_preds.csv', index_col=0)\n",
    "assert round(my_preds_df['Survived'].mean(), 3) == 0.366\n",
    "assert np.all(my_preds_df.iloc[:5].values.reshape(-1) == np.array([0, 0, 0, 0, 1]))"
   ]
  },
  {
   "cell_type": "markdown",
   "metadata": {
    "Collapsed": "false"
   },
   "source": [
    "Kế đến, bạn sẽ submit file csv chứa kết quả dự đoán lên [Kaggle](https://www.kaggle.com/c/titanic) (bạn sẽ cần tạo một account trên Kaggle), và ghi nhận lại độ lỗi trên tập test ở cell phía dưới (score trên Kaggle là độ chính xác)."
   ]
  },
  {
   "cell_type": "markdown",
   "metadata": {
    "Collapsed": "false",
    "deletable": false,
    "nbgrader": {
     "cell_type": "markdown",
     "checksum": "b369b7d7c79e9110cb16f28db1c29ef0",
     "grade": true,
     "grade_id": "cell-0a8a2d0f116f035d",
     "locked": false,
     "points": 0.25,
     "schema_version": 3,
     "solution": true
    }
   },
   "source": [
    "YOUR ANSWER HERE\n",
    "0.77751"
   ]
  }
 ],
 "metadata": {
  "kernelspec": {
   "display_name": "Python 3",
   "language": "python",
   "name": "python3"
  },
  "language_info": {
   "codemirror_mode": {
    "name": "ipython",
    "version": 3
   },
   "file_extension": ".py",
   "mimetype": "text/x-python",
   "name": "python",
   "nbconvert_exporter": "python",
   "pygments_lexer": "ipython3",
   "version": "3.8.6"
  },
  "toc": {
   "base_numbering": 1,
   "nav_menu": {
    "height": "153px",
    "width": "252px"
   },
   "number_sections": false,
   "sideBar": true,
   "skip_h1_title": false,
   "title_cell": "Table of Contents",
   "title_sidebar": "Contents",
   "toc_cell": false,
   "toc_position": {
    "height": "calc(100% - 180px)",
    "left": "10px",
    "top": "150px",
    "width": "250.009px"
   },
   "toc_section_display": "block",
   "toc_window_display": true
  }
 },
 "nbformat": 4,
 "nbformat_minor": 4
}
