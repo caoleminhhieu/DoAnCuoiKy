{
 "cells": [
  {
   "cell_type": "markdown",
   "metadata": {},
   "source": [
    "# Giới thiệu đồ án\n",
    "\n",
    "Các dự án gọi vốn cộng đồng đang và sẽ phát triển rộng rãi trong thời gian gần đây. Rất nhiều dự án thành công từ hoạt động này, có thể kể đến các sản phẩm đã lan tỏa ra khắp thế giới như Exploding Kittens (board game), Hollow Knights (video game), ... Quá trình này là một mối quan hệ đôi bên cùng có lợi, người cần tiền để phát triển dự án sẽ nhận được vốn, người có tiền sẽ có kênh đầu tư tiềm năng, dòng tiền của xã hội được luân chuyển, kích thích hoạt động sản xuất, thúc đẩy những ý tưởng, phát minh mới, xã hội phát triển giàu đẹp.\n",
    "\n",
    "Tuy nhiên, phía sau ánh đèn hào quang cũng có mặt tối của nó. Không phải dự án nào cũng thành công. Điều này là một vấn đề nhức nhối với các nhà đầu tư. Việc quản lý dòng tiền, điều phối nguồn vốn như thế nào là yếu tố quyết định đến thành công của nhà đầu tư.Ở góc độ của người gọi vốn, tuy lĩnh vực gọi vốn cộng đồng còn mới, nhưng không phải không có cạnh tranh, làm thế nào để thu hút vốn đầu tư, tạo nguồn lực để phát triển là vấn đề đau đầu của các nhà sáng lập hiện nay.\n",
    "\n",
    "Và, từ trước đến nay, hai công việc này được thực hiện bằng **kinh nghiệm**. Thế nhưng, các nhà đầu tư vào các dự án cộng đồng thường là các nhà đầu tư cá nhân, không có nhiều kinh nghiệm. Quyết định của họ thường dựa trên cảm xúc nhiều hơn là các yếu tố kĩ thuật. Ở khía cạnh nhà sáng lập cũng không hơn, họ thường là những người làm kĩ thuật và thiếu kinh nghiệm trong các hoạt động tài chính kinh tế. Kĩ năng, hiểu biết của họ trong lĩnh vực này của họ thường góp nhặt, manh mún, thiếu hệ thống.\n",
    "\n",
    "Đồ án này được tạo ra như một công cụ trợ giúp trong hoạt động gọi vốn cộng đồng, đặc biệt là trong lĩnh vực *công nghệ*. Thông qua công cụ này, các nhà sáng lập biết được đâu là những yếu tố kĩ thuật nào đem đến thành công cho hoạt động gọi vốn, giúp họ có sự chuẩn bị tốt trước và trong quá trình gọi vốn. Các nhà đầu tư có công cụ đánh giá các dự án, phân tích và lựa chọn dự án phù hợp."
   ]
  },
  {
   "cell_type": "markdown",
   "metadata": {},
   "source": [
    "# Hướng thực hiện\n",
    "Sử dụng dữ liệu từ một trong những nền tảng gọi vốn cộng đồng lớn nhất thế giới là Kickstarter để đưa ra những phân tích, đánh giá và xây dựng mô hình phù hợp.\n",
    "\n",
    "Trong đồ án này, chúng ta sẽ tập trung vào lĩnh vực **công nghệ**, là lĩnh vực gần gũi và đang trở nên phổ biến hiện nay."
   ]
  },
  {
   "cell_type": "markdown",
   "metadata": {},
   "source": [
    "# Thu thập dữ liệu\n",
    "\n",
    "Quá trình thu thập dữ liệu được trình bày chi tiết trong tệp `KickstarterCrawl.ipynb`"
   ]
  },
  {
   "cell_type": "markdown",
   "metadata": {},
   "source": [
    "# Khai phá dữ liệu\n",
    "\n",
    "Trong phần này chúng ta sẽ tiến hành xử lý dữ liệu thô và đánh giá, nhận định về thị trường gọi vốn công nghệ cộng đồng."
   ]
  },
  {
   "cell_type": "code",
   "execution_count": 1,
   "metadata": {},
   "outputs": [],
   "source": [
    "# Import essential depencies\n",
    "import pandas as pd\n",
    "import numpy as np\n",
    "from matplotlib import pyplot as plt\n",
    "import seaborn as sns\n",
    "import requests\n",
    "from datetime import datetime\n",
    "\n",
    "from sklearn.model_selection import train_test_split\n",
    "from sklearn.preprocessing import MinMaxScaler, StandardScaler\n",
    "from sklearn.base import BaseEstimator, TransformerMixin\n",
    "from sklearn.pipeline import Pipeline, make_pipeline\n",
    "from sklearn.compose import ColumnTransformer, make_column_transformer\n",
    "from sklearn.model_selection import cross_val_score\n",
    "from sklearn.neural_network import MLPClassifier\n",
    "from sklearn.neighbors import KNeighborsClassifier\n",
    "from sklearn.metrics import zero_one_loss\n",
    "from sklearn.linear_model import LinearRegression, LogisticRegression\n",
    "\n",
    "import pickle\n",
    "\n",
    "%matplotlib inline"
   ]
  },
  {
   "cell_type": "markdown",
   "metadata": {},
   "source": [
    "## Tổng quan về dữ liệu"
   ]
  },
  {
   "cell_type": "code",
   "execution_count": 2,
   "metadata": {},
   "outputs": [
    {
     "data": {
      "text/html": [
       "<div>\n",
       "<style scoped>\n",
       "    .dataframe tbody tr th:only-of-type {\n",
       "        vertical-align: middle;\n",
       "    }\n",
       "\n",
       "    .dataframe tbody tr th {\n",
       "        vertical-align: top;\n",
       "    }\n",
       "\n",
       "    .dataframe thead th {\n",
       "        text-align: right;\n",
       "    }\n",
       "</style>\n",
       "<table border=\"1\" class=\"dataframe\">\n",
       "  <thead>\n",
       "    <tr style=\"text-align: right;\">\n",
       "      <th></th>\n",
       "      <th>Id</th>\n",
       "      <th>Name</th>\n",
       "      <th>Url</th>\n",
       "      <th>Goal</th>\n",
       "      <th>Pledged</th>\n",
       "      <th>Launch</th>\n",
       "      <th>End</th>\n",
       "      <th>Year</th>\n",
       "      <th>Comments</th>\n",
       "      <th>Updates</th>\n",
       "      <th>Faqs</th>\n",
       "      <th>Backers</th>\n",
       "      <th>Tiers</th>\n",
       "      <th>TierMin</th>\n",
       "      <th>TierMax</th>\n",
       "      <th>Status</th>\n",
       "    </tr>\n",
       "  </thead>\n",
       "  <tbody>\n",
       "    <tr>\n",
       "      <th>1032</th>\n",
       "      <td>1031</td>\n",
       "      <td>New 2019 Goal: Learn to Create Your Website wi...</td>\n",
       "      <td>http://www.kickstarter.com/projects/970955193/...</td>\n",
       "      <td>$100</td>\n",
       "      <td>$6750</td>\n",
       "      <td>January 22nd</td>\n",
       "      <td>February 17th</td>\n",
       "      <td>2019</td>\n",
       "      <td>4</td>\n",
       "      <td>1</td>\n",
       "      <td>0</td>\n",
       "      <td>42</td>\n",
       "      <td>7</td>\n",
       "      <td>40</td>\n",
       "      <td>29</td>\n",
       "      <td>success</td>\n",
       "    </tr>\n",
       "    <tr>\n",
       "      <th>5973</th>\n",
       "      <td>5972</td>\n",
       "      <td>2013 FTC Team 7042 Robot</td>\n",
       "      <td>http://www.kickstarter.com/projects/robohamste...</td>\n",
       "      <td>$700</td>\n",
       "      <td>$227</td>\n",
       "      <td>November 12th</td>\n",
       "      <td>November 20th</td>\n",
       "      <td>2013</td>\n",
       "      <td>0</td>\n",
       "      <td>0</td>\n",
       "      <td>0</td>\n",
       "      <td>8</td>\n",
       "      <td>4</td>\n",
       "      <td>1</td>\n",
       "      <td>150</td>\n",
       "      <td>failed</td>\n",
       "    </tr>\n",
       "    <tr>\n",
       "      <th>2338</th>\n",
       "      <td>2337</td>\n",
       "      <td>Solar Powered VW Bus – Film Promotional Tour</td>\n",
       "      <td>http://www.kickstarter.com/projects/1416952072...</td>\n",
       "      <td>$30000</td>\n",
       "      <td>$1675</td>\n",
       "      <td>July 1st</td>\n",
       "      <td>August 30th</td>\n",
       "      <td>2016</td>\n",
       "      <td>0</td>\n",
       "      <td>0</td>\n",
       "      <td>0</td>\n",
       "      <td>20</td>\n",
       "      <td>9</td>\n",
       "      <td>10</td>\n",
       "      <td>5000</td>\n",
       "      <td>failed</td>\n",
       "    </tr>\n",
       "    <tr>\n",
       "      <th>6599</th>\n",
       "      <td>6598</td>\n",
       "      <td>ScanJig - Turn Your Smart Device Into A Portab...</td>\n",
       "      <td>http://www.kickstarter.com/projects/2020513325...</td>\n",
       "      <td>$12500</td>\n",
       "      <td>$1278</td>\n",
       "      <td>July 24th</td>\n",
       "      <td>August 28th</td>\n",
       "      <td>2012</td>\n",
       "      <td>3</td>\n",
       "      <td>6</td>\n",
       "      <td>2</td>\n",
       "      <td>50</td>\n",
       "      <td>4</td>\n",
       "      <td>19</td>\n",
       "      <td>66</td>\n",
       "      <td>failed</td>\n",
       "    </tr>\n",
       "    <tr>\n",
       "      <th>3477</th>\n",
       "      <td>3476</td>\n",
       "      <td>GlowGene - Create new lifeforms by cutting and...</td>\n",
       "      <td>http://www.kickstarter.com/projects/glowgene/g...</td>\n",
       "      <td>$1200</td>\n",
       "      <td>$15564</td>\n",
       "      <td>September 13th</td>\n",
       "      <td>November 12th</td>\n",
       "      <td>2015</td>\n",
       "      <td>71</td>\n",
       "      <td>9</td>\n",
       "      <td>5</td>\n",
       "      <td>70</td>\n",
       "      <td>5</td>\n",
       "      <td>1</td>\n",
       "      <td>265</td>\n",
       "      <td>success</td>\n",
       "    </tr>\n",
       "  </tbody>\n",
       "</table>\n",
       "</div>"
      ],
      "text/plain": [
       "        Id                                               Name  \\\n",
       "1032  1031  New 2019 Goal: Learn to Create Your Website wi...   \n",
       "5973  5972                           2013 FTC Team 7042 Robot   \n",
       "2338  2337       Solar Powered VW Bus – Film Promotional Tour   \n",
       "6599  6598  ScanJig - Turn Your Smart Device Into A Portab...   \n",
       "3477  3476  GlowGene - Create new lifeforms by cutting and...   \n",
       "\n",
       "                                                    Url    Goal Pledged  \\\n",
       "1032  http://www.kickstarter.com/projects/970955193/...    $100   $6750   \n",
       "5973  http://www.kickstarter.com/projects/robohamste...    $700    $227   \n",
       "2338  http://www.kickstarter.com/projects/1416952072...  $30000   $1675   \n",
       "6599  http://www.kickstarter.com/projects/2020513325...  $12500   $1278   \n",
       "3477  http://www.kickstarter.com/projects/glowgene/g...   $1200  $15564   \n",
       "\n",
       "              Launch            End  Year Comments  Updates  Faqs  Backers  \\\n",
       "1032    January 22nd  February 17th  2019        4        1     0       42   \n",
       "5973   November 12th  November 20th  2013        0        0     0        8   \n",
       "2338        July 1st    August 30th  2016        0        0     0       20   \n",
       "6599       July 24th    August 28th  2012        3        6     2       50   \n",
       "3477  September 13th  November 12th  2015       71        9     5       70   \n",
       "\n",
       "      Tiers  TierMin  TierMax   Status  \n",
       "1032      7       40       29  success  \n",
       "5973      4        1      150   failed  \n",
       "2338      9       10     5000   failed  \n",
       "6599      4       19       66   failed  \n",
       "3477      5        1      265  success  "
      ]
     },
     "execution_count": 2,
     "metadata": {},
     "output_type": "execute_result"
    }
   ],
   "source": [
    "df = pd.read_csv('raw_data.csv')\n",
    "original_cols = df.columns\n",
    "df.sample(5)"
   ]
  },
  {
   "cell_type": "markdown",
   "metadata": {},
   "source": [
    "Cấu trúc dữ liệu"
   ]
  },
  {
   "cell_type": "code",
   "execution_count": 3,
   "metadata": {},
   "outputs": [
    {
     "name": "stdout",
     "output_type": "stream",
     "text": [
      "<class 'pandas.core.frame.DataFrame'>\n",
      "RangeIndex: 7173 entries, 0 to 7172\n",
      "Data columns (total 16 columns):\n",
      "Id          7173 non-null int64\n",
      "Name        7173 non-null object\n",
      "Url         7173 non-null object\n",
      "Goal        7173 non-null object\n",
      "Pledged     7173 non-null object\n",
      "Launch      7173 non-null object\n",
      "End         7173 non-null object\n",
      "Year        7173 non-null int64\n",
      "Comments    7173 non-null object\n",
      "Updates     7173 non-null int64\n",
      "Faqs        7173 non-null int64\n",
      "Backers     7173 non-null int64\n",
      "Tiers       7173 non-null int64\n",
      "TierMin     7173 non-null int64\n",
      "TierMax     7173 non-null int64\n",
      "Status      7173 non-null object\n",
      "dtypes: int64(8), object(8)\n",
      "memory usage: 896.8+ KB\n"
     ]
    }
   ],
   "source": [
    "df.info()"
   ]
  },
  {
   "cell_type": "markdown",
   "metadata": {},
   "source": [
    "Như vậy không có hiện tượng mất, thiếu dữ liệu"
   ]
  },
  {
   "cell_type": "markdown",
   "metadata": {},
   "source": [
    "**Ý nghĩa các thuộc tính dữ liệu:**\n",
    "- Id: Id của dự án. Ta thấy Id có giá trị trùng với index nên đây có thể là Id do người lấy dữ liệu tự đánh\n",
    "- Name: Tên dự án\n",
    "- Url: Đường dẫn đến dự án\n",
    "- Goal: Số vốn mục tiêu kêu gọi (bao gồm đơn vị tiền tệ)\n",
    "- Pledged: Số vốn nhận được (bao gồm đơn vị tiền tệ)\n",
    "- Launch: Ngày bắt đầu gọi vốn\n",
    "- End: Ngày kết thúc gọi vốn\n",
    "- Year: Năm gọi vốn\n",
    "- Comments: Số lượng bình luận\n",
    "- Updates: Số lần cập nhật trạng thái dự án\n",
    "- Faqs: Số câu hỏi trong mục FAQ (Frequent ask questions)\n",
    "- Backers: Số nhà đầu tư\n",
    "- Tiers: Số lượng gói đầu tư mà nhà sáng lập đưa ra\n",
    "- TierMin: Gói đầu tư nhỏ nhất\n",
    "- TierMax: Gói đầu tư lớn nhất\n",
    "- Status: Trạng thái dự án"
   ]
  },
  {
   "cell_type": "markdown",
   "metadata": {},
   "source": [
    "Thống kê dữ liệu trùng lặp"
   ]
  },
  {
   "cell_type": "code",
   "execution_count": 4,
   "metadata": {},
   "outputs": [
    {
     "data": {
      "text/plain": [
       "0"
      ]
     },
     "execution_count": 4,
     "metadata": {},
     "output_type": "execute_result"
    }
   ],
   "source": [
    "df.duplicated().sum()"
   ]
  },
  {
   "cell_type": "markdown",
   "metadata": {},
   "source": [
    "Như vậy, có thể thấy quá trình lấy dữ liệu được thực hiện tốt. Không có dữ liệu mất hay trùng lặp.\n",
    "\n",
    "---\n",
    "Bây giờ, sau khi đã biết trong dữ liệu có gì, chúng ta sẽ tiến hành khai thác dữ liệu."
   ]
  },
  {
   "cell_type": "markdown",
   "metadata": {},
   "source": [
    "## Phân tích dữ liệu"
   ]
  },
  {
   "cell_type": "markdown",
   "metadata": {},
   "source": [
    "### Đặt giả thuyết\n",
    "Trước khi bắt đầu, chúng ta sẽ tiến hành đặt ra các giả thuyết về dữ liệu. Đây là một cách rất hiệu quả để đưa ra được một góc nhìn cụ thể cho vấn đề mà chúng ta muốn giải quyết. \n",
    "\n",
    "Ở đây, vì chúng ta muốn tìm ra công thức cho sự thành công nên các giả thuyết của chúng ta sẽ xoay quanh vấn đề này. Các giả thuyết có thể có là:\n",
    "- Kêu gọi số vốn quá lớn sẽ làm giảm khả năng thành công của dự án\n",
    "- Bắt đầu gọi vốn vào ngày nghỉ sẽ giúp tăng khả năng thành công.\n",
    "- Khoảng thời gian gọi vốn càng ngắn thì dự án càng nhận được ít tiền đầu tư\n",
    "- Cập nhật trạng thái liên tục sẽ giúp các nhà đầu tư tin tưởng đầu tư vào dự án\n",
    "- Đưa ra các câu trả lời cho FAQ giúp tăng độ tin cậy cũng như nguồn tiền đổ vào dự án\n",
    "- Đặt ra càng nhiều gói đầu tư thì khả năng gọi vốn thành công càng cao\n",
    "- ...\n",
    "\n",
    "Bên cạnh đó, trong quá trình phân tích và khám phá dữ liệu. Chúng ta sẽ tiếp tục đặt ra các giả thuyết mới."
   ]
  },
  {
   "cell_type": "markdown",
   "metadata": {},
   "source": [
    "### Phân tích dữ liệu\n",
    "\n",
    "Ta sẽ bắt đầu với cột `status`. Đây là cột mục tiêu, là nhãn của bộ dữ liệu. Hiểu được cột này sẽ cho chúng ta có cái nhìn chính xác về vấn đề kinh tế đặt ra."
   ]
  },
  {
   "cell_type": "code",
   "execution_count": 5,
   "metadata": {},
   "outputs": [
    {
     "name": "stdout",
     "output_type": "stream",
     "text": [
      "failed     5092\n",
      "success    2081\n",
      "Name: Status, dtype: int64\n"
     ]
    },
    {
     "data": {
      "text/plain": [
       "<AxesSubplot:ylabel='Status'>"
      ]
     },
     "execution_count": 5,
     "metadata": {},
     "output_type": "execute_result"
    },
    {
     "data": {
      "image/png": "[encoded data removed]",
      "text/plain": [
       "<Figure size 720x432 with 1 Axes>"
      ]
     },
     "metadata": {},
     "output_type": "display_data"
    }
   ],
   "source": [
    "status_value_counts = df['Status'].value_counts()\n",
    "print(status_value_counts)\n",
    "status_value_counts.plot.pie(autopct=\"%.1f%%\", figsize=[10,6])"
   ]
  },
  {
   "cell_type": "markdown",
   "metadata": {},
   "source": [
    "Ta nhận thấy có phần lớn dự án gọi vốn thất bại. Cho thấy mức độ khó khăn của hoạt động gọi vốn cộng đồng nói riêng, gọi vốn đầu tư nói chung khó khăn như thế nào."
   ]
  },
  {
   "cell_type": "markdown",
   "metadata": {},
   "source": [
    "---"
   ]
  },
  {
   "cell_type": "markdown",
   "metadata": {},
   "source": [
    "Ta sẽ tiếp tục phân tích cột `Name`. Giống như trong lĩnh vực báo chí, tiêu đề hay, thu hút có thể thu hút một lượng lớn người đọc. Ta hoàn toàn có thể đặt ra giả thuyết rằng cách đặt tên dự án cũng sẽ ảnh hưởng thu hút được vốn đầu tư.\n",
    "\n",
    "Trong khuôn khổ đồ án, chúng ta sẽ bỏ qua các kĩ thuật xử lý ngôn ngữ phức tạp. Nhưng chúng ta vẫn sẽ chiết tách hai thuộc tính mới cho cột `Name` là độ dài và số từ sử dụng."
   ]
  },
  {
   "cell_type": "code",
   "execution_count": 6,
   "metadata": {},
   "outputs": [
    {
     "data": {
      "text/html": [
       "<div>\n",
       "<style scoped>\n",
       "    .dataframe tbody tr th:only-of-type {\n",
       "        vertical-align: middle;\n",
       "    }\n",
       "\n",
       "    .dataframe tbody tr th {\n",
       "        vertical-align: top;\n",
       "    }\n",
       "\n",
       "    .dataframe thead th {\n",
       "        text-align: right;\n",
       "    }\n",
       "</style>\n",
       "<table border=\"1\" class=\"dataframe\">\n",
       "  <thead>\n",
       "    <tr style=\"text-align: right;\">\n",
       "      <th></th>\n",
       "      <th>Id</th>\n",
       "      <th>Name</th>\n",
       "      <th>NameLength</th>\n",
       "      <th>NameWords</th>\n",
       "      <th>Status</th>\n",
       "    </tr>\n",
       "  </thead>\n",
       "  <tbody>\n",
       "    <tr>\n",
       "      <th>6066</th>\n",
       "      <td>6065</td>\n",
       "      <td>Project BEESWAX</td>\n",
       "      <td>15</td>\n",
       "      <td>2</td>\n",
       "      <td>failed</td>\n",
       "    </tr>\n",
       "    <tr>\n",
       "      <th>6051</th>\n",
       "      <td>6050</td>\n",
       "      <td>Homebrew Computer Club Reunion</td>\n",
       "      <td>30</td>\n",
       "      <td>4</td>\n",
       "      <td>success</td>\n",
       "    </tr>\n",
       "    <tr>\n",
       "      <th>6092</th>\n",
       "      <td>6091</td>\n",
       "      <td>Tuit</td>\n",
       "      <td>4</td>\n",
       "      <td>1</td>\n",
       "      <td>failed</td>\n",
       "    </tr>\n",
       "    <tr>\n",
       "      <th>4999</th>\n",
       "      <td>4998</td>\n",
       "      <td>Link &amp; Think Alike</td>\n",
       "      <td>18</td>\n",
       "      <td>4</td>\n",
       "      <td>failed</td>\n",
       "    </tr>\n",
       "    <tr>\n",
       "      <th>2822</th>\n",
       "      <td>2821</td>\n",
       "      <td>SACS</td>\n",
       "      <td>4</td>\n",
       "      <td>1</td>\n",
       "      <td>failed</td>\n",
       "    </tr>\n",
       "  </tbody>\n",
       "</table>\n",
       "</div>"
      ],
      "text/plain": [
       "        Id                            Name  NameLength  NameWords   Status\n",
       "6066  6065                 Project BEESWAX          15          2   failed\n",
       "6051  6050  Homebrew Computer Club Reunion          30          4  success\n",
       "6092  6091                            Tuit           4          1   failed\n",
       "4999  4998              Link & Think Alike          18          4   failed\n",
       "2822  2821                            SACS           4          1   failed"
      ]
     },
     "execution_count": 6,
     "metadata": {},
     "output_type": "execute_result"
    }
   ],
   "source": [
    "def count_words(s: str) -> int:\n",
    "    return len(s.strip().split(' '))\n",
    "\n",
    "df['NameLength'] = df['Name'].apply(len)\n",
    "df['NameWords'] = df['Name'].apply(count_words)\n",
    "df.sample(5)[['Id', 'Name', 'NameLength', 'NameWords', 'Status']]"
   ]
  },
  {
   "cell_type": "code",
   "execution_count": 7,
   "metadata": {
    "scrolled": false
   },
   "outputs": [
    {
     "data": {
      "text/plain": [
       "<AxesSubplot:xlabel='NameWords', ylabel='Frequency'>"
      ]
     },
     "execution_count": 7,
     "metadata": {},
     "output_type": "execute_result"
    },
    {
     "data": {
      "image/png": "[encoded data removed]",
      "text/plain": [
       "<Figure size 1080x432 with 2 Axes>"
      ]
     },
     "metadata": {
      "needs_background": "light"
     },
     "output_type": "display_data"
    }
   ],
   "source": [
    "plt.subplots(figsize=(15, 6))\n",
    "plt.subplot(1, 2, 1)\n",
    "sns.histplot(df, x='NameLength', hue='Status', binwidth=3, kde=True, element='step', stat='frequency')\n",
    "plt.subplot(1, 2, 2)\n",
    "sns.histplot(df, x='NameWords', hue='Status', binwidth=3, kde=True, element='step', stat='frequency')"
   ]
  },
  {
   "cell_type": "markdown",
   "metadata": {},
   "source": [
    "Dựa vào đồ thị, ta thấy độ dài tên các dự án thất bại phân bố trải dài tương đối đều (có dấu hiệu trũng ở giữa, cao hơn ở hai phía). Trong khi các dự án thành công thì tăng dần. Từ đó tỉ lệ thành công / thất bại theo độ dài tên cũng tăng dần độ dài tên tăng."
   ]
  },
  {
   "cell_type": "markdown",
   "metadata": {},
   "source": [
    "Để tiện tính toán, xử lý. Từ giờ chúng ta sẽ quy định `success` là 1 và `failed` là 0"
   ]
  },
  {
   "cell_type": "code",
   "execution_count": 8,
   "metadata": {},
   "outputs": [],
   "source": [
    "df['StatusEncoded'] = df['Status'].replace(['success', 'failed'], [1, 0])\n",
    "df['StatusEncoded'] = df['StatusEncoded'].astype(int)"
   ]
  },
  {
   "cell_type": "markdown",
   "metadata": {},
   "source": [
    "---"
   ]
  },
  {
   "cell_type": "markdown",
   "metadata": {},
   "source": [
    "Cột `Url` là đường dẫn, có thể tạo lại bằng tên của dự án nên ta sẽ bỏ qua."
   ]
  },
  {
   "cell_type": "code",
   "execution_count": 9,
   "metadata": {},
   "outputs": [
    {
     "data": {
      "text/plain": [
       "37      http://www.kickstarter.com/projects/1274743409...\n",
       "6579    http://www.kickstarter.com/projects/andersjj/s...\n",
       "6504    http://www.kickstarter.com/projects/585102285/...\n",
       "7122    http://www.kickstarter.com/projects/replaymy/r...\n",
       "5327    http://www.kickstarter.com/projects/72058638/g...\n",
       "Name: Url, dtype: object"
      ]
     },
     "execution_count": 9,
     "metadata": {},
     "output_type": "execute_result"
    }
   ],
   "source": [
    "df['Url'].sample(5)"
   ]
  },
  {
   "cell_type": "markdown",
   "metadata": {},
   "source": [
    "---"
   ]
  },
  {
   "cell_type": "markdown",
   "metadata": {},
   "source": [
    "Đối với cột `Goal` và cột `Pledged`, chúng ta thấy dữ liệu bao gồm cả đơn vị tiền tệ. Điều này gây khó khăn cho phân tích và xử lý các dữ liệu số.\n",
    "\n",
    "Bên cạnh đó đơn vị tiền tệ cũng là một thuộc tính có thể mang thông tin hữu ích. Nó cho thấy phần nào tình hình thị trường vốn của các quốc gia. Một giả thuyết có thể được đặt ra là liệu có đồng tiền nào được ưa chuộng hơn trong đầu tư.\n",
    "\n",
    "Do đó, chúng ta sẽ tách các thông tin về số và tiền tệ ra thành các thuộc tính khác nhau."
   ]
  },
  {
   "cell_type": "code",
   "execution_count": 10,
   "metadata": {},
   "outputs": [],
   "source": [
    "def currency_split(s: str) -> int:\n",
    "    i = 0\n",
    "    while not s[i].isnumeric():\n",
    "        i += 1        \n",
    "    return i\n",
    "\n",
    "df['Currency'] = df['Goal'].apply(lambda x: x[:currency_split(x)])\n",
    "df['GoalValue'] = df['Goal'].apply(lambda x: x[currency_split(x):]).astype(int)\n",
    "df['PledgedValue'] = df['Pledged'].apply(lambda x: x[currency_split(x):]).astype(int)"
   ]
  },
  {
   "cell_type": "code",
   "execution_count": 11,
   "metadata": {},
   "outputs": [
    {
     "data": {
      "text/plain": [
       "$      5621\n",
       "€       724\n",
       "£       594\n",
       "HK$      89\n",
       "kr       76\n",
       "MX$      54\n",
       "¥         6\n",
       "â‚¬       5\n",
       "Â£        4\n",
       "Name: Currency, dtype: int64"
      ]
     },
     "execution_count": 11,
     "metadata": {},
     "output_type": "execute_result"
    }
   ],
   "source": [
    "df['Currency'].value_counts()"
   ]
  },
  {
   "cell_type": "markdown",
   "metadata": {},
   "source": [
    "Trong danh sách này, có hai kí hiệu tiền tệ lạ là `â‚¬` và `Â£`. Chúng ta sẽ kiểm tra các dự án sử dụng loại tiền tệ này."
   ]
  },
  {
   "cell_type": "code",
   "execution_count": 12,
   "metadata": {},
   "outputs": [
    {
     "data": {
      "text/plain": [
       "942     http://www.kickstarter.com/projects/roseprj/is...\n",
       "943     http://www.kickstarter.com/projects/2131326048...\n",
       "946     http://www.kickstarter.com/projects/smart-ivy/...\n",
       "949     http://www.kickstarter.com/projects/ramoncaraz...\n",
       "950     http://www.kickstarter.com/projects/hyperloopu...\n",
       "1243    http://www.kickstarter.com/projects/1140759607...\n",
       "1246    http://www.kickstarter.com/projects/1206849453...\n",
       "1249    http://www.kickstarter.com/projects/583173617/...\n",
       "1250    http://www.kickstarter.com/projects/12283819/q...\n",
       "Name: Url, dtype: object"
      ]
     },
     "execution_count": 12,
     "metadata": {},
     "output_type": "execute_result"
    }
   ],
   "source": [
    "df[(df['Currency'] == 'Â£')|(df['Currency'] == 'â‚¬')]['Url']"
   ]
  },
  {
   "cell_type": "markdown",
   "metadata": {},
   "source": [
    "Tất cả các trang đều lỗi. Như vậy, các loại tiền tệ này là lỗi trong quá trình lấy dữ liệu. Và số lượng của chúng cũng rất nhỏ trên toản bộ tập dữ liệu. \n",
    "Chúng ta sẽ xóa bỏ các dòng có dữ liệu lỗi đi. Sau đó, đổi các loại tiền tệ còn lại sang dạng tên viết tắt."
   ]
  },
  {
   "cell_type": "code",
   "execution_count": 13,
   "metadata": {},
   "outputs": [
    {
     "data": {
      "text/plain": [
       "USD    5621\n",
       "EUR     724\n",
       "GBP     594\n",
       "HKD      89\n",
       "SEK      76\n",
       "MXN      54\n",
       "JPY       6\n",
       "Name: CurrencyName, dtype: int64"
      ]
     },
     "execution_count": 13,
     "metadata": {},
     "output_type": "execute_result"
    }
   ],
   "source": [
    "df = df[(df['Currency'] != 'Â£')&(df['Currency'] != 'â‚¬')]\n",
    "\n",
    "frequent_currency_symbol = ['$', '€', '£', 'HK$', 'MX$', 'kr', '¥']\n",
    "frequent_currency_code = ['USD', 'EUR', 'GBP', 'HKD', 'MXN', 'SEK', 'JPY']\n",
    "df['CurrencyName'] = df['Currency'].replace(frequent_currency_symbol, frequent_currency_code)\n",
    "df['CurrencyName'].value_counts()"
   ]
  },
  {
   "cell_type": "code",
   "execution_count": 14,
   "metadata": {},
   "outputs": [
    {
     "data": {
      "text/plain": [
       "<AxesSubplot:xlabel='CurrencyName', ylabel='count'>"
      ]
     },
     "execution_count": 14,
     "metadata": {},
     "output_type": "execute_result"
    },
    {
     "data": {
      "image/png": "[encoded data removed]",
      "text/plain": [
       "<Figure size 1080x432 with 2 Axes>"
      ]
     },
     "metadata": {
      "needs_background": "light"
     },
     "output_type": "display_data"
    }
   ],
   "source": [
    "plt.subplots(figsize=(15, 6))\n",
    "plt.subplot(2, 1, 1)\n",
    "sns.barplot(x='CurrencyName', y='StatusEncoded', data=df)\n",
    "plt.subplot(2, 1, 2)\n",
    "sns.countplot(x='CurrencyName', data=df)"
   ]
  },
  {
   "cell_type": "markdown",
   "metadata": {},
   "source": [
    "Ở đây ta thấy, các đồng tiền khác nhau có khả năng khác nhau trong việc thu hút vốn. Ví dụ như đồng `HKD` có tỉ lệ gọi vốn thành công bằng đồng tiền này rất cao, chứng tỏ thị trường vốn ở Hồng Kông rất sôi động, nhưng các lựa chọn đầu tư cộng đồng còn chưa đa dạng."
   ]
  },
  {
   "cell_type": "markdown",
   "metadata": {},
   "source": [
    "---"
   ]
  },
  {
   "cell_type": "markdown",
   "metadata": {},
   "source": [
    "Để chuẩn hóa dữ liệu, tiện cho việc so sánh. Chúng ta sẽ tất cả các con số gọi vốn và đầu tư về cùng một đơn vị tiền tệ. Vì `USD` là đồng tiền thanh toán quốc tế và số lượng mẫu sử dụng `USD` chiếm đa số, nên chúng ta sẽ sử dụng đồng tiền này làm thước đo."
   ]
  },
  {
   "cell_type": "code",
   "execution_count": 15,
   "metadata": {},
   "outputs": [],
   "source": [
    "api = 'https://api.exchangeratesapi.io/latest?base={}&symbols=USD'\n",
    "\n",
    "exchanger_dict = dict()\n",
    "\n",
    "def get_exchange_rate_USD(currency: str) -> float:\n",
    "    if currency in exchanger_dict:\n",
    "        return exchanger_dict[currency]\n",
    "    else:\n",
    "        req = requests.get(api.format(currency))\n",
    "        json = req.json()\n",
    "        rate = json['rates']['USD']\n",
    "        exchanger_dict[currency] = rate\n",
    "        return rate\n",
    "\n",
    "def exchange_USD(x, currency) -> float:\n",
    "    return x * get_exchange_rate_USD(currency)"
   ]
  },
  {
   "cell_type": "code",
   "execution_count": 16,
   "metadata": {},
   "outputs": [
    {
     "name": "stdout",
     "output_type": "stream",
     "text": [
      "{'EUR': 1.2123, 'USD': 1.0, 'HKD': 0.1289718632, 'MXN': 0.0504639285, 'GBP': 1.3631202006, 'SEK': 0.1199695228, 'JPY': 0.0096062119}\n"
     ]
    },
    {
     "data": {
      "text/html": [
       "<div>\n",
       "<style scoped>\n",
       "    .dataframe tbody tr th:only-of-type {\n",
       "        vertical-align: middle;\n",
       "    }\n",
       "\n",
       "    .dataframe tbody tr th {\n",
       "        vertical-align: top;\n",
       "    }\n",
       "\n",
       "    .dataframe thead th {\n",
       "        text-align: right;\n",
       "    }\n",
       "</style>\n",
       "<table border=\"1\" class=\"dataframe\">\n",
       "  <thead>\n",
       "    <tr style=\"text-align: right;\">\n",
       "      <th></th>\n",
       "      <th>Id</th>\n",
       "      <th>Name</th>\n",
       "      <th>Url</th>\n",
       "      <th>Goal</th>\n",
       "      <th>Pledged</th>\n",
       "      <th>Launch</th>\n",
       "      <th>End</th>\n",
       "      <th>Year</th>\n",
       "      <th>Comments</th>\n",
       "      <th>Updates</th>\n",
       "      <th>...</th>\n",
       "      <th>Status</th>\n",
       "      <th>NameLength</th>\n",
       "      <th>NameWords</th>\n",
       "      <th>StatusEncoded</th>\n",
       "      <th>Currency</th>\n",
       "      <th>GoalValue</th>\n",
       "      <th>PledgedValue</th>\n",
       "      <th>CurrencyName</th>\n",
       "      <th>GoalUSD</th>\n",
       "      <th>PledgedUSD</th>\n",
       "    </tr>\n",
       "  </thead>\n",
       "  <tbody>\n",
       "    <tr>\n",
       "      <th>1459</th>\n",
       "      <td>1458</td>\n",
       "      <td>Electric Eel Wheel Mini</td>\n",
       "      <td>http://www.kickstarter.com/projects/1492884446...</td>\n",
       "      <td>$2500</td>\n",
       "      <td>$85353</td>\n",
       "      <td>November 27th</td>\n",
       "      <td>December 29th</td>\n",
       "      <td>2017</td>\n",
       "      <td>104</td>\n",
       "      <td>15</td>\n",
       "      <td>...</td>\n",
       "      <td>success</td>\n",
       "      <td>23</td>\n",
       "      <td>4</td>\n",
       "      <td>1</td>\n",
       "      <td>$</td>\n",
       "      <td>2500</td>\n",
       "      <td>85353</td>\n",
       "      <td>USD</td>\n",
       "      <td>2500.0000</td>\n",
       "      <td>85353.000000</td>\n",
       "    </tr>\n",
       "    <tr>\n",
       "      <th>3049</th>\n",
       "      <td>3048</td>\n",
       "      <td>SPANIARDS BLOG</td>\n",
       "      <td>http://www.kickstarter.com/projects/1342424510...</td>\n",
       "      <td>€5000</td>\n",
       "      <td>€0</td>\n",
       "      <td>November 18th</td>\n",
       "      <td>December 28th</td>\n",
       "      <td>2015</td>\n",
       "      <td>0</td>\n",
       "      <td>0</td>\n",
       "      <td>...</td>\n",
       "      <td>failed</td>\n",
       "      <td>14</td>\n",
       "      <td>2</td>\n",
       "      <td>0</td>\n",
       "      <td>€</td>\n",
       "      <td>5000</td>\n",
       "      <td>0</td>\n",
       "      <td>EUR</td>\n",
       "      <td>6061.5000</td>\n",
       "      <td>0.000000</td>\n",
       "    </tr>\n",
       "    <tr>\n",
       "      <th>5961</th>\n",
       "      <td>5960</td>\n",
       "      <td>Launch Santa Fe High School's Rocket Club!</td>\n",
       "      <td>http://www.kickstarter.com/projects/220377204/...</td>\n",
       "      <td>$2500</td>\n",
       "      <td>$2579</td>\n",
       "      <td>November 18th</td>\n",
       "      <td>December 18th</td>\n",
       "      <td>2013</td>\n",
       "      <td>0</td>\n",
       "      <td>14</td>\n",
       "      <td>...</td>\n",
       "      <td>success</td>\n",
       "      <td>42</td>\n",
       "      <td>7</td>\n",
       "      <td>1</td>\n",
       "      <td>$</td>\n",
       "      <td>2500</td>\n",
       "      <td>2579</td>\n",
       "      <td>USD</td>\n",
       "      <td>2500.0000</td>\n",
       "      <td>2579.000000</td>\n",
       "    </tr>\n",
       "    <tr>\n",
       "      <th>6689</th>\n",
       "      <td>6688</td>\n",
       "      <td>THE KING PONG PROJECT: Crowdsourcing iPhone Ap...</td>\n",
       "      <td>http://www.kickstarter.com/projects/1412246023...</td>\n",
       "      <td>$35000</td>\n",
       "      <td>$857</td>\n",
       "      <td>May 16th</td>\n",
       "      <td>June 19th</td>\n",
       "      <td>2012</td>\n",
       "      <td>2</td>\n",
       "      <td>0</td>\n",
       "      <td>...</td>\n",
       "      <td>failed</td>\n",
       "      <td>59</td>\n",
       "      <td>8</td>\n",
       "      <td>0</td>\n",
       "      <td>$</td>\n",
       "      <td>35000</td>\n",
       "      <td>857</td>\n",
       "      <td>USD</td>\n",
       "      <td>35000.0000</td>\n",
       "      <td>857.000000</td>\n",
       "    </tr>\n",
       "    <tr>\n",
       "      <th>414</th>\n",
       "      <td>413</td>\n",
       "      <td>Stick: Learning That Sticks</td>\n",
       "      <td>http://www.kickstarter.com/projects/make-it-st...</td>\n",
       "      <td>kr500000</td>\n",
       "      <td>kr6013</td>\n",
       "      <td>February 26th</td>\n",
       "      <td>March 27th</td>\n",
       "      <td>2020</td>\n",
       "      <td>2</td>\n",
       "      <td>0</td>\n",
       "      <td>...</td>\n",
       "      <td>failed</td>\n",
       "      <td>27</td>\n",
       "      <td>4</td>\n",
       "      <td>0</td>\n",
       "      <td>kr</td>\n",
       "      <td>500000</td>\n",
       "      <td>6013</td>\n",
       "      <td>SEK</td>\n",
       "      <td>59984.7614</td>\n",
       "      <td>721.376741</td>\n",
       "    </tr>\n",
       "  </tbody>\n",
       "</table>\n",
       "<p>5 rows × 25 columns</p>\n",
       "</div>"
      ],
      "text/plain": [
       "        Id                                               Name  \\\n",
       "1459  1458                            Electric Eel Wheel Mini   \n",
       "3049  3048                                     SPANIARDS BLOG   \n",
       "5961  5960         Launch Santa Fe High School's Rocket Club!   \n",
       "6689  6688  THE KING PONG PROJECT: Crowdsourcing iPhone Ap...   \n",
       "414    413                        Stick: Learning That Sticks   \n",
       "\n",
       "                                                    Url      Goal Pledged  \\\n",
       "1459  http://www.kickstarter.com/projects/1492884446...     $2500  $85353   \n",
       "3049  http://www.kickstarter.com/projects/1342424510...     €5000      €0   \n",
       "5961  http://www.kickstarter.com/projects/220377204/...     $2500   $2579   \n",
       "6689  http://www.kickstarter.com/projects/1412246023...    $35000    $857   \n",
       "414   http://www.kickstarter.com/projects/make-it-st...  kr500000  kr6013   \n",
       "\n",
       "             Launch            End  Year Comments  Updates  ...   Status  \\\n",
       "1459  November 27th  December 29th  2017      104       15  ...  success   \n",
       "3049  November 18th  December 28th  2015        0        0  ...   failed   \n",
       "5961  November 18th  December 18th  2013        0       14  ...  success   \n",
       "6689       May 16th      June 19th  2012        2        0  ...   failed   \n",
       "414   February 26th     March 27th  2020        2        0  ...   failed   \n",
       "\n",
       "      NameLength  NameWords  StatusEncoded  Currency GoalValue  PledgedValue  \\\n",
       "1459          23          4              1         $      2500         85353   \n",
       "3049          14          2              0         €      5000             0   \n",
       "5961          42          7              1         $      2500          2579   \n",
       "6689          59          8              0         $     35000           857   \n",
       "414           27          4              0        kr    500000          6013   \n",
       "\n",
       "      CurrencyName     GoalUSD    PledgedUSD  \n",
       "1459           USD   2500.0000  85353.000000  \n",
       "3049           EUR   6061.5000      0.000000  \n",
       "5961           USD   2500.0000   2579.000000  \n",
       "6689           USD  35000.0000    857.000000  \n",
       "414            SEK  59984.7614    721.376741  \n",
       "\n",
       "[5 rows x 25 columns]"
      ]
     },
     "execution_count": 16,
     "metadata": {},
     "output_type": "execute_result"
    }
   ],
   "source": [
    "exchange_rate_vector = df['CurrencyName'].apply(get_exchange_rate_USD)\n",
    "df['GoalUSD'] = df['GoalValue'] * exchange_rate_vector\n",
    "df['PledgedUSD'] = df['PledgedValue'] * exchange_rate_vector\n",
    "\n",
    "print(exchanger_dict)\n",
    "df.sample(5)"
   ]
  },
  {
   "cell_type": "markdown",
   "metadata": {},
   "source": [
    "Bây giờ chúng ta sẽ xem xét sự liên hệ giữa `Goal` và `Status`."
   ]
  },
  {
   "cell_type": "code",
   "execution_count": 17,
   "metadata": {},
   "outputs": [
    {
     "name": "stdout",
     "output_type": "stream",
     "text": [
      "Median of success goal:  10000.0\n",
      "Median of failed goal:   25000.0\n"
     ]
    },
    {
     "data": {
      "image/png": "[encoded data removed]",
      "text/plain": [
       "<Figure size 1080x432 with 2 Axes>"
      ]
     },
     "metadata": {
      "needs_background": "light"
     },
     "output_type": "display_data"
    }
   ],
   "source": [
    "plt.subplots(figsize=(15,6))\n",
    "plt.subplot(1, 2, 1)\n",
    "sns.barplot(x='Status', y='GoalUSD', data=df)\n",
    "plt.subplot(1, 2, 2)\n",
    "sns.kdeplot(x='GoalUSD', hue='Status', data=df)\n",
    "\n",
    "print('Median of success goal: ', df[df['StatusEncoded'] == 1]['GoalUSD'].median())\n",
    "print('Median of failed goal:  ', df[df['StatusEncoded'] == 0]['GoalUSD'].median())\n",
    "plt.show()"
   ]
  },
  {
   "cell_type": "markdown",
   "metadata": {},
   "source": [
    "Như chúng ta thấy, con số kêu gọi rất quan trọng trong mô hình. Các dự án thành công đều có mức kêu gọi phân bố trong khoảng thấp. Trung bình khoảng vốn kêu gọi của các dự án thành công thấp hơn rất nhiều so với các dự án thất bại."
   ]
  },
  {
   "cell_type": "markdown",
   "metadata": {},
   "source": [
    "Chúng ta sẽ bỏ qua cột `Pledged` ở đây. Vì đơn giản là cột `Pledged` có thể suy ra trực tiếp kết quả."
   ]
  },
  {
   "cell_type": "markdown",
   "metadata": {},
   "source": [
    "---"
   ]
  },
  {
   "cell_type": "markdown",
   "metadata": {},
   "source": [
    "Ngày bắt đầu và ngày kết thúc cũng có thể cho chúng ta những thông tin hữu ích về bộ dữ liệu. Đầu tiên chúng ta sẽ kiểm tra mối tương quan giữa khoảng thời gian gọi vốn và kết quả gọi vốn. Bên cạnh đó, chúng ta cũng kiểm tra giả thuyết liệu bắt đầu gọi vốn vào ngày cuối tuần có ảnh hưởng đến kết quả không."
   ]
  },
  {
   "cell_type": "code",
   "execution_count": 18,
   "metadata": {},
   "outputs": [
    {
     "data": {
      "text/html": [
       "<div>\n",
       "<style scoped>\n",
       "    .dataframe tbody tr th:only-of-type {\n",
       "        vertical-align: middle;\n",
       "    }\n",
       "\n",
       "    .dataframe tbody tr th {\n",
       "        vertical-align: top;\n",
       "    }\n",
       "\n",
       "    .dataframe thead th {\n",
       "        text-align: right;\n",
       "    }\n",
       "</style>\n",
       "<table border=\"1\" class=\"dataframe\">\n",
       "  <thead>\n",
       "    <tr style=\"text-align: right;\">\n",
       "      <th></th>\n",
       "      <th>Launch</th>\n",
       "      <th>End</th>\n",
       "      <th>Year</th>\n",
       "      <th>Days</th>\n",
       "      <th>Weekday</th>\n",
       "      <th>Status</th>\n",
       "    </tr>\n",
       "  </thead>\n",
       "  <tbody>\n",
       "    <tr>\n",
       "      <th>6101</th>\n",
       "      <td>September 17th</td>\n",
       "      <td>October 17th</td>\n",
       "      <td>2013</td>\n",
       "      <td>30.0</td>\n",
       "      <td>1</td>\n",
       "      <td>failed</td>\n",
       "    </tr>\n",
       "    <tr>\n",
       "      <th>2191</th>\n",
       "      <td>August 23rd</td>\n",
       "      <td>October 22nd</td>\n",
       "      <td>2016</td>\n",
       "      <td>60.0</td>\n",
       "      <td>1</td>\n",
       "      <td>success</td>\n",
       "    </tr>\n",
       "    <tr>\n",
       "      <th>5505</th>\n",
       "      <td>May 4th</td>\n",
       "      <td>June 3rd</td>\n",
       "      <td>2014</td>\n",
       "      <td>30.0</td>\n",
       "      <td>6</td>\n",
       "      <td>failed</td>\n",
       "    </tr>\n",
       "    <tr>\n",
       "      <th>1073</th>\n",
       "      <td>December 6th</td>\n",
       "      <td>January 24th</td>\n",
       "      <td>2019</td>\n",
       "      <td>49.0</td>\n",
       "      <td>4</td>\n",
       "      <td>success</td>\n",
       "    </tr>\n",
       "    <tr>\n",
       "      <th>4357</th>\n",
       "      <td>March 4th</td>\n",
       "      <td>April 3rd</td>\n",
       "      <td>2015</td>\n",
       "      <td>30.0</td>\n",
       "      <td>2</td>\n",
       "      <td>failed</td>\n",
       "    </tr>\n",
       "  </tbody>\n",
       "</table>\n",
       "</div>"
      ],
      "text/plain": [
       "              Launch           End  Year  Days  Weekday   Status\n",
       "6101  September 17th  October 17th  2013  30.0        1   failed\n",
       "2191     August 23rd  October 22nd  2016  60.0        1  success\n",
       "5505         May 4th      June 3rd  2014  30.0        6   failed\n",
       "1073    December 6th  January 24th  2019  49.0        4  success\n",
       "4357       March 4th     April 3rd  2015  30.0        2   failed"
      ]
     },
     "execution_count": 18,
     "metadata": {},
     "output_type": "execute_result"
    }
   ],
   "source": [
    "def str_to_datetime(s: str) -> datetime:\n",
    "    return datetime.strptime(s, '%B %d,%Y')\n",
    "    \n",
    "durations = []\n",
    "weekdays = []\n",
    "for launch_date_str, end_date_str, year in zip(df['Launch'], df['End'], df['Year']):\n",
    "    launch_dt = str_to_datetime(''.join([launch_date_str[:-2], ',', str(year)]))\n",
    "    end_dt = str_to_datetime(''.join([end_date_str[:-2], ',', str(year)]))\n",
    "    \n",
    "    weekdays.append(launch_dt.weekday())\n",
    "    \n",
    "    duration = end_dt - launch_dt\n",
    "    durations.append(duration.total_seconds() / (3600 * 24))\n",
    "\n",
    "# durations\n",
    "df['Days'] = durations\n",
    "df.loc[df['Days'] <= 0,'Days'] = df[df['Days'] <= 0]['Days'] + 365\n",
    "df['Weekday'] = weekdays\n",
    "df.sample(5)[['Launch', 'End', 'Year', 'Days', 'Weekday', 'Status']]"
   ]
  },
  {
   "cell_type": "code",
   "execution_count": 19,
   "metadata": {},
   "outputs": [
    {
     "data": {
      "text/plain": [
       "<AxesSubplot:xlabel='Days', ylabel='Density'>"
      ]
     },
     "execution_count": 19,
     "metadata": {},
     "output_type": "execute_result"
    },
    {
     "data": {
      "image/png": "[encoded data removed]",
      "text/plain": [
       "<Figure size 1080x432 with 2 Axes>"
      ]
     },
     "metadata": {
      "needs_background": "light"
     },
     "output_type": "display_data"
    }
   ],
   "source": [
    "plt.subplots(figsize=(15,6))\n",
    "plt.subplot(1, 2, 1)\n",
    "sns.barplot(x='StatusEncoded', y='Days', data=df)\n",
    "plt.subplot(1, 2, 2)\n",
    "sns.kdeplot(x='Days', hue='Status', data=df)"
   ]
  },
  {
   "cell_type": "code",
   "execution_count": 20,
   "metadata": {},
   "outputs": [
    {
     "data": {
      "text/plain": [
       "<AxesSubplot:xlabel='Weekday', ylabel='count'>"
      ]
     },
     "execution_count": 20,
     "metadata": {},
     "output_type": "execute_result"
    },
    {
     "data": {
      "image/png": "[encoded data removed]",
      "text/plain": [
       "<Figure size 432x288 with 1 Axes>"
      ]
     },
     "metadata": {
      "needs_background": "light"
     },
     "output_type": "display_data"
    }
   ],
   "source": [
    "sns.countplot(x='Weekday', hue='Status', data=df)"
   ]
  },
  {
   "cell_type": "markdown",
   "metadata": {},
   "source": [
    "Dựa vào biểu đồ, chúng ta thấy các thông tin về ngày tháng không cho dấu hiệu \"quá\" rõ ràng về mối quan hệ với khả năng thành công của dự án gọi vốn."
   ]
  },
  {
   "cell_type": "markdown",
   "metadata": {},
   "source": [
    "---"
   ]
  },
  {
   "cell_type": "markdown",
   "metadata": {},
   "source": [
    "Tiếp theo, chúng ta sẽ lần lượt kiểm tra mối tương quan giữa số lượng bình luận, số lượng FAQ, số lần cập nhật, số nhà đầu tư. đối với kết quả gọi vốn."
   ]
  },
  {
   "cell_type": "markdown",
   "metadata": {},
   "source": [
    "Trước hết, chúng ta nhận thấy có một cột không chứa dữ liệu số là cột `Comments`. Lí do là khi các con số lớn hơn 1000, dữ liệu sẽ có dấu `,`. Chúng ta cần bỏ dấu `,` đi và chuyển sang dạng số."
   ]
  },
  {
   "cell_type": "code",
   "execution_count": 21,
   "metadata": {},
   "outputs": [],
   "source": [
    "df['Comments'] = df['Comments'].apply(lambda x : x.replace(',', '')).astype(int)"
   ]
  },
  {
   "cell_type": "code",
   "execution_count": 22,
   "metadata": {},
   "outputs": [
    {
     "data": {
      "text/plain": [
       "<AxesSubplot:xlabel='Comments', ylabel='Density'>"
      ]
     },
     "execution_count": 22,
     "metadata": {},
     "output_type": "execute_result"
    },
    {
     "data": {
      "image/png": "[encoded data removed]",
      "text/plain": [
       "<Figure size 1080x432 with 2 Axes>"
      ]
     },
     "metadata": {
      "needs_background": "light"
     },
     "output_type": "display_data"
    }
   ],
   "source": [
    "plt.subplots(figsize=(15,6))\n",
    "plt.subplot(1, 2, 1)\n",
    "sns.barplot(x='StatusEncoded', y='Comments', data=df)\n",
    "plt.subplot(1, 2, 2)\n",
    "sns.kdeplot(x='Comments', hue='Status', data=df)"
   ]
  },
  {
   "cell_type": "code",
   "execution_count": 23,
   "metadata": {},
   "outputs": [
    {
     "data": {
      "text/plain": [
       "<AxesSubplot:xlabel='Updates', ylabel='Density'>"
      ]
     },
     "execution_count": 23,
     "metadata": {},
     "output_type": "execute_result"
    },
    {
     "data": {
      "image/png": "[encoded data removed]",
      "text/plain": [
       "<Figure size 1080x432 with 2 Axes>"
      ]
     },
     "metadata": {
      "needs_background": "light"
     },
     "output_type": "display_data"
    }
   ],
   "source": [
    "plt.subplots(figsize=(15,6))\n",
    "plt.subplot(1, 2, 1)\n",
    "sns.barplot(x='StatusEncoded', y='Updates', data=df)\n",
    "plt.subplot(1, 2, 2)\n",
    "sns.kdeplot(x='Updates', hue='Status', data=df)"
   ]
  },
  {
   "cell_type": "code",
   "execution_count": 24,
   "metadata": {},
   "outputs": [
    {
     "data": {
      "text/plain": [
       "<AxesSubplot:xlabel='Backers', ylabel='Density'>"
      ]
     },
     "execution_count": 24,
     "metadata": {},
     "output_type": "execute_result"
    },
    {
     "data": {
      "image/png": "[encoded data removed]",
      "text/plain": [
       "<Figure size 1080x432 with 2 Axes>"
      ]
     },
     "metadata": {
      "needs_background": "light"
     },
     "output_type": "display_data"
    }
   ],
   "source": [
    "plt.subplots(figsize=(15,6))\n",
    "plt.subplot(1, 2, 1)\n",
    "sns.barplot(x='StatusEncoded', y='Backers', data=df)\n",
    "plt.subplot(1, 2, 2)\n",
    "sns.kdeplot(x='Backers', hue='Status', data=df)"
   ]
  },
  {
   "cell_type": "code",
   "execution_count": 25,
   "metadata": {},
   "outputs": [
    {
     "data": {
      "text/plain": [
       "<AxesSubplot:xlabel='Faqs', ylabel='Density'>"
      ]
     },
     "execution_count": 25,
     "metadata": {},
     "output_type": "execute_result"
    },
    {
     "data": {
      "image/png": "[encoded data removed]",
      "text/plain": [
       "<Figure size 1080x432 with 2 Axes>"
      ]
     },
     "metadata": {
      "needs_background": "light"
     },
     "output_type": "display_data"
    }
   ],
   "source": [
    "plt.subplots(figsize=(15,6))\n",
    "plt.subplot(1, 2, 1)\n",
    "sns.barplot(x='StatusEncoded', y='Faqs', data=df)\n",
    "plt.subplot(1, 2, 2)\n",
    "sns.kdeplot(x='Faqs', hue='Status', data=df)"
   ]
  },
  {
   "cell_type": "markdown",
   "metadata": {},
   "source": [
    "Như chúng ta đã thấy, đối với các con số này, số càng lớn thì tỉ lệ thành công càng cao. Trong khi phân phối của các số này của các dữ liệu thất bại có đỉnh gần như bằng không thì ở bên phía thành công, đỉnh nằm ở vị trí xa 0 và sườn dốc phân phối khá thoải."
   ]
  },
  {
   "cell_type": "markdown",
   "metadata": {},
   "source": [
    "---"
   ]
  },
  {
   "cell_type": "markdown",
   "metadata": {},
   "source": [
    "Bây giờ chúng ta sẽ xem xét giả thuyết liệu cách thiết lập các gói đầu tư có ảnh hưởng đến kết quả gọi vốn hay không."
   ]
  },
  {
   "cell_type": "code",
   "execution_count": 26,
   "metadata": {},
   "outputs": [
    {
     "data": {
      "text/plain": [
       "<AxesSubplot:xlabel='Tiers', ylabel='Frequency'>"
      ]
     },
     "execution_count": 26,
     "metadata": {},
     "output_type": "execute_result"
    },
    {
     "data": {
      "image/png": "[encoded data removed]",
      "text/plain": [
       "<Figure size 1080x432 with 1 Axes>"
      ]
     },
     "metadata": {
      "needs_background": "light"
     },
     "output_type": "display_data"
    }
   ],
   "source": [
    "plt.subplots(figsize=(15,6))\n",
    "sns.histplot(df, x='Tiers', hue='Status', binwidth=3, kde=True, element='step', stat='frequency')"
   ]
  },
  {
   "cell_type": "markdown",
   "metadata": {},
   "source": [
    "Dựa vào phân phối ở trên, chúng ta thấy có một vài điểm dữ liệu ở ngoại biên làm ảnh hưởng đến khả năng đánh giá. Thay vì cắt bọ chúng, chúng ta sẽ giới hạn chúng ở một giá trị nhất định (ở đây là 25)"
   ]
  },
  {
   "cell_type": "code",
   "execution_count": 27,
   "metadata": {
    "scrolled": false
   },
   "outputs": [
    {
     "data": {
      "text/plain": [
       "<AxesSubplot:xlabel='Tiers', ylabel='Frequency'>"
      ]
     },
     "execution_count": 27,
     "metadata": {},
     "output_type": "execute_result"
    },
    {
     "data": {
      "image/png": "[encoded data removed]",
      "text/plain": [
       "<Figure size 1008x504 with 2 Axes>"
      ]
     },
     "metadata": {
      "needs_background": "light"
     },
     "output_type": "display_data"
    }
   ],
   "source": [
    "df.loc[df['Tiers'] > 25, 'Tiers'] = 25\n",
    "\n",
    "plt.subplots(figsize=(14,7))\n",
    "plt.subplot(1, 2, 1)\n",
    "sns.lineplot(x='Tiers', y='StatusEncoded', data=df)\n",
    "plt.subplot(1, 2, 2)\n",
    "sns.histplot(df, x='Tiers', hue='Status', binwidth=3, kde=True, element='step', stat='frequency')"
   ]
  },
  {
   "cell_type": "markdown",
   "metadata": {},
   "source": [
    "Với biểu đồ trên, chúng ta nhận thấy khi xây dựng đa dạng gói đầu tư, kết quả gọi vốn đã có thể tăng đáng."
   ]
  },
  {
   "cell_type": "code",
   "execution_count": 28,
   "metadata": {},
   "outputs": [
    {
     "data": {
      "text/plain": [
       "<AxesSubplot:xlabel='TierMax', ylabel='Density'>"
      ]
     },
     "execution_count": 28,
     "metadata": {},
     "output_type": "execute_result"
    },
    {
     "data": {
      "image/png": "[encoded data removed]",
      "text/plain": [
       "<Figure size 1080x720 with 4 Axes>"
      ]
     },
     "metadata": {
      "needs_background": "light"
     },
     "output_type": "display_data"
    }
   ],
   "source": [
    "plt.subplots(figsize=(15,10))\n",
    "plt.subplot(2, 2, 1)\n",
    "sns.barplot(x='Status', y='TierMin', data=df)\n",
    "plt.subplot(2, 2, 2)\n",
    "sns.kdeplot(x='TierMin', hue='Status', data=df)\n",
    "plt.subplot(2, 2, 3)\n",
    "sns.barplot(x='Status', y='TierMax', data=df)\n",
    "plt.subplot(2, 2, 4)\n",
    "sns.kdeplot(x='TierMax', hue='Status', data=df)"
   ]
  },
  {
   "cell_type": "markdown",
   "metadata": {},
   "source": [
    "Với dữ liệu về gói đầu tư tối đa và gói đầu tư tối thiểu, có thể thấy có mối quan hệ với kết quả gọi vốn. Tuy nhiên sự liên hệ này có thể giải thích thông qua mục tiêu gọi vốn (`Goal`). Bởi lẽ, mục tiêu càng cao thì giá trị các gói đầu tư cũng lớn theo tương ứng."
   ]
  },
  {
   "cell_type": "markdown",
   "metadata": {},
   "source": [
    "---\n",
    "\n",
    "Chúng ta sẽ lưu lại bộ dữ liệu đã khai phá vào file `exploration_data.csv` và lưu các cột của dữ liệu thô (chúng ta hoàn toàn không chỉnh sửa gì ở các cột này mà luôn tạo cột mới, chúng ta chỉ xóa các dữ liệu lỗi do quá trình lấy dữ liệu) vào file `clean_data.csv`"
   ]
  },
  {
   "cell_type": "code",
   "execution_count": 29,
   "metadata": {},
   "outputs": [],
   "source": [
    "df.to_csv('exploration_data.csv', index=None)\n",
    "df[original_cols].to_csv('clean_data.csv', index=None)"
   ]
  },
  {
   "cell_type": "markdown",
   "metadata": {},
   "source": [
    "# Xây dựng model"
   ]
  },
  {
   "cell_type": "markdown",
   "metadata": {},
   "source": [
    "## Tiền xử lý dữ liệu"
   ]
  },
  {
   "cell_type": "markdown",
   "metadata": {},
   "source": [
    "Dựa vào kết quả khai phá dữ liệu ở trên, chúng ta sẽ tiến hành tiền xử lý dữ liệu."
   ]
  },
  {
   "cell_type": "markdown",
   "metadata": {},
   "source": [
    "Đầu tiên, ta đọc dữ liệu thô đã được làm sạch (chỉ xóa các dòng lỗi do lấy dữ liệu, không thêm hay thay đổi gì)"
   ]
  },
  {
   "cell_type": "code",
   "execution_count": 30,
   "metadata": {},
   "outputs": [
    {
     "name": "stdout",
     "output_type": "stream",
     "text": [
      "<class 'pandas.core.frame.DataFrame'>\n",
      "RangeIndex: 7164 entries, 0 to 7163\n",
      "Data columns (total 16 columns):\n",
      "Id          7164 non-null int64\n",
      "Name        7164 non-null object\n",
      "Url         7164 non-null object\n",
      "Goal        7164 non-null object\n",
      "Pledged     7164 non-null object\n",
      "Launch      7164 non-null object\n",
      "End         7164 non-null object\n",
      "Year        7164 non-null int64\n",
      "Comments    7164 non-null int64\n",
      "Updates     7164 non-null int64\n",
      "Faqs        7164 non-null int64\n",
      "Backers     7164 non-null int64\n",
      "Tiers       7164 non-null int64\n",
      "TierMin     7164 non-null int64\n",
      "TierMax     7164 non-null int64\n",
      "Status      7164 non-null object\n",
      "dtypes: int64(9), object(7)\n",
      "memory usage: 895.6+ KB\n"
     ]
    }
   ],
   "source": [
    "df = pd.read_csv('clean_data.csv')\n",
    "df.info()"
   ]
  },
  {
   "cell_type": "markdown",
   "metadata": {},
   "source": [
    "Bây giờ chúng ta tách dữ liệu thành hai bộ huấn luyện (*train*) và thẩm định (*validation*). Mỗi bộ gồm có dữ liệu đầu vào và đầu ra. Chúng ta cũng sẽ mã hóa cột kết quá sang dạng 0 và 1 để thuận tiện về sau."
   ]
  },
  {
   "cell_type": "code",
   "execution_count": 31,
   "metadata": {},
   "outputs": [
    {
     "name": "stdout",
     "output_type": "stream",
     "text": [
      "Train data: (5014, 15) (5014,)\n",
      "Test data: (2150, 15) (2150,)\n"
     ]
    }
   ],
   "source": [
    "X = df.drop('Status', axis=1)\n",
    "y = df['Status'].replace(['success', 'failed'], [1, 0])\n",
    "\n",
    "X_train, X_val, y_train, y_val = train_test_split(X, y, test_size=0.3, random_state=29031996)\n",
    "print('Train data:', X_train.shape, y_train.shape)\n",
    "print('Test data:', X_val.shape, y_val.shape)"
   ]
  },
  {
   "cell_type": "markdown",
   "metadata": {},
   "source": [
    "Bây giờ chúng ta sẽ bắt đầu tiền xử lý\n",
    "\n",
    "---"
   ]
  },
  {
   "cell_type": "markdown",
   "metadata": {},
   "source": [
    "Đầu tiên, chúng ta sẽ thêm vào các cột mà chúng ta đã phân tích ở trên."
   ]
  },
  {
   "cell_type": "code",
   "execution_count": 32,
   "metadata": {},
   "outputs": [
    {
     "name": "stdout",
     "output_type": "stream",
     "text": [
      "<class 'pandas.core.frame.DataFrame'>\n",
      "RangeIndex: 7164 entries, 0 to 7163\n",
      "Data columns (total 23 columns):\n",
      "Id              7164 non-null int64\n",
      "Name            7164 non-null object\n",
      "Url             7164 non-null object\n",
      "Goal            7164 non-null object\n",
      "Pledged         7164 non-null object\n",
      "Launch          7164 non-null object\n",
      "End             7164 non-null object\n",
      "Year            7164 non-null int64\n",
      "Comments        7164 non-null int64\n",
      "Updates         7164 non-null int64\n",
      "Faqs            7164 non-null int64\n",
      "Backers         7164 non-null int64\n",
      "Tiers           7164 non-null int64\n",
      "TierMin         7164 non-null int64\n",
      "TierMax         7164 non-null int64\n",
      "NameLength      7164 non-null int64\n",
      "NameWords       7164 non-null int64\n",
      "Currency        7164 non-null object\n",
      "GoalValue       7164 non-null int32\n",
      "PledgedValue    7164 non-null int32\n",
      "CurrencyName    7164 non-null object\n",
      "GoalUSD         7164 non-null float64\n",
      "PledgedUSD      7164 non-null float64\n",
      "dtypes: float64(2), int32(2), int64(11), object(8)\n",
      "memory usage: 1.2+ MB\n"
     ]
    }
   ],
   "source": [
    "class FeatureEngineer(BaseEstimator, TransformerMixin):\n",
    "    def __init__(self):\n",
    "        pass\n",
    "    \n",
    "    def fit(self, X_df, y=None):\n",
    "        return self\n",
    "    \n",
    "    def transform(self, X_df, y=None):\n",
    "        X_df = X_df.copy()\n",
    "        X_df['NameLength'] = X_df['Name'].apply(len)\n",
    "        X_df['NameWords'] = X_df['Name'].apply(count_words)\n",
    "        \n",
    "        X_df['Currency'] = X_df['Goal'].apply(lambda x: x[:currency_split(x)])\n",
    "        X_df['GoalValue'] = X_df['Goal'].apply(lambda x: x[currency_split(x):]).astype(int)\n",
    "        X_df['PledgedValue'] = X_df['Pledged'].apply(lambda x: x[currency_split(x):]).astype(int)\n",
    "        X_df['CurrencyName'] = X_df['Currency'].replace(frequent_currency_symbol, frequent_currency_code)\n",
    "        exchange_rate_vector = X_df['CurrencyName'].apply(get_exchange_rate_USD)\n",
    "        X_df['GoalUSD'] = X_df['GoalValue'] * exchange_rate_vector\n",
    "        X_df['PledgedUSD'] = X_df['PledgedValue'] * exchange_rate_vector\n",
    "\n",
    "        return X_df\n",
    "        \n",
    "temp_df = FeatureEngineer().fit_transform(X)\n",
    "temp_df.info()"
   ]
  },
  {
   "cell_type": "markdown",
   "metadata": {},
   "source": [
    "Bây giờ chúng ta sẽ loại bỏ các cột mà chúng ta đã phân tích là không cần dùng đến."
   ]
  },
  {
   "cell_type": "code",
   "execution_count": 33,
   "metadata": {},
   "outputs": [
    {
     "name": "stdout",
     "output_type": "stream",
     "text": [
      "<class 'pandas.core.frame.DataFrame'>\n",
      "RangeIndex: 7164 entries, 0 to 7163\n",
      "Data columns (total 8 columns):\n",
      "Comments      7164 non-null int64\n",
      "Updates       7164 non-null int64\n",
      "Faqs          7164 non-null int64\n",
      "Backers       7164 non-null int64\n",
      "Tiers         7164 non-null int64\n",
      "NameLength    7164 non-null int64\n",
      "NameWords     7164 non-null int64\n",
      "GoalUSD       7164 non-null float64\n",
      "dtypes: float64(1), int64(7)\n",
      "memory usage: 447.9 KB\n"
     ]
    }
   ],
   "source": [
    "unused_columns = ['Id', 'Name', 'Url', 'Goal', 'Pledged', 'Launch', 'End', 'Year', 'TierMin', 'TierMax', \n",
    "                  'Currency', 'GoalValue', 'PledgedValue', 'CurrencyName', 'PledgedUSD']\n",
    "class ColumnDropper(BaseEstimator, TransformerMixin):\n",
    "    def __init__(self, num_top_titles=1):\n",
    "        self.num_top_titles = num_top_titles\n",
    "    def fit(self, X_df, y=None):\n",
    "        return self\n",
    "    def transform(self, X_df, y=None):\n",
    "        return X_df.drop(unused_columns, axis=1)\n",
    "    \n",
    "temp_df = ColumnDropper().fit_transform(temp_df)\n",
    "temp_df.info()"
   ]
  },
  {
   "cell_type": "markdown",
   "metadata": {},
   "source": [
    "Bây giờ chúng ta sẽ tiến hành đặt ngưỡng cho cho các dữ liệu số có đuôi phân bố dài giống như cách chúng ta làm với `Tiers` ở trên. Chúng ta sẽ lấy ngưỡng là quantile 95% (Ngưỡng 95% dữ liệu)"
   ]
  },
  {
   "cell_type": "code",
   "execution_count": 34,
   "metadata": {},
   "outputs": [
    {
     "data": {
      "text/html": [
       "<div>\n",
       "<style scoped>\n",
       "    .dataframe tbody tr th:only-of-type {\n",
       "        vertical-align: middle;\n",
       "    }\n",
       "\n",
       "    .dataframe tbody tr th {\n",
       "        vertical-align: top;\n",
       "    }\n",
       "\n",
       "    .dataframe thead th {\n",
       "        text-align: right;\n",
       "    }\n",
       "</style>\n",
       "<table border=\"1\" class=\"dataframe\">\n",
       "  <thead>\n",
       "    <tr style=\"text-align: right;\">\n",
       "      <th></th>\n",
       "      <th>Comments</th>\n",
       "      <th>Updates</th>\n",
       "      <th>Faqs</th>\n",
       "      <th>Backers</th>\n",
       "      <th>Tiers</th>\n",
       "      <th>NameLength</th>\n",
       "      <th>NameWords</th>\n",
       "      <th>GoalUSD</th>\n",
       "    </tr>\n",
       "  </thead>\n",
       "  <tbody>\n",
       "    <tr>\n",
       "      <th>0</th>\n",
       "      <td>12.0</td>\n",
       "      <td>4.0</td>\n",
       "      <td>4.0</td>\n",
       "      <td>19.0</td>\n",
       "      <td>10.0</td>\n",
       "      <td>55</td>\n",
       "      <td>12</td>\n",
       "      <td>250000.0</td>\n",
       "    </tr>\n",
       "    <tr>\n",
       "      <th>1</th>\n",
       "      <td>6.0</td>\n",
       "      <td>1.0</td>\n",
       "      <td>1.0</td>\n",
       "      <td>15.0</td>\n",
       "      <td>9.0</td>\n",
       "      <td>9</td>\n",
       "      <td>1</td>\n",
       "      <td>250000.0</td>\n",
       "    </tr>\n",
       "    <tr>\n",
       "      <th>2</th>\n",
       "      <td>0.0</td>\n",
       "      <td>0.0</td>\n",
       "      <td>0.0</td>\n",
       "      <td>6.0</td>\n",
       "      <td>2.0</td>\n",
       "      <td>59</td>\n",
       "      <td>8</td>\n",
       "      <td>250000.0</td>\n",
       "    </tr>\n",
       "    <tr>\n",
       "      <th>3</th>\n",
       "      <td>0.0</td>\n",
       "      <td>0.0</td>\n",
       "      <td>0.0</td>\n",
       "      <td>1.0</td>\n",
       "      <td>3.0</td>\n",
       "      <td>33</td>\n",
       "      <td>5</td>\n",
       "      <td>250000.0</td>\n",
       "    </tr>\n",
       "    <tr>\n",
       "      <th>4</th>\n",
       "      <td>2.0</td>\n",
       "      <td>0.0</td>\n",
       "      <td>0.0</td>\n",
       "      <td>22.0</td>\n",
       "      <td>8.0</td>\n",
       "      <td>29</td>\n",
       "      <td>4</td>\n",
       "      <td>250000.0</td>\n",
       "    </tr>\n",
       "  </tbody>\n",
       "</table>\n",
       "</div>"
      ],
      "text/plain": [
       "   Comments  Updates  Faqs  Backers  Tiers  NameLength  NameWords   GoalUSD\n",
       "0      12.0      4.0   4.0     19.0   10.0          55         12  250000.0\n",
       "1       6.0      1.0   1.0     15.0    9.0           9          1  250000.0\n",
       "2       0.0      0.0   0.0      6.0    2.0          59          8  250000.0\n",
       "3       0.0      0.0   0.0      1.0    3.0          33          5  250000.0\n",
       "4       2.0      0.0   0.0     22.0    8.0          29          4  250000.0"
      ]
     },
     "execution_count": 34,
     "metadata": {},
     "output_type": "execute_result"
    }
   ],
   "source": [
    "class ValueLimiter(BaseEstimator, TransformerMixin):\n",
    "    def __init__(self, rate=0.95):\n",
    "        self.rate = rate\n",
    "    def fit(self, X_df, y=None):\n",
    "        self.comments_quantile = X_df['Comments'].quantile(self.rate)\n",
    "        self.updates_quantile = X_df['Updates'].quantile(self.rate)\n",
    "        self.faqs_quantile = X_df['Faqs'].quantile(self.rate)\n",
    "        self.backers_quantile = X_df['Backers'].quantile(self.rate)\n",
    "        self.tiers_quantile = X_df['Tiers'].quantile(self.rate)\n",
    "        self.goals_quantile = X_df['GoalUSD'].quantile(self.rate)\n",
    "        return self\n",
    "    def transform(self, X_df, y=None):\n",
    "        X_df = X_df.copy()\n",
    "        X_df.loc[X_df['Comments']>self.comments_quantile, 'Comments'] = self.comments_quantile\n",
    "        X_df.loc[X_df['Updates']>self.comments_quantile, 'Updates'] = self.updates_quantile\n",
    "        X_df.loc[X_df['Faqs']>self.comments_quantile, 'Faqs'] = self.faqs_quantile\n",
    "        X_df.loc[X_df['Backers']>self.comments_quantile, 'Backers'] = self.backers_quantile\n",
    "        X_df.loc[X_df['Tiers']>self.comments_quantile, 'Tiers'] = self.tiers_quantile\n",
    "        X_df.loc[X_df['GoalUSD']>self.comments_quantile, 'GoalUSD'] = self.goals_quantile\n",
    "        return X_df\n",
    "    \n",
    "temp_df = ValueLimiter().fit_transform(temp_df)\n",
    "temp_df.head()"
   ]
  },
  {
   "cell_type": "markdown",
   "metadata": {},
   "source": [
    "Điều thú vị là các cột của chúng ta đều ở dạng số. Chúng ta sẽ căn chỉnh (scale) dữ liệu lại để tăng tốc mô hình."
   ]
  },
  {
   "cell_type": "code",
   "execution_count": 35,
   "metadata": {},
   "outputs": [
    {
     "data": {
      "text/plain": [
       "array([[-0.26097167, -0.15330276,  0.48909764, -0.40536223,  0.66244379,\n",
       "         1.0703968 ,  2.18037576,  0.13162303],\n",
       "       [-0.32772089, -0.42407716, -0.17573611, -0.41827481,  0.44807269,\n",
       "        -1.67233583, -1.66748404,  0.13162303],\n",
       "       [-0.39447011, -0.5143353 , -0.39734737, -0.44732813, -1.05252497,\n",
       "         1.3088953 ,  0.78115402,  0.13162303],\n",
       "       [-0.39447011, -0.5143353 , -0.39734737, -0.46346886, -0.83815387,\n",
       "        -0.24134489, -0.26826229,  0.13162303],\n",
       "       [-0.37222037, -0.5143353 , -0.39734737, -0.39567779,  0.2337016 ,\n",
       "        -0.47984338, -0.61806773,  0.13162303]])"
      ]
     },
     "execution_count": 35,
     "metadata": {},
     "output_type": "execute_result"
    }
   ],
   "source": [
    "temp_df = StandardScaler().fit_transform(temp_df)\n",
    "temp_df[:5]"
   ]
  },
  {
   "cell_type": "markdown",
   "metadata": {},
   "source": [
    "Bây giờ chúng ta sẽ kết hợp các bước tiền xử lý vào một pipeline để tái sử dụng về sau"
   ]
  },
  {
   "cell_type": "code",
   "execution_count": 36,
   "metadata": {},
   "outputs": [
    {
     "data": {
      "text/plain": [
       "Pipeline(steps=[('featureengineer', FeatureEngineer()),\n",
       "                ('columndropper', ColumnDropper()),\n",
       "                ('valuelimiter', ValueLimiter()),\n",
       "                ('standardscaler', StandardScaler())])"
      ]
     },
     "execution_count": 36,
     "metadata": {},
     "output_type": "execute_result"
    }
   ],
   "source": [
    "preprocess_pipeline = make_pipeline(FeatureEngineer(), ColumnDropper(), ValueLimiter(), StandardScaler())\n",
    "preprocess_pipeline"
   ]
  },
  {
   "cell_type": "markdown",
   "metadata": {},
   "source": [
    "## Xây dựng mô hình"
   ]
  },
  {
   "cell_type": "markdown",
   "metadata": {},
   "source": [
    "Ta sẽ tiến hành xây dựng nhiều mô hình khác nhau."
   ]
  },
  {
   "cell_type": "markdown",
   "metadata": {},
   "source": [
    "Thoạt nhìn, các biến đều là số nên chúng ta cảm thấy dữ liệu rất phù hợp cho mô hình KNN."
   ]
  },
  {
   "cell_type": "code",
   "execution_count": 37,
   "metadata": {},
   "outputs": [
    {
     "data": {
      "image/png": "[encoded data removed]",
      "text/plain": [
       "<Figure size 1080x432 with 1 Axes>"
      ]
     },
     "metadata": {
      "needs_background": "light"
     },
     "output_type": "display_data"
    }
   ],
   "source": [
    "full_pipeline = make_pipeline(preprocess_pipeline, KNeighborsClassifier())\n",
    "\n",
    "neighbors = list(range(5, 100, 10))\n",
    "train_scores = []\n",
    "val_scores = []\n",
    "for n in neighbors:\n",
    "    full_pipeline.set_params(kneighborsclassifier__n_neighbors = n)\n",
    "    full_pipeline.fit(X_train, y_train)\n",
    "    pred_train = full_pipeline.predict(X_train)\n",
    "    pred_val = full_pipeline.predict(X_val)\n",
    "    train_scr = (1 - zero_one_loss(y_train, pred_train)) * 100 ; train_scores.append(train_scr)\n",
    "    val_scr = (1 - zero_one_loss(y_val, pred_val)) * 100 ; val_scores.append(val_scr)\n",
    "\n",
    "plt.subplots(figsize=(15, 6))\n",
    "sns.lineplot(x=neighbors, y=train_scores)\n",
    "sns.lineplot(x=neighbors, y=val_scores)\n",
    "plt.show()"
   ]
  },
  {
   "cell_type": "markdown",
   "metadata": {},
   "source": [
    "Chúng ta nhận thấy có rất nhiều giá trị có quan hệ tuyến tính với kết quả. Chúng ta sẽ thử mô hình hồi quy tuyến tính."
   ]
  },
  {
   "cell_type": "code",
   "execution_count": 38,
   "metadata": {},
   "outputs": [
    {
     "name": "stdout",
     "output_type": "stream",
     "text": [
      "Train scores:       88.87116074990028\n",
      "Validation scores:  88.04651162790698\n"
     ]
    },
    {
     "data": {
      "image/png": "[encoded data removed]",
      "text/plain": [
       "<Figure size 1080x432 with 1 Axes>"
      ]
     },
     "metadata": {
      "needs_background": "light"
     },
     "output_type": "display_data"
    }
   ],
   "source": [
    "full_pipeline = make_pipeline(preprocess_pipeline, LogisticRegression())\n",
    "\n",
    "full_pipeline.fit(X_train, y_train)\n",
    "pred_train = full_pipeline.predict(X_train)\n",
    "pred_val = full_pipeline.predict(X_val)\n",
    "train_scr = (1 - zero_one_loss(y_train, pred_train)) * 100\n",
    "val_scr = (1 - zero_one_loss(y_val, pred_val)) * 100\n",
    "\n",
    "print('Train scores:      ', train_scr)\n",
    "print('Validation scores: ', val_scr)\n",
    "plt.subplots(figsize=(15, 6))\n",
    "sns.barplot(x=['Train', 'Validation'], y=[train_scr, val_scr])\n",
    "plt.show()"
   ]
  },
  {
   "cell_type": "markdown",
   "metadata": {},
   "source": [
    "Mô hình hồi quy tuyến ính cho hiệu quả tốt.\n",
    "\n",
    "Bây giờ chúng ta sẽ thử nghiệm trên một mô hình phi tuyến là MLP"
   ]
  },
  {
   "cell_type": "code",
   "execution_count": 39,
   "metadata": {},
   "outputs": [],
   "source": [
    "full_pipeline = make_pipeline(preprocess_pipeline, \n",
    "                              MLPClassifier(hidden_layer_sizes=(16), solver='lbfgs', random_state=0, max_iter=5000))\n",
    "\n",
    "# Thử nghiệm với các giá trị khác nhau của các siêu tham số\n",
    "# và chọn ra các giá trị tốt nhất\n",
    "train_scores = []\n",
    "val_scores = []\n",
    "alphas = [0.1, 1, 10, 100, 1000]\n",
    "activators = ['identity', 'relu', 'logistic', 'tanh']\n",
    "best_val_scr = -float('inf')\n",
    "best_alpha = None\n",
    "best_activator = None\n",
    "\n",
    "for alpha in alphas:\n",
    "    for activator in activators:\n",
    "        full_pipeline.set_params(mlpclassifier__alpha=alpha, mlpclassifier__activation=activator)\n",
    "        full_pipeline.fit(X_train, y_train)\n",
    "        pred_train = full_pipeline.predict(X_train)\n",
    "        pred_val = full_pipeline.predict(X_val)\n",
    "        train_scr = (1 - zero_one_loss(y_train, pred_train)) * 100 ; train_scores.append(train_scr)\n",
    "        val_scr = (1 - zero_one_loss(y_val, pred_val)) * 100 ; val_scores.append(val_scr)\n",
    "        if val_scr > best_val_scr:\n",
    "            best_val_scr = val_scr\n",
    "            best_alpha = alpha\n",
    "            best_activator = activator            "
   ]
  },
  {
   "cell_type": "code",
   "execution_count": 40,
   "metadata": {},
   "outputs": [
    {
     "data": {
      "image/png": "[encoded data removed]",
      "text/plain": [
       "<Figure size 720x360 with 2 Axes>"
      ]
     },
     "metadata": {
      "needs_background": "light"
     },
     "output_type": "display_data"
    }
   ],
   "source": [
    "# Visualize by heatmap\n",
    "train_scrs_df = pd.DataFrame(data=np.array(train_scores).reshape(len(alphas), -1), \n",
    "                             index=alphas, columns=activators)\n",
    "val_scrs_df = pd.DataFrame(data=np.array(val_scores).reshape(len(alphas), -1),\n",
    "                           index=alphas, columns=activators)\n",
    "min_scr = min(min(train_scores), min(val_scores))\n",
    "max_scr = max(max(train_scores), max(val_scores))\n",
    "plt.figure(figsize=(10, 5))\n",
    "plt.subplot(1, 2, 1)\n",
    "sns.heatmap(train_scrs_df, vmin=min_scr, vmax=max_scr, square=True, annot=True, \n",
    "            cbar=False, fmt='.1f', cmap='Reds')\n",
    "plt.title('train errors'); plt.xlabel('num_top_titles'); plt.ylabel('alpha')\n",
    "plt.subplot(1, 2, 2)\n",
    "sns.heatmap(val_scrs_df, vmin=min_scr, vmax=max_scr, square=True, annot=True, \n",
    "            cbar=False, fmt='.1f', cmap='Reds')\n",
    "plt.title('validation errors'); plt.xlabel('num_top_titles'); plt.ylabel('alpha');"
   ]
  },
  {
   "cell_type": "markdown",
   "metadata": {},
   "source": [
    "Mô hình NLP đã có sự cải thiện kết quả so với các mô hình trước"
   ]
  },
  {
   "cell_type": "markdown",
   "metadata": {},
   "source": [
    "## Train và lưu model\n"
   ]
  },
  {
   "cell_type": "code",
   "execution_count": 41,
   "metadata": {},
   "outputs": [],
   "source": [
    "model = full_pipeline.fit(X, y)\n",
    "\n",
    "with open('model.ml', 'wb') as f:\n",
    "    pickle.dump(model, f)"
   ]
  },
  {
   "cell_type": "markdown",
   "metadata": {},
   "source": [
    "# Hướng phát triển tiếp theo\n",
    " Từ bài này, chúng ta có thể phát triển tiếp bằng cách đánh giá mức độ hiệu quả của việc đặt tiêu đề, cũng như mô tả dự án (trong bài này đã không đánh giá phần mô tả của mỗi dự án), sử dụng các kĩ thuật tốt hơn để nhận biết đâu là cách viết tiêu đề cũng như nội dung thu hút các nhà đầu tư.\n",
    " \n",
    " Ngoài ra còn có thể ứng dụng trong thực tế như: xây dựng bot Twitter, Discord tự động đăng bài về các dự án tiềm năng, xây dựng hệ thống gợi ý (recommend) những dự án phù hợp cho các nhà đầu tư "
   ]
  },
  {
   "cell_type": "code",
   "execution_count": null,
   "metadata": {},
   "outputs": [],
   "source": []
  }
 ],
 "metadata": {
  "kernelspec": {
   "display_name": "Python 3",
   "language": "python",
   "name": "python3"
  },
  "language_info": {
   "codemirror_mode": {
    "name": "ipython",
    "version": 3
   },
   "file_extension": ".py",
   "mimetype": "text/x-python",
   "name": "python",
   "nbconvert_exporter": "python",
   "pygments_lexer": "ipython3",
   "version": "3.8.6"
  }
 },
 "nbformat": 4,
 "nbformat_minor": 4
}
