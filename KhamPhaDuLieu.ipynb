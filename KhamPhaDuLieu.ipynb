{
 "cells": [
  {
   "cell_type": "code",
   "execution_count": 2,
   "metadata": {},
   "outputs": [
    {
     "data": {
      "text/html": [
       "<div>\n",
       "<style scoped>\n",
       "    .dataframe tbody tr th:only-of-type {\n",
       "        vertical-align: middle;\n",
       "    }\n",
       "\n",
       "    .dataframe tbody tr th {\n",
       "        vertical-align: top;\n",
       "    }\n",
       "\n",
       "    .dataframe thead th {\n",
       "        text-align: right;\n",
       "    }\n",
       "</style>\n",
       "<table border=\"1\" class=\"dataframe\">\n",
       "  <thead>\n",
       "    <tr style=\"text-align: right;\">\n",
       "      <th></th>\n",
       "      <th>id</th>\n",
       "      <th>photo</th>\n",
       "      <th>name</th>\n",
       "      <th>blurb</th>\n",
       "      <th>goal</th>\n",
       "      <th>pledged</th>\n",
       "      <th>state</th>\n",
       "      <th>slug</th>\n",
       "      <th>disable_communication</th>\n",
       "      <th>country</th>\n",
       "      <th>...</th>\n",
       "      <th>usd_type</th>\n",
       "      <th>creator</th>\n",
       "      <th>location</th>\n",
       "      <th>category</th>\n",
       "      <th>profile</th>\n",
       "      <th>spotlight</th>\n",
       "      <th>urls</th>\n",
       "      <th>percent_funded</th>\n",
       "      <th>is_liked</th>\n",
       "      <th>is_disliked</th>\n",
       "    </tr>\n",
       "  </thead>\n",
       "  <tbody>\n",
       "    <tr>\n",
       "      <th>0</th>\n",
       "      <td>854926212</td>\n",
       "      <td>{'key': 'assets/031/658/577/009bbf11b7764224ee...</td>\n",
       "      <td>khōréō: a new magazine of speculative fiction</td>\n",
       "      <td>A quarterly magazine of speculative fiction by...</td>\n",
       "      <td>7000.0</td>\n",
       "      <td>7747.00</td>\n",
       "      <td>live</td>\n",
       "      <td>khoreo-a-new-magazine-of-speculative-fiction</td>\n",
       "      <td>False</td>\n",
       "      <td>US</td>\n",
       "      <td>...</td>\n",
       "      <td>international</td>\n",
       "      <td>{'id': 1125956615, 'name': 'khōréō magazine', ...</td>\n",
       "      <td>{'id': 2459115, 'name': 'New York', 'slug': 'n...</td>\n",
       "      <td>{'id': 326, 'name': 'Literary Journals', 'slug...</td>\n",
       "      <td>{'id': 3999404, 'project_id': 3999404, 'state'...</td>\n",
       "      <td>False</td>\n",
       "      <td>{'web': {'project': 'https://www.kickstarter.c...</td>\n",
       "      <td>110.671429</td>\n",
       "      <td>False</td>\n",
       "      <td>False</td>\n",
       "    </tr>\n",
       "    <tr>\n",
       "      <th>1</th>\n",
       "      <td>499055298</td>\n",
       "      <td>{'key': 'assets/031/934/565/2da00cd9c7477ec667...</td>\n",
       "      <td>Mostly Monsters: The Art of Allison Theus</td>\n",
       "      <td>150+ pages of art by concept artist Allison Th...</td>\n",
       "      <td>40000.0</td>\n",
       "      <td>47757.00</td>\n",
       "      <td>live</td>\n",
       "      <td>mostly-monsters-the-art-of-allison-theus</td>\n",
       "      <td>False</td>\n",
       "      <td>US</td>\n",
       "      <td>...</td>\n",
       "      <td>international</td>\n",
       "      <td>{'id': 1260269319, 'name': 'Allison Theus', 'i...</td>\n",
       "      <td>{'id': 2357536, 'name': 'Austin', 'slug': 'aus...</td>\n",
       "      <td>{'id': 22, 'name': 'Illustration', 'slug': 'ar...</td>\n",
       "      <td>{'id': 4101278, 'project_id': 4101278, 'state'...</td>\n",
       "      <td>False</td>\n",
       "      <td>{'web': {'project': 'https://www.kickstarter.c...</td>\n",
       "      <td>119.392500</td>\n",
       "      <td>False</td>\n",
       "      <td>False</td>\n",
       "    </tr>\n",
       "    <tr>\n",
       "      <th>2</th>\n",
       "      <td>775337554</td>\n",
       "      <td>{'key': 'assets/031/961/688/b4c793731912a3cb5b...</td>\n",
       "      <td>The Bradley Cinema</td>\n",
       "      <td>The Bradley will be a 3-screen 1st run movie t...</td>\n",
       "      <td>50000.0</td>\n",
       "      <td>3311.00</td>\n",
       "      <td>live</td>\n",
       "      <td>the-bradley-cinema</td>\n",
       "      <td>False</td>\n",
       "      <td>US</td>\n",
       "      <td>...</td>\n",
       "      <td>international</td>\n",
       "      <td>{'id': 1186616842, 'name': 'CINEMA LAB', 'slug...</td>\n",
       "      <td>{'id': 2356439, 'name': 'Asbury Park', 'slug':...</td>\n",
       "      <td>{'id': 298, 'name': 'Movie Theaters', 'slug': ...</td>\n",
       "      <td>{'id': 4137276, 'project_id': 4137276, 'state'...</td>\n",
       "      <td>False</td>\n",
       "      <td>{'web': {'project': 'https://www.kickstarter.c...</td>\n",
       "      <td>6.622000</td>\n",
       "      <td>False</td>\n",
       "      <td>False</td>\n",
       "    </tr>\n",
       "    <tr>\n",
       "      <th>3</th>\n",
       "      <td>733850575</td>\n",
       "      <td>{'key': 'assets/031/979/188/85438460bd8e77e4a2...</td>\n",
       "      <td>Darwin's Journey</td>\n",
       "      <td>Retracing Darwin’s journey to the Galapagos in...</td>\n",
       "      <td>30000.0</td>\n",
       "      <td>518608.50</td>\n",
       "      <td>live</td>\n",
       "      <td>darwins-journey</td>\n",
       "      <td>False</td>\n",
       "      <td>ES</td>\n",
       "      <td>...</td>\n",
       "      <td>international</td>\n",
       "      <td>{'id': 1987827713, 'name': 'Gonzalo Aguirre Bi...</td>\n",
       "      <td>{'id': 12689383, 'name': 'Sevilla', 'slug': 's...</td>\n",
       "      <td>{'id': 34, 'name': 'Tabletop Games', 'slug': '...</td>\n",
       "      <td>{'id': 4115909, 'project_id': 4115909, 'state'...</td>\n",
       "      <td>False</td>\n",
       "      <td>{'web': {'project': 'https://www.kickstarter.c...</td>\n",
       "      <td>1728.695000</td>\n",
       "      <td>False</td>\n",
       "      <td>False</td>\n",
       "    </tr>\n",
       "    <tr>\n",
       "      <th>4</th>\n",
       "      <td>242291145</td>\n",
       "      <td>{'key': 'assets/031/697/886/a4728e817030ad8a29...</td>\n",
       "      <td>Ett hjärta är alltid rött - A heart is always red</td>\n",
       "      <td>En dokumentärfilm om bandet IMPERIET - \\nA doc...</td>\n",
       "      <td>200000.0</td>\n",
       "      <td>530833.71</td>\n",
       "      <td>live</td>\n",
       "      <td>ett-hjarta-ar-alltid-rott</td>\n",
       "      <td>False</td>\n",
       "      <td>SE</td>\n",
       "      <td>...</td>\n",
       "      <td>international</td>\n",
       "      <td>{'id': 1117518154, 'name': 'DOCSTER', 'slug': ...</td>\n",
       "      <td>{'id': 906057, 'name': 'Stockholm', 'slug': 's...</td>\n",
       "      <td>{'id': 30, 'name': 'Documentary', 'slug': 'fil...</td>\n",
       "      <td>{'id': 3862455, 'project_id': 3862455, 'state'...</td>\n",
       "      <td>False</td>\n",
       "      <td>{'web': {'project': 'https://www.kickstarter.c...</td>\n",
       "      <td>265.416855</td>\n",
       "      <td>False</td>\n",
       "      <td>False</td>\n",
       "    </tr>\n",
       "  </tbody>\n",
       "</table>\n",
       "<p>5 rows × 36 columns</p>\n",
       "</div>"
      ],
      "text/plain": [
       "          id                                              photo  \\\n",
       "0  854926212  {'key': 'assets/031/658/577/009bbf11b7764224ee...   \n",
       "1  499055298  {'key': 'assets/031/934/565/2da00cd9c7477ec667...   \n",
       "2  775337554  {'key': 'assets/031/961/688/b4c793731912a3cb5b...   \n",
       "3  733850575  {'key': 'assets/031/979/188/85438460bd8e77e4a2...   \n",
       "4  242291145  {'key': 'assets/031/697/886/a4728e817030ad8a29...   \n",
       "\n",
       "                                                name  \\\n",
       "0      khōréō: a new magazine of speculative fiction   \n",
       "1          Mostly Monsters: The Art of Allison Theus   \n",
       "2                                 The Bradley Cinema   \n",
       "3                                   Darwin's Journey   \n",
       "4  Ett hjärta är alltid rött - A heart is always red   \n",
       "\n",
       "                                               blurb      goal    pledged  \\\n",
       "0  A quarterly magazine of speculative fiction by...    7000.0    7747.00   \n",
       "1  150+ pages of art by concept artist Allison Th...   40000.0   47757.00   \n",
       "2  The Bradley will be a 3-screen 1st run movie t...   50000.0    3311.00   \n",
       "3  Retracing Darwin’s journey to the Galapagos in...   30000.0  518608.50   \n",
       "4  En dokumentärfilm om bandet IMPERIET - \\nA doc...  200000.0  530833.71   \n",
       "\n",
       "  state                                          slug  disable_communication  \\\n",
       "0  live  khoreo-a-new-magazine-of-speculative-fiction                  False   \n",
       "1  live      mostly-monsters-the-art-of-allison-theus                  False   \n",
       "2  live                            the-bradley-cinema                  False   \n",
       "3  live                               darwins-journey                  False   \n",
       "4  live                     ett-hjarta-ar-alltid-rott                  False   \n",
       "\n",
       "  country  ...       usd_type  \\\n",
       "0      US  ...  international   \n",
       "1      US  ...  international   \n",
       "2      US  ...  international   \n",
       "3      ES  ...  international   \n",
       "4      SE  ...  international   \n",
       "\n",
       "                                             creator  \\\n",
       "0  {'id': 1125956615, 'name': 'khōréō magazine', ...   \n",
       "1  {'id': 1260269319, 'name': 'Allison Theus', 'i...   \n",
       "2  {'id': 1186616842, 'name': 'CINEMA LAB', 'slug...   \n",
       "3  {'id': 1987827713, 'name': 'Gonzalo Aguirre Bi...   \n",
       "4  {'id': 1117518154, 'name': 'DOCSTER', 'slug': ...   \n",
       "\n",
       "                                            location  \\\n",
       "0  {'id': 2459115, 'name': 'New York', 'slug': 'n...   \n",
       "1  {'id': 2357536, 'name': 'Austin', 'slug': 'aus...   \n",
       "2  {'id': 2356439, 'name': 'Asbury Park', 'slug':...   \n",
       "3  {'id': 12689383, 'name': 'Sevilla', 'slug': 's...   \n",
       "4  {'id': 906057, 'name': 'Stockholm', 'slug': 's...   \n",
       "\n",
       "                                            category  \\\n",
       "0  {'id': 326, 'name': 'Literary Journals', 'slug...   \n",
       "1  {'id': 22, 'name': 'Illustration', 'slug': 'ar...   \n",
       "2  {'id': 298, 'name': 'Movie Theaters', 'slug': ...   \n",
       "3  {'id': 34, 'name': 'Tabletop Games', 'slug': '...   \n",
       "4  {'id': 30, 'name': 'Documentary', 'slug': 'fil...   \n",
       "\n",
       "                                             profile  spotlight  \\\n",
       "0  {'id': 3999404, 'project_id': 3999404, 'state'...      False   \n",
       "1  {'id': 4101278, 'project_id': 4101278, 'state'...      False   \n",
       "2  {'id': 4137276, 'project_id': 4137276, 'state'...      False   \n",
       "3  {'id': 4115909, 'project_id': 4115909, 'state'...      False   \n",
       "4  {'id': 3862455, 'project_id': 3862455, 'state'...      False   \n",
       "\n",
       "                                                urls  percent_funded  \\\n",
       "0  {'web': {'project': 'https://www.kickstarter.c...      110.671429   \n",
       "1  {'web': {'project': 'https://www.kickstarter.c...      119.392500   \n",
       "2  {'web': {'project': 'https://www.kickstarter.c...        6.622000   \n",
       "3  {'web': {'project': 'https://www.kickstarter.c...     1728.695000   \n",
       "4  {'web': {'project': 'https://www.kickstarter.c...      265.416855   \n",
       "\n",
       "   is_liked  is_disliked  \n",
       "0     False        False  \n",
       "1     False        False  \n",
       "2     False        False  \n",
       "3     False        False  \n",
       "4     False        False  \n",
       "\n",
       "[5 rows x 36 columns]"
      ]
     },
     "execution_count": 2,
     "metadata": {},
     "output_type": "execute_result"
    }
   ],
   "source": [
    "from bs4 import BeautifulSoup\n",
    "import requests\n",
    "import json\n",
    "import pandas as pd\n",
    "import time\n",
    "import datetime as dt\n",
    "\n",
    "df = pd.read_csv(\"data.csv\")\n",
    "df.head()"
   ]
  },
  {
   "cell_type": "code",
   "execution_count": 3,
   "metadata": {},
   "outputs": [
    {
     "data": {
      "text/plain": [
       "2400"
      ]
     },
     "execution_count": 3,
     "metadata": {},
     "output_type": "execute_result"
    }
   ],
   "source": [
    "len(df)"
   ]
  },
  {
   "cell_type": "code",
   "execution_count": 4,
   "metadata": {},
   "outputs": [
    {
     "data": {
      "text/plain": [
       "Index(['id', 'photo', 'name', 'blurb', 'goal', 'pledged', 'state', 'slug',\n",
       "       'disable_communication', 'country', 'country_displayable_name',\n",
       "       'currency', 'currency_symbol', 'currency_trailing_code', 'deadline',\n",
       "       'state_changed_at', 'created_at', 'launched_at', 'staff_pick',\n",
       "       'is_starrable', 'backers_count', 'static_usd_rate', 'usd_pledged',\n",
       "       'converted_pledged_amount', 'fx_rate', 'current_currency', 'usd_type',\n",
       "       'creator', 'location', 'category', 'profile', 'spotlight', 'urls',\n",
       "       'percent_funded', 'is_liked', 'is_disliked'],\n",
       "      dtype='object')"
      ]
     },
     "execution_count": 4,
     "metadata": {},
     "output_type": "execute_result"
    }
   ],
   "source": [
    "df.columns"
   ]
  },
  {
   "cell_type": "code",
   "execution_count": 6,
   "metadata": {},
   "outputs": [
    {
     "name": "stdout",
     "output_type": "stream",
     "text": [
      "Of the 2400 projects in the dataset, there are 2 which are listed more than once.\n",
      "\n",
      "Of the 2398 projects in the dataset, there are 0 which are listed more than once.\n"
     ]
    }
   ],
   "source": [
    "print(f\"Of the {len(df)} projects in the dataset, there are {len(df[df.duplicated(subset='id')])} which are listed more than once.\")\n",
    "df = df.drop_duplicates(subset='id', keep=\"first\")\n",
    "print(f\"\\nOf the {len(df)} projects in the dataset, there are {len(df[df.duplicated(subset='id')])} which are listed more than once.\")"
   ]
  },
  {
   "cell_type": "code",
   "execution_count": 7,
   "metadata": {},
   "outputs": [
    {
     "name": "stdout",
     "output_type": "stream",
     "text": [
      "<class 'pandas.core.frame.DataFrame'>\n",
      "Int64Index: 2398 entries, 0 to 2399\n",
      "Data columns (total 36 columns):\n",
      " #   Column                    Non-Null Count  Dtype  \n",
      "---  ------                    --------------  -----  \n",
      " 0   id                        2398 non-null   int64  \n",
      " 1   photo                     2398 non-null   object \n",
      " 2   name                      2398 non-null   object \n",
      " 3   blurb                     2398 non-null   object \n",
      " 4   goal                      2398 non-null   float64\n",
      " 5   pledged                   2398 non-null   float64\n",
      " 6   state                     2398 non-null   object \n",
      " 7   slug                      2398 non-null   object \n",
      " 8   disable_communication     2398 non-null   bool   \n",
      " 9   country                   2398 non-null   object \n",
      " 10  country_displayable_name  2398 non-null   object \n",
      " 11  currency                  2398 non-null   object \n",
      " 12  currency_symbol           2398 non-null   object \n",
      " 13  currency_trailing_code    2398 non-null   bool   \n",
      " 14  deadline                  2398 non-null   int64  \n",
      " 15  state_changed_at          2398 non-null   int64  \n",
      " 16  created_at                2398 non-null   int64  \n",
      " 17  launched_at               2398 non-null   int64  \n",
      " 18  staff_pick                2398 non-null   bool   \n",
      " 19  is_starrable              2398 non-null   bool   \n",
      " 20  backers_count             2398 non-null   int64  \n",
      " 21  static_usd_rate           2398 non-null   float64\n",
      " 22  usd_pledged               2398 non-null   float64\n",
      " 23  converted_pledged_amount  2398 non-null   int64  \n",
      " 24  fx_rate                   2398 non-null   float64\n",
      " 25  current_currency          2398 non-null   object \n",
      " 26  usd_type                  2398 non-null   object \n",
      " 27  creator                   2398 non-null   object \n",
      " 28  location                  2398 non-null   object \n",
      " 29  category                  2398 non-null   object \n",
      " 30  profile                   2398 non-null   object \n",
      " 31  spotlight                 2398 non-null   bool   \n",
      " 32  urls                      2398 non-null   object \n",
      " 33  percent_funded            2398 non-null   float64\n",
      " 34  is_liked                  2398 non-null   bool   \n",
      " 35  is_disliked               2398 non-null   bool   \n",
      "dtypes: bool(7), float64(6), int64(7), object(16)\n",
      "memory usage: 578.4+ KB\n"
     ]
    }
   ],
   "source": [
    "df.info()"
   ]
  },
  {
   "cell_type": "code",
   "execution_count": 9,
   "metadata": {},
   "outputs": [],
   "source": [
    "# Dropping columns that aren't useful\n",
    "df.drop(['converted_pledged_amount', 'creator', 'currency', 'currency_symbol', 'currency_trailing_code', 'current_currency', 'fx_rate', 'photo', 'pledged', 'profile', 'slug', 'spotlight', 'state_changed_at', 'urls', 'usd_type'], axis=1, inplace=True)"
   ]
  },
  {
   "cell_type": "code",
   "execution_count": 10,
   "metadata": {},
   "outputs": [],
   "source": [
    "# Converting dates from unix to datetime\n",
    "cols_to_convert = ['created_at', 'deadline', 'launched_at']\n",
    "for c in cols_to_convert:\n",
    "    df[c] = pd.to_datetime(df[c], origin='unix', unit='s')"
   ]
  },
  {
   "cell_type": "code",
   "execution_count": 11,
   "metadata": {},
   "outputs": [
    {
     "name": "stdout",
     "output_type": "stream",
     "text": [
      "The dataset contains projects added to Kickstarter between 08 February 2015 and 12 January 2021.\n"
     ]
    }
   ],
   "source": [
    "print(f\"The dataset contains projects added to Kickstarter between {min(df.created_at).strftime('%d %B %Y')} and {max(df.created_at).strftime('%d %B %Y')}.\")"
   ]
  },
  {
   "cell_type": "code",
   "execution_count": 12,
   "metadata": {},
   "outputs": [
    {
     "data": {
      "text/plain": [
       "id                                   int64\n",
       "name                                object\n",
       "blurb                               object\n",
       "goal                               float64\n",
       "state                               object\n",
       "disable_communication                 bool\n",
       "country                             object\n",
       "country_displayable_name            object\n",
       "deadline                    datetime64[ns]\n",
       "created_at                  datetime64[ns]\n",
       "launched_at                 datetime64[ns]\n",
       "staff_pick                            bool\n",
       "is_starrable                          bool\n",
       "backers_count                        int64\n",
       "static_usd_rate                    float64\n",
       "usd_pledged                        float64\n",
       "location                            object\n",
       "category                            object\n",
       "percent_funded                     float64\n",
       "is_liked                              bool\n",
       "is_disliked                           bool\n",
       "dtype: object"
      ]
     },
     "execution_count": 12,
     "metadata": {},
     "output_type": "execute_result"
    }
   ],
   "source": [
    "df.dtypes"
   ]
  },
  {
   "cell_type": "code",
   "execution_count": null,
   "metadata": {},
   "outputs": [],
   "source": []
  }
 ],
 "metadata": {
  "kernelspec": {
   "display_name": "Python 3",
   "language": "python",
   "name": "python3"
  },
  "language_info": {
   "codemirror_mode": {
    "name": "ipython",
    "version": 3
   },
   "file_extension": ".py",
   "mimetype": "text/x-python",
   "name": "python",
   "nbconvert_exporter": "python",
   "pygments_lexer": "ipython3",
   "version": "3.8.6"
  }
 },
 "nbformat": 4,
 "nbformat_minor": 4
}
