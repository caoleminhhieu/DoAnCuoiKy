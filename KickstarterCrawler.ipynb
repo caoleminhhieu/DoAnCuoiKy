{
 "cells": [
  {
   "cell_type": "code",
   "execution_count": null,
   "metadata": {
    "id": "UnpiJ2MW7lDQ"
   },
   "outputs": [],
   "source": [
    "from bs4 import BeautifulSoup\n",
    "import requests\n",
    "import json\n",
    "import pandas as pd\n",
    "import time\n",
    "import datetime as dt\n",
    "import re"
   ]
  },
  {
   "cell_type": "code",
   "execution_count": 72,
   "metadata": {
    "executionInfo": {
     "elapsed": 915,
     "status": "ok",
     "timestamp": 1610714802647,
     "user": {
      "displayName": "Thái Tấn Đạt",
      "photoUrl": "https://lh3.googleusercontent.com/a-/AOh14GhqEVCjeUljqExuzw2Qv14Z3oQFL5yANqoJdXFa_Q=s64",
      "userId": "02979695103631925091"
     },
     "user_tz": -420
    },
    "id": "4eB9Ag3u7lDw"
   },
   "outputs": [],
   "source": [
    "start_url = f'http://www.kicktraq.com/search/?page=1&find=in:\"technology\"&sort=new'"
   ]
  },
  {
   "cell_type": "code",
   "execution_count": null,
   "metadata": {
    "id": "3g7zaawl7lDy"
   },
   "outputs": [],
   "source": [
    "req = requests.get(start_url)\n",
    "soup = BeautifulSoup(req.content)"
   ]
  },
  {
   "cell_type": "code",
   "execution_count": null,
   "metadata": {
    "id": "6urvzoJk7lD5"
   },
   "outputs": [],
   "source": [
    "project_list = soup.find('div', {'id': 'project-list'})\n",
    "projects = project_list.find('div', {'class': 'projects'}).find_all('div', {'class': 'project'})\n",
    "next_url = project_list.find('div', {'class': 'paging'}).find('a', {'class': 'prn'})['href']\n",
    "next_url = ''.join([f'http://www.kicktraq.com/search/', next_url, f'&sort=new'])"
   ]
  },
  {
   "cell_type": "code",
   "execution_count": null,
   "metadata": {
    "colab": {
     "base_uri": "https://localhost:8080/"
    },
    "executionInfo": {
     "elapsed": 1532,
     "status": "ok",
     "timestamp": 1610678760323,
     "user": {
      "displayName": "Thái Tấn Đạt",
      "photoUrl": "https://lh3.googleusercontent.com/a-/AOh14GhqEVCjeUljqExuzw2Qv14Z3oQFL5yANqoJdXFa_Q=s64",
      "userId": "02979695103631925091"
     },
     "user_tz": -420
    },
    "id": "5tmpykUy7lD8",
    "outputId": "a7b8f738-d646-4c7b-aa6b-fec70e01e280"
   },
   "outputs": [
    {
     "name": "stdout",
     "output_type": "stream",
     "text": [
      "15\n"
     ]
    }
   ],
   "source": [
    "print(len(projects))"
   ]
  },
  {
   "cell_type": "code",
   "execution_count": null,
   "metadata": {
    "id": "znec8Ltm7lD_"
   },
   "outputs": [],
   "source": [
    "proj = projects[0]\n",
    "info = proj.find('div', {'class': 'project-infobox'})\n",
    "a = info.find('h2').find()\n",
    "link = f'http://www.kickstarter.com' + a['href']\n",
    "name = a.text\n",
    "info = proj.find('div', {'class': 'project-infobits'})\n",
    "pledgilizer = info.find('div', {'class': 'project-pledgilizer'})\n",
    "\n",
    "status = pledgilizer.find('div', {'class': 'project-pledgilizer-top'}).find().text.lower()\n",
    "if status == 'closed':\n",
    "    funded = pledgilizer.find('div', {'class': 'project-pledgilizer-mid'}).find().text[:-1]\n",
    "    if int(funded) >= 100:\n",
    "        status = 'success'\n",
    "    else:\n",
    "        status = 'failed'\n",
    "    \n",
    "funding_info = info.find('div', {'class':'project-details'}).text.split('\\n\\t\\t\\t\\t\\t')\n",
    "moneys = funding_info[2].split(' ')\n",
    "goal = moneys[3].replace(',', '')\n",
    "pledged = moneys[1].replace(',', '')\n",
    "backers = funding_info[1].split(' ')[1]\n",
    "\n",
    "# With current project, dates is at index 4. With Closed project, dates is at index 3\n",
    "dates = funding_info[4].split(' -> ')\n",
    "start_date = dates[0].split(': ')[1]\n",
    "end_date, year = dates[1].split(' (')\n",
    "year = year[:-1]"
   ]
  },
  {
   "cell_type": "code",
   "execution_count": null,
   "metadata": {
    "colab": {
     "base_uri": "https://localhost:8080/"
    },
    "executionInfo": {
     "elapsed": 1518,
     "status": "ok",
     "timestamp": 1610678760329,
     "user": {
      "displayName": "Thái Tấn Đạt",
      "photoUrl": "https://lh3.googleusercontent.com/a-/AOh14GhqEVCjeUljqExuzw2Qv14Z3oQFL5yANqoJdXFa_Q=s64",
      "userId": "02979695103631925091"
     },
     "user_tz": -420
    },
    "id": "NIXjVBwo7lEB",
    "outputId": "3ca67350-68ca-4364-9ff2-fe6b96543dcd"
   },
   "outputs": [
    {
     "data": {
      "text/plain": [
       "['',\n",
       " 'Backers: 0',\n",
       " 'Funding: $0 of $5,000 (0% funded)',\n",
       " 'Average daily pledges: $0',\n",
       " 'Campaign Dates: January 14th -> February 15th (2021)',\n",
       " 'Time left: 31 days, 20 hours, 15 minutes\\n']"
      ]
     },
     "execution_count": 9,
     "metadata": {
      "tags": []
     },
     "output_type": "execute_result"
    }
   ],
   "source": [
    "funding_info"
   ]
  },
  {
   "cell_type": "code",
   "execution_count": null,
   "metadata": {
    "id": "wq4dl-HW7lEC"
   },
   "outputs": [],
   "source": [
    "s = f'https://www.kickstarter.com/projects/601285608/scout-the-autonomous-transatlantic-boat/?ref=kicktraq'\n",
    "f = f'https://www.kickstarter.com/projects/geekazine/geekazine-special-media-new-season-of-interviews/'\n",
    "status = 'failed'\n",
    "\n",
    "kick_soup = None\n",
    "kick_req = requests.get(f)\n",
    "kick_soup = BeautifulSoup(kick_req.content)"
   ]
  },
  {
   "cell_type": "code",
   "execution_count": null,
   "metadata": {
    "id": "AvdvPq5g7lED"
   },
   "outputs": [],
   "source": [
    "navigators = kick_soup.find('div', {'class': 'campaign-side-nav project-nav__links'})\n",
    "comments = navigators.find('a', {'id': 'comments-emoji'}).find().text\n",
    "updates = navigators.find('a', {'id': 'updates-emoji'}).find().text\n",
    "\n",
    "faqs = navigators.find('a', {'id': 'faq-emoji'}).find()\n",
    "faqs = faqs.text if faqs is not None else '0'\n",
    "\n",
    "tiers = kick_soup.find('div', {'class': 'NS_projects__rewards_list'}).find('ol').find_all('li')\n",
    "tier_count = len(tiers)\n",
    "tier_min = tiers[0]\n",
    "tier_max = tiers[-1]\n",
    "tier_cost_min = tiers[0].find('div', {'class': 'pledge__info'}).find('span', {'class': 'money'}).text.split(' ')[1].replace(',', '')\n",
    "tier_cost_max = tiers[-1].find('div', {'class': 'pledge__info'}).find('span', {'class': 'money'}).text.split(' ')[1].replace(',', '')\n",
    "tier_min = int(tier_cost_min)\n",
    "tier_max = int(tier_cost_max)"
   ]
  },
  {
   "cell_type": "code",
   "execution_count": null,
   "metadata": {
    "colab": {
     "base_uri": "https://localhost:8080/",
     "height": 36
    },
    "executionInfo": {
     "elapsed": 3246,
     "status": "ok",
     "timestamp": 1610678762074,
     "user": {
      "displayName": "Thái Tấn Đạt",
      "photoUrl": "https://lh3.googleusercontent.com/a-/AOh14GhqEVCjeUljqExuzw2Qv14Z3oQFL5yANqoJdXFa_Q=s64",
      "userId": "02979695103631925091"
     },
     "user_tz": -420
    },
    "id": "puMruQ6t7lEG",
    "outputId": "d77d230e-2f09-4708-cd3f-b9a71c783e02"
   },
   "outputs": [
    {
     "data": {
      "application/vnd.google.colaboratory.intrinsic+json": {
       "type": "string"
      },
      "text/plain": [
       "'1'"
      ]
     },
     "execution_count": 12,
     "metadata": {
      "tags": []
     },
     "output_type": "execute_result"
    }
   ],
   "source": [
    "faqs"
   ]
  },
  {
   "cell_type": "code",
   "execution_count": null,
   "metadata": {
    "id": "B1tWcrMYmEOz"
   },
   "outputs": [],
   "source": [
    "df = pd.DataFrame(columns=['Id', 'Name', 'Url', 'Goal', 'Pledged', 'Launch', 'End', 'Year', 'Comments', 'Updates', 'Faqs', 'Backers', 'Tiers', 'TierMin', 'TierMax', 'Status'])"
   ]
  },
  {
   "cell_type": "code",
   "execution_count": 73,
   "metadata": {
    "colab": {
     "base_uri": "https://localhost:8080/"
    },
    "executionInfo": {
     "elapsed": 2159350,
     "status": "ok",
     "timestamp": 1610716973002,
     "user": {
      "displayName": "Thái Tấn Đạt",
      "photoUrl": "https://lh3.googleusercontent.com/a-/AOh14GhqEVCjeUljqExuzw2Qv14Z3oQFL5yANqoJdXFa_Q=s64",
      "userId": "02979695103631925091"
     },
     "user_tz": -420
    },
    "id": "EPyuGjAw7lEI",
    "outputId": "0db846da-7ec0-4646-9ae2-ce81d0e4c695"
   },
   "outputs": [
    {
     "name": "stdout",
     "output_type": "stream",
     "text": [
      "(6201, 16)\n",
      "Requested URL:  http://www.kicktraq.com/search/?page=574&find=in:\"technology\"&sort=new\n",
      "Requested URL:  http://www.kicktraq.com/search/?page=575&find=in:\"technology\"&sort=new\n",
      "Requested URL:  http://www.kicktraq.com/search/?page=576&find=in:\"technology\"&sort=new\n",
      "Requested URL:  http://www.kicktraq.com/search/?page=577&find=in:\"technology\"&sort=new\n",
      "Requested URL:  http://www.kicktraq.com/search/?page=578&find=in:\"technology\"&sort=new\n",
      "Requested URL:  http://www.kicktraq.com/search/?page=579&find=in:\"technology\"&sort=new\n",
      "Requested URL:  http://www.kicktraq.com/search/?page=580&find=in:\"technology\"&sort=new\n",
      "Requested URL:  http://www.kicktraq.com/search/?page=581&find=in:\"technology\"&sort=new\n",
      "Requested URL:  http://www.kicktraq.com/search/?page=582&find=in:\"technology\"&sort=new\n",
      "Requested URL:  http://www.kicktraq.com/search/?page=583&find=in:\"technology\"&sort=new\n",
      "Requested URL:  http://www.kicktraq.com/search/?page=584&find=in:\"technology\"&sort=new\n",
      "Requested URL:  http://www.kicktraq.com/search/?page=585&find=in:\"technology\"&sort=new\n",
      "Requested URL:  http://www.kicktraq.com/search/?page=586&find=in:\"technology\"&sort=new\n",
      "Requested URL:  http://www.kicktraq.com/search/?page=587&find=in:\"technology\"&sort=new\n",
      "Requested URL:  http://www.kicktraq.com/search/?page=588&find=in:\"technology\"&sort=new\n",
      "Requested URL:  http://www.kicktraq.com/search/?page=589&find=in:\"technology\"&sort=new\n",
      "Backed up  6400  indices\n",
      "Requested URL:  http://www.kicktraq.com/search/?page=590&find=in:\"technology\"&sort=new\n",
      "Requested URL:  http://www.kicktraq.com/search/?page=591&find=in:\"technology\"&sort=new\n",
      "Requested URL:  http://www.kicktraq.com/search/?page=592&find=in:\"technology\"&sort=new\n",
      "Requested URL:  http://www.kicktraq.com/search/?page=593&find=in:\"technology\"&sort=new\n",
      "Requested URL:  http://www.kicktraq.com/search/?page=594&find=in:\"technology\"&sort=new\n",
      "Requested URL:  http://www.kicktraq.com/search/?page=595&find=in:\"technology\"&sort=new\n",
      "Requested URL:  http://www.kicktraq.com/search/?page=596&find=in:\"technology\"&sort=new\n",
      "Requested URL:  http://www.kicktraq.com/search/?page=597&find=in:\"technology\"&sort=new\n",
      "Requested URL:  http://www.kicktraq.com/search/?page=598&find=in:\"technology\"&sort=new\n",
      "Requested URL:  http://www.kicktraq.com/search/?page=599&find=in:\"technology\"&sort=new\n",
      "Requested URL:  http://www.kicktraq.com/search/?page=600&find=in:\"technology\"&sort=new\n",
      "Requested URL:  http://www.kicktraq.com/search/?page=601&find=in:\"technology\"&sort=new\n",
      "Requested URL:  http://www.kicktraq.com/search/?page=602&find=in:\"technology\"&sort=new\n",
      "Requested URL:  http://www.kicktraq.com/search/?page=603&find=in:\"technology\"&sort=new\n",
      "Backed up  6600  indices\n",
      "Requested URL:  http://www.kicktraq.com/search/?page=604&find=in:\"technology\"&sort=new\n",
      "Requested URL:  http://www.kicktraq.com/search/?page=605&find=in:\"technology\"&sort=new\n",
      "Requested URL:  http://www.kicktraq.com/search/?page=606&find=in:\"technology\"&sort=new\n",
      "Requested URL:  http://www.kicktraq.com/search/?page=607&find=in:\"technology\"&sort=new\n",
      "Requested URL:  http://www.kicktraq.com/search/?page=608&find=in:\"technology\"&sort=new\n",
      "Requested URL:  http://www.kicktraq.com/search/?page=609&find=in:\"technology\"&sort=new\n",
      "Requested URL:  http://www.kicktraq.com/search/?page=610&find=in:\"technology\"&sort=new\n",
      "Requested URL:  http://www.kicktraq.com/search/?page=611&find=in:\"technology\"&sort=new\n",
      "Requested URL:  http://www.kicktraq.com/search/?page=612&find=in:\"technology\"&sort=new\n",
      "Requested URL:  http://www.kicktraq.com/search/?page=613&find=in:\"technology\"&sort=new\n",
      "Requested URL:  http://www.kicktraq.com/search/?page=614&find=in:\"technology\"&sort=new\n",
      "Requested URL:  http://www.kicktraq.com/search/?page=615&find=in:\"technology\"&sort=new\n",
      "Requested URL:  http://www.kicktraq.com/search/?page=616&find=in:\"technology\"&sort=new\n",
      "Requested URL:  http://www.kicktraq.com/search/?page=617&find=in:\"technology\"&sort=new\n",
      "Backed up  6800  indices\n",
      "Requested URL:  http://www.kicktraq.com/search/?page=618&find=in:\"technology\"&sort=new\n",
      "Requested URL:  http://www.kicktraq.com/search/?page=619&find=in:\"technology\"&sort=new\n",
      "Requested URL:  http://www.kicktraq.com/search/?page=620&find=in:\"technology\"&sort=new\n",
      "Requested URL:  http://www.kicktraq.com/search/?page=621&find=in:\"technology\"&sort=new\n",
      "Requested URL:  http://www.kicktraq.com/search/?page=622&find=in:\"technology\"&sort=new\n",
      "Requested URL:  http://www.kicktraq.com/search/?page=623&find=in:\"technology\"&sort=new\n",
      "Requested URL:  http://www.kicktraq.com/search/?page=624&find=in:\"technology\"&sort=new\n",
      "Requested URL:  http://www.kicktraq.com/search/?page=625&find=in:\"technology\"&sort=new\n",
      "Requested URL:  http://www.kicktraq.com/search/?page=626&find=in:\"technology\"&sort=new\n",
      "Requested URL:  http://www.kicktraq.com/search/?page=627&find=in:\"technology\"&sort=new\n",
      "Requested URL:  http://www.kicktraq.com/search/?page=628&find=in:\"technology\"&sort=new\n",
      "Requested URL:  http://www.kicktraq.com/search/?page=629&find=in:\"technology\"&sort=new\n",
      "Requested URL:  http://www.kicktraq.com/search/?page=630&find=in:\"technology\"&sort=new\n",
      "Requested URL:  http://www.kicktraq.com/search/?page=631&find=in:\"technology\"&sort=new\n",
      "Backed up  7000  indices\n",
      "Requested URL:  http://www.kicktraq.com/search/?page=632&find=in:\"technology\"&sort=new\n",
      "Requested URL:  http://www.kicktraq.com/search/?page=633&find=in:\"technology\"&sort=new\n",
      "Requested URL:  http://www.kicktraq.com/search/?page=634&find=in:\"technology\"&sort=new\n",
      "Requested URL:  http://www.kicktraq.com/search/?page=635&find=in:\"technology\"&sort=new\n",
      "Requested URL:  http://www.kicktraq.com/search/?page=636&find=in:\"technology\"&sort=new\n",
      "Requested URL:  http://www.kicktraq.com/search/?page=637&find=in:\"technology\"&sort=new\n",
      "Requested URL:  http://www.kicktraq.com/search/?page=638&find=in:\"technology\"&sort=new\n",
      "Requested URL:  http://www.kicktraq.com/search/?page=639&find=in:\"technology\"&sort=new\n",
      "Requested URL:  http://www.kicktraq.com/search/?page=640&find=in:\"technology\"&sort=new\n",
      "Requested URL:  http://www.kicktraq.com/search/?page=641&find=in:\"technology\"&sort=new\n",
      "Requested URL:  http://www.kicktraq.com/search/?page=642&find=in:\"technology\"&sort=new\n",
      "Requested URL:  http://www.kicktraq.com/search/?page=643&find=in:\"technology\"&sort=new\n"
     ]
    }
   ],
   "source": [
    "next_url = start_url\n",
    "pid = 1\n",
    "print(df.shape)\n",
    "\n",
    "while next_url is not None:\n",
    "    url = next_url\n",
    "    req = requests.get(url)\n",
    "\n",
    "    tries = 3\n",
    "    while not req.ok and tries > 0:\n",
    "        print('Request to ', url, ' failed')\n",
    "        time.sleep(1)\n",
    "        tries -= 1\n",
    "        req = requests.get(url)\n",
    "\n",
    "    if tries <= 0:\n",
    "        continue\n",
    "    else:\n",
    "        tries = 3\n",
    "\n",
    "    print('Requested URL: ', url)\n",
    "    \n",
    "    soup = BeautifulSoup(req.content, 'html.parser')\n",
    "    project_list = soup.find('div', {'id': 'project-list'})\n",
    "    projects = project_list.find('div', {'class': 'projects'}).find_all('div', {'class': 'project'})\n",
    "    next_url = project_list.find('div', {'class': 'paging'}).find('a', {'class': 'prn'}, text='Next >')\n",
    "\n",
    "    if next_url is not None:\n",
    "        next_url = ''.join([f'http://www.kicktraq.com/search/', next_url['href'], f'&sort=new'])\n",
    "\n",
    "    for proj in projects:\n",
    "        info = proj.find('div', {'class': 'project-infobox'})\n",
    "        a = info.find('h2').find()\n",
    "        link = f'http://www.kickstarter.com' + a['href']\n",
    "        name = a.text\n",
    "        info = proj.find('div', {'class': 'project-infobits'})\n",
    "        pledgilizer = info.find('div', {'class': 'project-pledgilizer'})\n",
    "        if pledgilizer is None:\n",
    "            continue\n",
    "\n",
    "        status = pledgilizer.find('div', {'class': 'project-pledgilizer-top'}).find().text.lower()\n",
    "        if status != 'closed':\n",
    "            continue\n",
    "        else:\n",
    "            funded = pledgilizer.find('div', {'class': 'project-pledgilizer-mid'}).find().text[:-1]\n",
    "            if int(funded) >= 100:\n",
    "                status = 'success'\n",
    "            else:\n",
    "                status = 'failed'\n",
    "\n",
    "        funding_info = info.find('div', {'class':'project-details'}).text.split('\\n\\t\\t\\t\\t\\t')\n",
    "        moneys = funding_info[2].split(' ')\n",
    "        goal = moneys[3].replace(',', '')\n",
    "        pledged = moneys[1].replace(',', '')\n",
    "        backers = funding_info[1].split(' ')[1]\n",
    "\n",
    "        dates = funding_info[3].split(' -> ')\n",
    "        start_date = dates[0].split(': ')[1]\n",
    "        end_date, year = dates[1].split(' (')\n",
    "        year = year[:-1]\n",
    "        \n",
    "        kick_req = requests.get(link)\n",
    "\n",
    "        tries = 3\n",
    "        while not kick_req.ok and tries > 0:\n",
    "            print('Request to Kickstarter ', link, ' failed')\n",
    "            time.sleep(1)\n",
    "            tries -= 1\n",
    "            kick_req = requests.get(link)\n",
    "        \n",
    "        if tries <= 0:\n",
    "            continue\n",
    "        else:\n",
    "            tries = 3\n",
    "            \n",
    "        kick_soup = BeautifulSoup(kick_req.content, 'html.parser')\n",
    "        navigators = kick_soup.find('div', {'class': 'campaign-side-nav project-nav__links'})\n",
    "        \n",
    "        # Hidden projects\n",
    "        if navigators is None:\n",
    "            continue\n",
    "\n",
    "        comments = navigators.find('a', {'id': 'comments-emoji'})\n",
    "        comments = comments.find().text if comments is not None else 0\n",
    "\n",
    "        updates = navigators.find('a', {'id': 'updates-emoji'})\n",
    "        updates = updates.find().text if updates is not None else 0\n",
    "\n",
    "        faqs = navigators.find('a', {'id': 'faq-emoji'}).find()\n",
    "        faqs = faqs.text if faqs is not None else '0'\n",
    "\n",
    "        tiers = kick_soup.find('div', {'class': 'NS_projects__rewards_list'}).find('ol').find_all('li', recursive=False)\n",
    "        tier_count = len(tiers)\n",
    "        tier_min = 0\n",
    "        tier_max = 0\n",
    "        if tier_count > 0:          \n",
    "            tier_cost_min = tiers[0].find('div', {'class': 'pledge__info'}).find('span', {'class': 'money'}).text.split(' ')[-1].replace(',', '')\n",
    "            tier_cost_max = tiers[-1].find('div', {'class': 'pledge__info'}).find('span', {'class': 'money'}).text.split(' ')[-1].replace(',', '')\n",
    "        \n",
    "        while not tier_cost_min.isnumeric():\n",
    "            tier_cost_min = '0' if len(tier_cost_min) == 0 else tier_cost_min[1:]\n",
    "        while not tier_cost_max.isnumeric():\n",
    "            tier_cost_max = '0' if len(tier_cost_max) == 0 else tier_cost_max[1:]\n",
    "        tier_min = int(tier_cost_min)\n",
    "        tier_max = int(tier_cost_max)\n",
    "        new_row = {'Id': pid, 'Name': name, 'Url': link, 'Goal': goal, 'Pledged': pledged, \n",
    "                   'Launch': start_date, 'End': end_date, 'Year': year,\n",
    "                   'Comments': comments, 'Updates': updates, 'Faqs': faqs, \n",
    "                   'Backers': backers, 'Tiers': tier_count, 'TierMin': tier_min, 'TierMax': tier_max, \n",
    "                   'Status': status}\n",
    "        df = df.append(new_row, ignore_index=True)\n",
    "        pid += 1\n",
    "        if pid % 200 == 0:\n",
    "            df.to_csv('data.csv', index=None)\n",
    "            print('Backed up ', pid, ' indices')"
   ]
  },
  {
   "cell_type": "code",
   "execution_count": 74,
   "metadata": {
    "executionInfo": {
     "elapsed": 1684,
     "status": "ok",
     "timestamp": 1610717093737,
     "user": {
      "displayName": "Thái Tấn Đạt",
      "photoUrl": "https://lh3.googleusercontent.com/a-/AOh14GhqEVCjeUljqExuzw2Qv14Z3oQFL5yANqoJdXFa_Q=s64",
      "userId": "02979695103631925091"
     },
     "user_tz": -420
    },
    "id": "NDvcPPTw7lEL"
   },
   "outputs": [],
   "source": [
    "df.to_csv('data.csv', index=None)"
   ]
  }
 ],
 "metadata": {
  "colab": {
   "collapsed_sections": [],
   "name": "KickstarterCrawler.ipynb",
   "provenance": [],
   "toc_visible": true
  },
  "kernelspec": {
   "display_name": "Python 3",
   "language": "python",
   "name": "python3"
  },
  "language_info": {
   "codemirror_mode": {
    "name": "ipython",
    "version": 3
   },
   "file_extension": ".py",
   "mimetype": "text/x-python",
   "name": "python",
   "nbconvert_exporter": "python",
   "pygments_lexer": "ipython3",
   "version": "3.7.2"
  }
 },
 "nbformat": 4,
 "nbformat_minor": 1
}
