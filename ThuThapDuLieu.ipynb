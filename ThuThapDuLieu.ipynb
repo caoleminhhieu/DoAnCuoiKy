{
 "cells": [
  {
   "cell_type": "code",
   "execution_count": 1,
   "metadata": {},
   "outputs": [],
   "source": [
    "from bs4 import BeautifulSoup\n",
    "import requests\n",
    "import json\n",
    "import pandas as pd\n",
    "import time\n",
    "import datetime as dt\n"
   ]
  },
  {
   "cell_type": "code",
   "execution_count": 224,
   "metadata": {},
   "outputs": [],
   "source": [
    "start_url = f'http://www.kicktraq.com/search/?page=1&find=in:\"technology\"&sort=new'"
   ]
  },
  {
   "cell_type": "code",
   "execution_count": 26,
   "metadata": {},
   "outputs": [],
   "source": [
    "req = requests.get(start_url)\n",
    "soup = BeautifulSoup(req.content)"
   ]
  },
  {
   "cell_type": "code",
   "execution_count": 42,
   "metadata": {},
   "outputs": [
    {
     "name": "stdout",
     "output_type": "stream",
     "text": [
      "http://www.kicktraq.com/search/?page=2&find=in:\"technology\"&sort=new\n"
     ]
    }
   ],
   "source": [
    "project_list = soup.find('div', {'id': 'project-list'})\n",
    "projects = project_list.find('div', {'class': 'projects'}).find_all('div', {'class': 'project'})\n",
    "next_url = project_list.find('div', {'class': 'paging'}).find('a', {'class': 'prn'})['href']\n",
    "next_url = ''.join([f'http://www.kicktraq.com/search/', next_url, f'&sort=new'])"
   ]
  },
  {
   "cell_type": "code",
   "execution_count": 43,
   "metadata": {},
   "outputs": [
    {
     "name": "stdout",
     "output_type": "stream",
     "text": [
      "15\n"
     ]
    }
   ],
   "source": [
    "print(len(projects))"
   ]
  },
  {
   "cell_type": "code",
   "execution_count": 90,
   "metadata": {},
   "outputs": [
    {
     "data": {
      "text/plain": [
       "'0'"
      ]
     },
     "execution_count": 90,
     "metadata": {},
     "output_type": "execute_result"
    }
   ],
   "source": [
    "proj = projects[0]\n",
    "info = proj.find('div', {'class': 'project-infobox'})\n",
    "a = info.find('h2').find()\n",
    "link = f'http://www.kickstarter.com' + a['href']\n",
    "name = a.text\n",
    "info = proj.find('div', {'class': 'project-infobits'})\n",
    "pledgilizer = info.find('div', {'class': 'project-pledgilizer'})\n",
    "\n",
    "status = pledgilizer.find('div', {'class': 'project-pledgilizer-top'}).find().text.lower()\n",
    "if status == 'closed':\n",
    "    funded = pledgilizer.find('div', {'class': 'project-pledgilizer-mid'}).find().text[:-1]\n",
    "    if int(funded) >= 100:\n",
    "        status = 'success'\n",
    "    else:\n",
    "        status = 'failed'\n",
    "    \n",
    "funding_info = info.find('div', {'class':'project-details'}).text.split('\\n\\t\\t\\t\\t\\t')\n",
    "moneys = funding_info[2].split(' ')\n",
    "goal = moneys[3][1:].replace(',', '')\n",
    "pledged = moneys[1][1:].replace(',', '')\n",
    "backers = funding_info[1].split(' ')[1]"
   ]
  },
  {
   "cell_type": "code",
   "execution_count": 114,
   "metadata": {},
   "outputs": [],
   "source": [
    "s = f'https://www.kickstarter.com/projects/601285608/scout-the-autonomous-transatlantic-boat/?ref=kicktraq'\n",
    "f = f'http://www.kickstarter.com/projects/aromaoftacoma/pocket-web-server-kit/?ref=kicktraq'\n",
    "kick_req = requests.get(f)\n",
    "kick_soup = BeautifulSoup(kick_req.content)"
   ]
  },
  {
   "cell_type": "code",
   "execution_count": 132,
   "metadata": {},
   "outputs": [],
   "source": [
    "comments = kick_soup.find('a', {'id': 'comments-emoji'}).find().text\n",
    "\n",
    "tiers = kick_soup.find('div', {'class': 'NS_projects__rewards_list'}).find('ol').find_all('li')\n",
    "tier_count = len(tiers)\n",
    "tier_min = tiers[0]\n",
    "tier_max = tiers[-1]\n",
    "tier_cost_min = tiers[0].find('div', {'class': 'pledge__info'}).find('span', {'class': 'money'}).text.split(' ')[1].replace(',', '')\n",
    "tier_cost_max = tiers[-1].find('div', {'class': 'pledge__info'}).find('span', {'class': 'money'}).text.split(' ')[1].replace(',', '')\n",
    "tier_min = int(tier_cost_min)\n",
    "tier_max = int(tier_cost_max)"
   ]
  },
  {
   "cell_type": "code",
   "execution_count": 137,
   "metadata": {},
   "outputs": [
    {
     "data": {
      "text/plain": [
       "[]"
      ]
     },
     "execution_count": 137,
     "metadata": {},
     "output_type": "execute_result"
    }
   ],
   "source": [
    "tiers"
   ]
  },
  {
   "cell_type": "code",
   "execution_count": 230,
   "metadata": {},
   "outputs": [
    {
     "name": "stdout",
     "output_type": "stream",
     "text": [
      "Requested URL:  http://www.kicktraq.com/search/?page=1&find=in:\"technology\"&sort=new\n",
      "Requested URL:  http://www.kicktraq.com/search/?page=2&find=in:\"technology\"&sort=new\n",
      "Requested URL:  http://www.kicktraq.com/search/?page=3&find=in:\"technology\"&sort=new\n",
      "Requested URL:  http://www.kicktraq.com/search/?page=4&find=in:\"technology\"&sort=new\n",
      "Requested URL:  http://www.kicktraq.com/search/?page=5&find=in:\"technology\"&sort=new\n",
      "Requested URL:  http://www.kicktraq.com/search/?page=6&find=in:\"technology\"&sort=new\n",
      "Requested URL:  http://www.kicktraq.com/search/?page=7&find=in:\"technology\"&sort=new\n",
      "Requested URL:  http://www.kicktraq.com/search/?page=8&find=in:\"technology\"&sort=new\n",
      "Requested URL:  http://www.kicktraq.com/search/?page=9&find=in:\"technology\"&sort=new\n",
      "Requested URL:  http://www.kicktraq.com/search/?page=10&find=in:\"technology\"&sort=new\n",
      "Requested URL:  http://www.kicktraq.com/search/?page=11&find=in:\"technology\"&sort=new\n",
      "Requested URL:  http://www.kicktraq.com/search/?page=12&find=in:\"technology\"&sort=new\n",
      "Requested URL:  http://www.kicktraq.com/search/?page=13&find=in:\"technology\"&sort=new\n",
      "Requested URL:  http://www.kicktraq.com/search/?page=14&find=in:\"technology\"&sort=new\n",
      "Requested URL:  http://www.kicktraq.com/search/?page=15&find=in:\"technology\"&sort=new\n",
      "Requested URL:  http://www.kicktraq.com/search/?page=16&find=in:\"technology\"&sort=new\n",
      "Requested URL:  http://www.kicktraq.com/search/?page=17&find=in:\"technology\"&sort=new\n",
      "Requested URL:  http://www.kicktraq.com/search/?page=18&find=in:\"technology\"&sort=new\n",
      "Requested URL:  http://www.kicktraq.com/search/?page=19&find=in:\"technology\"&sort=new\n",
      "Requested URL:  http://www.kicktraq.com/search/?page=20&find=in:\"technology\"&sort=new\n",
      "Requested URL:  http://www.kicktraq.com/search/?page=21&find=in:\"technology\"&sort=new\n",
      "Requested URL:  http://www.kicktraq.com/search/?page=22&find=in:\"technology\"&sort=new\n",
      "Requested URL:  http://www.kicktraq.com/search/?page=23&find=in:\"technology\"&sort=new\n",
      "Requested URL:  http://www.kicktraq.com/search/?page=24&find=in:\"technology\"&sort=new\n",
      "Backed up  200  indices\n",
      "Requested URL:  http://www.kicktraq.com/search/?page=25&find=in:\"technology\"&sort=new\n",
      "Requested URL:  http://www.kicktraq.com/search/?page=26&find=in:\"technology\"&sort=new\n",
      "Requested URL:  http://www.kicktraq.com/search/?page=27&find=in:\"technology\"&sort=new\n",
      "Requested URL:  http://www.kicktraq.com/search/?page=28&find=in:\"technology\"&sort=new\n",
      "Requested URL:  http://www.kicktraq.com/search/?page=29&find=in:\"technology\"&sort=new\n",
      "Requested URL:  http://www.kicktraq.com/search/?page=30&find=in:\"technology\"&sort=new\n",
      "Requested URL:  http://www.kicktraq.com/search/?page=31&find=in:\"technology\"&sort=new\n",
      "Requested URL:  http://www.kicktraq.com/search/?page=32&find=in:\"technology\"&sort=new\n",
      "Requested URL:  http://www.kicktraq.com/search/?page=33&find=in:\"technology\"&sort=new\n",
      "Requested URL:  http://www.kicktraq.com/search/?page=34&find=in:\"technology\"&sort=new\n",
      "Requested URL:  http://www.kicktraq.com/search/?page=35&find=in:\"technology\"&sort=new\n",
      "Requested URL:  http://www.kicktraq.com/search/?page=36&find=in:\"technology\"&sort=new\n",
      "Requested URL:  http://www.kicktraq.com/search/?page=37&find=in:\"technology\"&sort=new\n",
      "Requested URL:  http://www.kicktraq.com/search/?page=38&find=in:\"technology\"&sort=new\n",
      "Requested URL:  http://www.kicktraq.com/search/?page=39&find=in:\"technology\"&sort=new\n",
      "Requested URL:  http://www.kicktraq.com/search/?page=40&find=in:\"technology\"&sort=new\n",
      "Backed up  400  indices\n",
      "Requested URL:  http://www.kicktraq.com/search/?page=41&find=in:\"technology\"&sort=new\n",
      "Requested URL:  http://www.kicktraq.com/search/?page=42&find=in:\"technology\"&sort=new\n",
      "Requested URL:  http://www.kicktraq.com/search/?page=43&find=in:\"technology\"&sort=new\n",
      "Requested URL:  http://www.kicktraq.com/search/?page=44&find=in:\"technology\"&sort=new\n",
      "Requested URL:  http://www.kicktraq.com/search/?page=45&find=in:\"technology\"&sort=new\n",
      "Requested URL:  http://www.kicktraq.com/search/?page=46&find=in:\"technology\"&sort=new\n",
      "Requested URL:  http://www.kicktraq.com/search/?page=47&find=in:\"technology\"&sort=new\n",
      "Requested URL:  http://www.kicktraq.com/search/?page=48&find=in:\"technology\"&sort=new\n",
      "Requested URL:  http://www.kicktraq.com/search/?page=49&find=in:\"technology\"&sort=new\n",
      "Requested URL:  http://www.kicktraq.com/search/?page=50&find=in:\"technology\"&sort=new\n",
      "Requested URL:  http://www.kicktraq.com/search/?page=51&find=in:\"technology\"&sort=new\n",
      "Requested URL:  http://www.kicktraq.com/search/?page=52&find=in:\"technology\"&sort=new\n",
      "Requested URL:  http://www.kicktraq.com/search/?page=53&find=in:\"technology\"&sort=new\n",
      "Requested URL:  http://www.kicktraq.com/search/?page=54&find=in:\"technology\"&sort=new\n",
      "Requested URL:  http://www.kicktraq.com/search/?page=55&find=in:\"technology\"&sort=new\n",
      "Requested URL:  http://www.kicktraq.com/search/?page=56&find=in:\"technology\"&sort=new\n",
      "Requested URL:  http://www.kicktraq.com/search/?page=57&find=in:\"technology\"&sort=new\n",
      "Backed up  600  indices\n",
      "Requested URL:  http://www.kicktraq.com/search/?page=58&find=in:\"technology\"&sort=new\n",
      "Requested URL:  http://www.kicktraq.com/search/?page=59&find=in:\"technology\"&sort=new\n",
      "Requested URL:  http://www.kicktraq.com/search/?page=60&find=in:\"technology\"&sort=new\n",
      "Requested URL:  http://www.kicktraq.com/search/?page=61&find=in:\"technology\"&sort=new\n",
      "Requested URL:  http://www.kicktraq.com/search/?page=62&find=in:\"technology\"&sort=new\n",
      "Requested URL:  http://www.kicktraq.com/search/?page=63&find=in:\"technology\"&sort=new\n",
      "Requested URL:  http://www.kicktraq.com/search/?page=64&find=in:\"technology\"&sort=new\n",
      "Requested URL:  http://www.kicktraq.com/search/?page=65&find=in:\"technology\"&sort=new\n",
      "Requested URL:  http://www.kicktraq.com/search/?page=66&find=in:\"technology\"&sort=new\n",
      "Requested URL:  http://www.kicktraq.com/search/?page=67&find=in:\"technology\"&sort=new\n",
      "Requested URL:  http://www.kicktraq.com/search/?page=68&find=in:\"technology\"&sort=new\n",
      "Requested URL:  http://www.kicktraq.com/search/?page=69&find=in:\"technology\"&sort=new\n",
      "Requested URL:  http://www.kicktraq.com/search/?page=70&find=in:\"technology\"&sort=new\n",
      "Requested URL:  http://www.kicktraq.com/search/?page=71&find=in:\"technology\"&sort=new\n",
      "Requested URL:  http://www.kicktraq.com/search/?page=72&find=in:\"technology\"&sort=new\n",
      "Requested URL:  http://www.kicktraq.com/search/?page=73&find=in:\"technology\"&sort=new\n",
      "Backed up  800  indices\n",
      "Requested URL:  http://www.kicktraq.com/search/?page=74&find=in:\"technology\"&sort=new\n",
      "Requested URL:  http://www.kicktraq.com/search/?page=75&find=in:\"technology\"&sort=new\n",
      "Requested URL:  http://www.kicktraq.com/search/?page=76&find=in:\"technology\"&sort=new\n",
      "Requested URL:  http://www.kicktraq.com/search/?page=77&find=in:\"technology\"&sort=new\n",
      "Requested URL:  http://www.kicktraq.com/search/?page=78&find=in:\"technology\"&sort=new\n",
      "Requested URL:  http://www.kicktraq.com/search/?page=79&find=in:\"technology\"&sort=new\n",
      "Requested URL:  http://www.kicktraq.com/search/?page=80&find=in:\"technology\"&sort=new\n",
      "Requested URL:  http://www.kicktraq.com/search/?page=81&find=in:\"technology\"&sort=new\n",
      "Requested URL:  http://www.kicktraq.com/search/?page=82&find=in:\"technology\"&sort=new\n",
      "Requested URL:  http://www.kicktraq.com/search/?page=83&find=in:\"technology\"&sort=new\n",
      "Requested URL:  http://www.kicktraq.com/search/?page=84&find=in:\"technology\"&sort=new\n",
      "Requested URL:  http://www.kicktraq.com/search/?page=85&find=in:\"technology\"&sort=new\n",
      "Requested URL:  http://www.kicktraq.com/search/?page=86&find=in:\"technology\"&sort=new\n",
      "Requested URL:  http://www.kicktraq.com/search/?page=87&find=in:\"technology\"&sort=new\n",
      "Requested URL:  http://www.kicktraq.com/search/?page=88&find=in:\"technology\"&sort=new\n",
      "Requested URL:  http://www.kicktraq.com/search/?page=89&find=in:\"technology\"&sort=new\n",
      "Requested URL:  http://www.kicktraq.com/search/?page=90&find=in:\"technology\"&sort=new\n",
      "Backed up  1000  indices\n",
      "Requested URL:  http://www.kicktraq.com/search/?page=91&find=in:\"technology\"&sort=new\n",
      "Requested URL:  http://www.kicktraq.com/search/?page=92&find=in:\"technology\"&sort=new\n",
      "Requested URL:  http://www.kicktraq.com/search/?page=93&find=in:\"technology\"&sort=new\n",
      "Requested URL:  http://www.kicktraq.com/search/?page=94&find=in:\"technology\"&sort=new\n"
     ]
    },
    {
     "name": "stdout",
     "output_type": "stream",
     "text": [
      "Requested URL:  http://www.kicktraq.com/search/?page=95&find=in:\"technology\"&sort=new\n",
      "Requested URL:  http://www.kicktraq.com/search/?page=96&find=in:\"technology\"&sort=new\n",
      "Requested URL:  http://www.kicktraq.com/search/?page=97&find=in:\"technology\"&sort=new\n",
      "Requested URL:  http://www.kicktraq.com/search/?page=98&find=in:\"technology\"&sort=new\n",
      "Requested URL:  http://www.kicktraq.com/search/?page=99&find=in:\"technology\"&sort=new\n",
      "Requested URL:  http://www.kicktraq.com/search/?page=100&find=in:\"technology\"&sort=new\n",
      "Requested URL:  http://www.kicktraq.com/search/?page=101&find=in:\"technology\"&sort=new\n",
      "Requested URL:  http://www.kicktraq.com/search/?page=102&find=in:\"technology\"&sort=new\n",
      "Requested URL:  http://www.kicktraq.com/search/?page=103&find=in:\"technology\"&sort=new\n",
      "Requested URL:  http://www.kicktraq.com/search/?page=104&find=in:\"technology\"&sort=new\n",
      "Requested URL:  http://www.kicktraq.com/search/?page=105&find=in:\"technology\"&sort=new\n",
      "Requested URL:  http://www.kicktraq.com/search/?page=106&find=in:\"technology\"&sort=new\n",
      "Backed up  1200  indices\n"
     ]
    },
    {
     "ename": "KeyboardInterrupt",
     "evalue": "",
     "output_type": "error",
     "traceback": [
      "\u001b[1;31m---------------------------------------------------------------------------\u001b[0m",
      "\u001b[1;31mKeyboardInterrupt\u001b[0m                         Traceback (most recent call last)",
      "\u001b[1;32m<ipython-input-230-56be6f031376>\u001b[0m in \u001b[0;36m<module>\u001b[1;34m\u001b[0m\n\u001b[0;32m     50\u001b[0m             \u001b[0mkick_req\u001b[0m \u001b[1;33m=\u001b[0m \u001b[0mrequests\u001b[0m\u001b[1;33m.\u001b[0m\u001b[0mget\u001b[0m\u001b[1;33m(\u001b[0m\u001b[0mlink\u001b[0m\u001b[1;33m)\u001b[0m\u001b[1;33m\u001b[0m\u001b[1;33m\u001b[0m\u001b[0m\n\u001b[0;32m     51\u001b[0m \u001b[1;33m\u001b[0m\u001b[0m\n\u001b[1;32m---> 52\u001b[1;33m         \u001b[0mkick_soup\u001b[0m \u001b[1;33m=\u001b[0m \u001b[0mBeautifulSoup\u001b[0m\u001b[1;33m(\u001b[0m\u001b[0mkick_req\u001b[0m\u001b[1;33m.\u001b[0m\u001b[0mcontent\u001b[0m\u001b[1;33m)\u001b[0m\u001b[1;33m\u001b[0m\u001b[1;33m\u001b[0m\u001b[0m\n\u001b[0m\u001b[0;32m     53\u001b[0m         \u001b[0mcomments\u001b[0m \u001b[1;33m=\u001b[0m \u001b[0mkick_soup\u001b[0m\u001b[1;33m.\u001b[0m\u001b[0mfind\u001b[0m\u001b[1;33m(\u001b[0m\u001b[1;34m'a'\u001b[0m\u001b[1;33m,\u001b[0m \u001b[1;33m{\u001b[0m\u001b[1;34m'id'\u001b[0m\u001b[1;33m:\u001b[0m \u001b[1;34m'comments-emoji'\u001b[0m\u001b[1;33m}\u001b[0m\u001b[1;33m)\u001b[0m\u001b[1;33m\u001b[0m\u001b[1;33m\u001b[0m\u001b[0m\n\u001b[0;32m     54\u001b[0m         \u001b[1;32mif\u001b[0m \u001b[0mcomments\u001b[0m \u001b[1;32mis\u001b[0m \u001b[1;32mNone\u001b[0m\u001b[1;33m:\u001b[0m\u001b[1;33m\u001b[0m\u001b[1;33m\u001b[0m\u001b[0m\n",
      "\u001b[1;32m~\\AppData\\Roaming\\Python\\Python37\\site-packages\\bs4\\__init__.py\u001b[0m in \u001b[0;36m__init__\u001b[1;34m(self, markup, features, builder, parse_only, from_encoding, exclude_encodings, element_classes, **kwargs)\u001b[0m\n\u001b[0;32m    343\u001b[0m          \u001b[0mself\u001b[0m\u001b[1;33m.\u001b[0m\u001b[0mcontains_replacement_characters\u001b[0m\u001b[1;33m)\u001b[0m \u001b[1;32min\u001b[0m \u001b[1;33m(\u001b[0m\u001b[1;33m\u001b[0m\u001b[1;33m\u001b[0m\u001b[0m\n\u001b[0;32m    344\u001b[0m              self.builder.prepare_markup(\n\u001b[1;32m--> 345\u001b[1;33m                  markup, from_encoding, exclude_encodings=exclude_encodings)):\n\u001b[0m\u001b[0;32m    346\u001b[0m             \u001b[0mself\u001b[0m\u001b[1;33m.\u001b[0m\u001b[0mreset\u001b[0m\u001b[1;33m(\u001b[0m\u001b[1;33m)\u001b[0m\u001b[1;33m\u001b[0m\u001b[1;33m\u001b[0m\u001b[0m\n\u001b[0;32m    347\u001b[0m             \u001b[1;32mtry\u001b[0m\u001b[1;33m:\u001b[0m\u001b[1;33m\u001b[0m\u001b[1;33m\u001b[0m\u001b[0m\n",
      "\u001b[1;32m~\\AppData\\Roaming\\Python\\Python37\\site-packages\\bs4\\builder\\_htmlparser.py\u001b[0m in \u001b[0;36mprepare_markup\u001b[1;34m(self, markup, user_specified_encoding, document_declared_encoding, exclude_encodings)\u001b[0m\n\u001b[0;32m    362\u001b[0m         \u001b[0mtry_encodings\u001b[0m \u001b[1;33m=\u001b[0m \u001b[1;33m[\u001b[0m\u001b[0muser_specified_encoding\u001b[0m\u001b[1;33m,\u001b[0m \u001b[0mdocument_declared_encoding\u001b[0m\u001b[1;33m]\u001b[0m\u001b[1;33m\u001b[0m\u001b[1;33m\u001b[0m\u001b[0m\n\u001b[0;32m    363\u001b[0m         dammit = UnicodeDammit(markup, try_encodings, is_html=True,\n\u001b[1;32m--> 364\u001b[1;33m                                exclude_encodings=exclude_encodings)\n\u001b[0m\u001b[0;32m    365\u001b[0m         yield (dammit.markup, dammit.original_encoding,\n\u001b[0;32m    366\u001b[0m                \u001b[0mdammit\u001b[0m\u001b[1;33m.\u001b[0m\u001b[0mdeclared_html_encoding\u001b[0m\u001b[1;33m,\u001b[0m\u001b[1;33m\u001b[0m\u001b[1;33m\u001b[0m\u001b[0m\n",
      "\u001b[1;32m~\\AppData\\Roaming\\Python\\Python37\\site-packages\\bs4\\dammit.py\u001b[0m in \u001b[0;36m__init__\u001b[1;34m(self, markup, override_encodings, smart_quotes_to, is_html, exclude_encodings)\u001b[0m\n\u001b[0;32m    443\u001b[0m \u001b[1;33m\u001b[0m\u001b[0m\n\u001b[0;32m    444\u001b[0m         \u001b[0mu\u001b[0m \u001b[1;33m=\u001b[0m \u001b[1;32mNone\u001b[0m\u001b[1;33m\u001b[0m\u001b[1;33m\u001b[0m\u001b[0m\n\u001b[1;32m--> 445\u001b[1;33m         \u001b[1;32mfor\u001b[0m \u001b[0mencoding\u001b[0m \u001b[1;32min\u001b[0m \u001b[0mself\u001b[0m\u001b[1;33m.\u001b[0m\u001b[0mdetector\u001b[0m\u001b[1;33m.\u001b[0m\u001b[0mencodings\u001b[0m\u001b[1;33m:\u001b[0m\u001b[1;33m\u001b[0m\u001b[1;33m\u001b[0m\u001b[0m\n\u001b[0m\u001b[0;32m    446\u001b[0m             \u001b[0mmarkup\u001b[0m \u001b[1;33m=\u001b[0m \u001b[0mself\u001b[0m\u001b[1;33m.\u001b[0m\u001b[0mdetector\u001b[0m\u001b[1;33m.\u001b[0m\u001b[0mmarkup\u001b[0m\u001b[1;33m\u001b[0m\u001b[1;33m\u001b[0m\u001b[0m\n\u001b[0;32m    447\u001b[0m             \u001b[0mu\u001b[0m \u001b[1;33m=\u001b[0m \u001b[0mself\u001b[0m\u001b[1;33m.\u001b[0m\u001b[0m_convert_from\u001b[0m\u001b[1;33m(\u001b[0m\u001b[0mencoding\u001b[0m\u001b[1;33m)\u001b[0m\u001b[1;33m\u001b[0m\u001b[1;33m\u001b[0m\u001b[0m\n",
      "\u001b[1;32m~\\AppData\\Roaming\\Python\\Python37\\site-packages\\bs4\\dammit.py\u001b[0m in \u001b[0;36mencodings\u001b[1;34m(self)\u001b[0m\n\u001b[0;32m    307\u001b[0m         \u001b[1;31m# encoding.\u001b[0m\u001b[1;33m\u001b[0m\u001b[1;33m\u001b[0m\u001b[1;33m\u001b[0m\u001b[0m\n\u001b[0;32m    308\u001b[0m         \u001b[1;32mif\u001b[0m \u001b[0mself\u001b[0m\u001b[1;33m.\u001b[0m\u001b[0mchardet_encoding\u001b[0m \u001b[1;32mis\u001b[0m \u001b[1;32mNone\u001b[0m\u001b[1;33m:\u001b[0m\u001b[1;33m\u001b[0m\u001b[1;33m\u001b[0m\u001b[0m\n\u001b[1;32m--> 309\u001b[1;33m             \u001b[0mself\u001b[0m\u001b[1;33m.\u001b[0m\u001b[0mchardet_encoding\u001b[0m \u001b[1;33m=\u001b[0m \u001b[0mchardet_dammit\u001b[0m\u001b[1;33m(\u001b[0m\u001b[0mself\u001b[0m\u001b[1;33m.\u001b[0m\u001b[0mmarkup\u001b[0m\u001b[1;33m)\u001b[0m\u001b[1;33m\u001b[0m\u001b[1;33m\u001b[0m\u001b[0m\n\u001b[0m\u001b[0;32m    310\u001b[0m         \u001b[1;32mif\u001b[0m \u001b[0mself\u001b[0m\u001b[1;33m.\u001b[0m\u001b[0m_usable\u001b[0m\u001b[1;33m(\u001b[0m\u001b[0mself\u001b[0m\u001b[1;33m.\u001b[0m\u001b[0mchardet_encoding\u001b[0m\u001b[1;33m,\u001b[0m \u001b[0mtried\u001b[0m\u001b[1;33m)\u001b[0m\u001b[1;33m:\u001b[0m\u001b[1;33m\u001b[0m\u001b[1;33m\u001b[0m\u001b[0m\n\u001b[0;32m    311\u001b[0m             \u001b[1;32myield\u001b[0m \u001b[0mself\u001b[0m\u001b[1;33m.\u001b[0m\u001b[0mchardet_encoding\u001b[0m\u001b[1;33m\u001b[0m\u001b[1;33m\u001b[0m\u001b[0m\n",
      "\u001b[1;32m~\\AppData\\Roaming\\Python\\Python37\\site-packages\\bs4\\dammit.py\u001b[0m in \u001b[0;36mchardet_dammit\u001b[1;34m(s)\u001b[0m\n\u001b[0;32m     35\u001b[0m             \u001b[1;32mif\u001b[0m \u001b[0misinstance\u001b[0m\u001b[1;33m(\u001b[0m\u001b[0ms\u001b[0m\u001b[1;33m,\u001b[0m \u001b[0mstr\u001b[0m\u001b[1;33m)\u001b[0m\u001b[1;33m:\u001b[0m\u001b[1;33m\u001b[0m\u001b[1;33m\u001b[0m\u001b[0m\n\u001b[0;32m     36\u001b[0m                 \u001b[1;32mreturn\u001b[0m \u001b[1;32mNone\u001b[0m\u001b[1;33m\u001b[0m\u001b[1;33m\u001b[0m\u001b[0m\n\u001b[1;32m---> 37\u001b[1;33m             \u001b[1;32mreturn\u001b[0m \u001b[0mchardet\u001b[0m\u001b[1;33m.\u001b[0m\u001b[0mdetect\u001b[0m\u001b[1;33m(\u001b[0m\u001b[0ms\u001b[0m\u001b[1;33m)\u001b[0m\u001b[1;33m[\u001b[0m\u001b[1;34m'encoding'\u001b[0m\u001b[1;33m]\u001b[0m\u001b[1;33m\u001b[0m\u001b[1;33m\u001b[0m\u001b[0m\n\u001b[0m\u001b[0;32m     38\u001b[0m         \u001b[1;31m#import chardet.constants\u001b[0m\u001b[1;33m\u001b[0m\u001b[1;33m\u001b[0m\u001b[1;33m\u001b[0m\u001b[0m\n\u001b[0;32m     39\u001b[0m         \u001b[1;31m#chardet.constants._debug = 1\u001b[0m\u001b[1;33m\u001b[0m\u001b[1;33m\u001b[0m\u001b[1;33m\u001b[0m\u001b[0m\n",
      "\u001b[1;32mc:\\program files\\python37\\lib\\site-packages\\chardet\\__init__.py\u001b[0m in \u001b[0;36mdetect\u001b[1;34m(byte_str)\u001b[0m\n\u001b[0;32m     36\u001b[0m             \u001b[0mbyte_str\u001b[0m \u001b[1;33m=\u001b[0m \u001b[0mbytearray\u001b[0m\u001b[1;33m(\u001b[0m\u001b[0mbyte_str\u001b[0m\u001b[1;33m)\u001b[0m\u001b[1;33m\u001b[0m\u001b[1;33m\u001b[0m\u001b[0m\n\u001b[0;32m     37\u001b[0m     \u001b[0mdetector\u001b[0m \u001b[1;33m=\u001b[0m \u001b[0mUniversalDetector\u001b[0m\u001b[1;33m(\u001b[0m\u001b[1;33m)\u001b[0m\u001b[1;33m\u001b[0m\u001b[1;33m\u001b[0m\u001b[0m\n\u001b[1;32m---> 38\u001b[1;33m     \u001b[0mdetector\u001b[0m\u001b[1;33m.\u001b[0m\u001b[0mfeed\u001b[0m\u001b[1;33m(\u001b[0m\u001b[0mbyte_str\u001b[0m\u001b[1;33m)\u001b[0m\u001b[1;33m\u001b[0m\u001b[1;33m\u001b[0m\u001b[0m\n\u001b[0m\u001b[0;32m     39\u001b[0m     \u001b[1;32mreturn\u001b[0m \u001b[0mdetector\u001b[0m\u001b[1;33m.\u001b[0m\u001b[0mclose\u001b[0m\u001b[1;33m(\u001b[0m\u001b[1;33m)\u001b[0m\u001b[1;33m\u001b[0m\u001b[1;33m\u001b[0m\u001b[0m\n",
      "\u001b[1;32mc:\\program files\\python37\\lib\\site-packages\\chardet\\universaldetector.py\u001b[0m in \u001b[0;36mfeed\u001b[1;34m(self, byte_str)\u001b[0m\n\u001b[0;32m    209\u001b[0m                 \u001b[0mself\u001b[0m\u001b[1;33m.\u001b[0m\u001b[0m_charset_probers\u001b[0m\u001b[1;33m.\u001b[0m\u001b[0mappend\u001b[0m\u001b[1;33m(\u001b[0m\u001b[0mLatin1Prober\u001b[0m\u001b[1;33m(\u001b[0m\u001b[1;33m)\u001b[0m\u001b[1;33m)\u001b[0m\u001b[1;33m\u001b[0m\u001b[1;33m\u001b[0m\u001b[0m\n\u001b[0;32m    210\u001b[0m             \u001b[1;32mfor\u001b[0m \u001b[0mprober\u001b[0m \u001b[1;32min\u001b[0m \u001b[0mself\u001b[0m\u001b[1;33m.\u001b[0m\u001b[0m_charset_probers\u001b[0m\u001b[1;33m:\u001b[0m\u001b[1;33m\u001b[0m\u001b[1;33m\u001b[0m\u001b[0m\n\u001b[1;32m--> 211\u001b[1;33m                 \u001b[1;32mif\u001b[0m \u001b[0mprober\u001b[0m\u001b[1;33m.\u001b[0m\u001b[0mfeed\u001b[0m\u001b[1;33m(\u001b[0m\u001b[0mbyte_str\u001b[0m\u001b[1;33m)\u001b[0m \u001b[1;33m==\u001b[0m \u001b[0mProbingState\u001b[0m\u001b[1;33m.\u001b[0m\u001b[0mFOUND_IT\u001b[0m\u001b[1;33m:\u001b[0m\u001b[1;33m\u001b[0m\u001b[1;33m\u001b[0m\u001b[0m\n\u001b[0m\u001b[0;32m    212\u001b[0m                     self.result = {'encoding': prober.charset_name,\n\u001b[0;32m    213\u001b[0m                                    \u001b[1;34m'confidence'\u001b[0m\u001b[1;33m:\u001b[0m \u001b[0mprober\u001b[0m\u001b[1;33m.\u001b[0m\u001b[0mget_confidence\u001b[0m\u001b[1;33m(\u001b[0m\u001b[1;33m)\u001b[0m\u001b[1;33m,\u001b[0m\u001b[1;33m\u001b[0m\u001b[1;33m\u001b[0m\u001b[0m\n",
      "\u001b[1;32mc:\\program files\\python37\\lib\\site-packages\\chardet\\charsetgroupprober.py\u001b[0m in \u001b[0;36mfeed\u001b[1;34m(self, byte_str)\u001b[0m\n\u001b[0;32m     69\u001b[0m             \u001b[1;32mif\u001b[0m \u001b[1;32mnot\u001b[0m \u001b[0mprober\u001b[0m\u001b[1;33m.\u001b[0m\u001b[0mactive\u001b[0m\u001b[1;33m:\u001b[0m\u001b[1;33m\u001b[0m\u001b[1;33m\u001b[0m\u001b[0m\n\u001b[0;32m     70\u001b[0m                 \u001b[1;32mcontinue\u001b[0m\u001b[1;33m\u001b[0m\u001b[1;33m\u001b[0m\u001b[0m\n\u001b[1;32m---> 71\u001b[1;33m             \u001b[0mstate\u001b[0m \u001b[1;33m=\u001b[0m \u001b[0mprober\u001b[0m\u001b[1;33m.\u001b[0m\u001b[0mfeed\u001b[0m\u001b[1;33m(\u001b[0m\u001b[0mbyte_str\u001b[0m\u001b[1;33m)\u001b[0m\u001b[1;33m\u001b[0m\u001b[1;33m\u001b[0m\u001b[0m\n\u001b[0m\u001b[0;32m     72\u001b[0m             \u001b[1;32mif\u001b[0m \u001b[1;32mnot\u001b[0m \u001b[0mstate\u001b[0m\u001b[1;33m:\u001b[0m\u001b[1;33m\u001b[0m\u001b[1;33m\u001b[0m\u001b[0m\n\u001b[0;32m     73\u001b[0m                 \u001b[1;32mcontinue\u001b[0m\u001b[1;33m\u001b[0m\u001b[1;33m\u001b[0m\u001b[0m\n",
      "\u001b[1;32mc:\\program files\\python37\\lib\\site-packages\\chardet\\sbcharsetprober.py\u001b[0m in \u001b[0;36mfeed\u001b[1;34m(self, byte_str)\u001b[0m\n\u001b[0;32m     77\u001b[0m     \u001b[1;32mdef\u001b[0m \u001b[0mfeed\u001b[0m\u001b[1;33m(\u001b[0m\u001b[0mself\u001b[0m\u001b[1;33m,\u001b[0m \u001b[0mbyte_str\u001b[0m\u001b[1;33m)\u001b[0m\u001b[1;33m:\u001b[0m\u001b[1;33m\u001b[0m\u001b[1;33m\u001b[0m\u001b[0m\n\u001b[0;32m     78\u001b[0m         \u001b[1;32mif\u001b[0m \u001b[1;32mnot\u001b[0m \u001b[0mself\u001b[0m\u001b[1;33m.\u001b[0m\u001b[0m_model\u001b[0m\u001b[1;33m[\u001b[0m\u001b[1;34m'keep_english_letter'\u001b[0m\u001b[1;33m]\u001b[0m\u001b[1;33m:\u001b[0m\u001b[1;33m\u001b[0m\u001b[1;33m\u001b[0m\u001b[0m\n\u001b[1;32m---> 79\u001b[1;33m             \u001b[0mbyte_str\u001b[0m \u001b[1;33m=\u001b[0m \u001b[0mself\u001b[0m\u001b[1;33m.\u001b[0m\u001b[0mfilter_international_words\u001b[0m\u001b[1;33m(\u001b[0m\u001b[0mbyte_str\u001b[0m\u001b[1;33m)\u001b[0m\u001b[1;33m\u001b[0m\u001b[1;33m\u001b[0m\u001b[0m\n\u001b[0m\u001b[0;32m     80\u001b[0m         \u001b[1;32mif\u001b[0m \u001b[1;32mnot\u001b[0m \u001b[0mbyte_str\u001b[0m\u001b[1;33m:\u001b[0m\u001b[1;33m\u001b[0m\u001b[1;33m\u001b[0m\u001b[0m\n\u001b[0;32m     81\u001b[0m             \u001b[1;32mreturn\u001b[0m \u001b[0mself\u001b[0m\u001b[1;33m.\u001b[0m\u001b[0mstate\u001b[0m\u001b[1;33m\u001b[0m\u001b[1;33m\u001b[0m\u001b[0m\n",
      "\u001b[1;32mc:\\program files\\python37\\lib\\site-packages\\chardet\\charsetprober.py\u001b[0m in \u001b[0;36mfilter_international_words\u001b[1;34m(buf)\u001b[0m\n\u001b[0;32m     85\u001b[0m         \u001b[1;31m# the end.\u001b[0m\u001b[1;33m\u001b[0m\u001b[1;33m\u001b[0m\u001b[1;33m\u001b[0m\u001b[0m\n\u001b[0;32m     86\u001b[0m         words = re.findall(b'[a-zA-Z]*[\\x80-\\xFF]+[a-zA-Z]*[^a-zA-Z\\x80-\\xFF]?',\n\u001b[1;32m---> 87\u001b[1;33m                            buf)\n\u001b[0m\u001b[0;32m     88\u001b[0m \u001b[1;33m\u001b[0m\u001b[0m\n\u001b[0;32m     89\u001b[0m         \u001b[1;32mfor\u001b[0m \u001b[0mword\u001b[0m \u001b[1;32min\u001b[0m \u001b[0mwords\u001b[0m\u001b[1;33m:\u001b[0m\u001b[1;33m\u001b[0m\u001b[1;33m\u001b[0m\u001b[0m\n",
      "\u001b[1;31mKeyboardInterrupt\u001b[0m: "
     ]
    }
   ],
   "source": [
    "df = pd.DataFrame(columns=['Id', 'Name', 'Url', 'Goal', 'Pledged', 'Backers', 'Tiers', 'TierMin', 'TierMax', 'Status'])\n",
    "next_url = start_url\n",
    "pid = 0\n",
    "\n",
    "while next_url is not None:\n",
    "    url = next_url\n",
    "    req = requests.get(url)\n",
    "    while not req.ok:\n",
    "        print('Request to ', url, ' failed')\n",
    "        time.sleep(1)\n",
    "        req = requests.get(url)\n",
    "    print('Requested URL: ', url)\n",
    "    \n",
    "    soup = BeautifulSoup(req.content)\n",
    "    project_list = soup.find('div', {'id': 'project-list'})\n",
    "    projects = project_list.find('div', {'class': 'projects'}).find_all('div', {'class': 'project'})\n",
    "    next_url = project_list.find('div', {'class': 'paging'}).find('a', {'class': 'prn'}, text='Next >')\n",
    "\n",
    "    if next_url is not None:\n",
    "        next_url = ''.join([f'http://www.kicktraq.com/search/', next_url['href'], f'&sort=new'])\n",
    "\n",
    "    for proj in projects:\n",
    "        info = proj.find('div', {'class': 'project-infobox'})\n",
    "        a = info.find('h2').find()\n",
    "        link = f'http://www.kickstarter.com' + a['href']\n",
    "        name = a.text\n",
    "        info = proj.find('div', {'class': 'project-infobits'})\n",
    "        pledgilizer = info.find('div', {'class': 'project-pledgilizer'})\n",
    "\n",
    "        status = pledgilizer.find('div', {'class': 'project-pledgilizer-top'}).find().text.lower()\n",
    "        if status != 'closed':\n",
    "            continue\n",
    "        else:\n",
    "            funded = pledgilizer.find('div', {'class': 'project-pledgilizer-mid'}).find().text[:-1]\n",
    "            if int(funded) >= 100:\n",
    "                status = 'success'\n",
    "            else:\n",
    "                status = 'failed'\n",
    "\n",
    "        funding_info = info.find('div', {'class':'project-details'}).text.split('\\n\\t\\t\\t\\t\\t')\n",
    "        moneys = funding_info[2].split(' ')\n",
    "        goal = moneys[3][1:].replace(',', '')\n",
    "        pledged = moneys[1][1:].replace(',', '')\n",
    "        backers = funding_info[1].split(' ')[1]\n",
    "\n",
    "        kick_req = requests.get(link)\n",
    "        while not kick_req.ok:\n",
    "            print('Request to Kickstarter ', link, ' failed')\n",
    "            time.sleep(1)\n",
    "            kick_req = requests.get(link)\n",
    "            \n",
    "        kick_soup = BeautifulSoup(kick_req.content)\n",
    "        comments = kick_soup.find('a', {'id': 'comments-emoji'})\n",
    "        if comments is None:\n",
    "            continue\n",
    "        comments = comments.find().text\n",
    "\n",
    "        tiers = kick_soup.find('div', {'class': 'NS_projects__rewards_list'}).find('ol').find_all('li', recursive=False)\n",
    "        tier_count = len(tiers)\n",
    "        tier_min = 0\n",
    "        tier_max = 0\n",
    "        if tier_count > 0:          \n",
    "            tier_cost_min = tiers[0].find('div', {'class': 'pledge__info'}).find('span', {'class': 'money'}).text.split(' ')[-1].replace(',', '')\n",
    "            tier_cost_max = tiers[-1].find('div', {'class': 'pledge__info'}).find('span', {'class': 'money'}).text.split(' ')[-1].replace(',', '')\n",
    "        \n",
    "        while not tier_cost_min.isnumeric():\n",
    "            tier_cost_min = '0' if len(tier_cost_min) == 0 else tier_cost_min[1:]\n",
    "        while not tier_cost_max.isnumeric():\n",
    "            tier_cost_max = '0' if len(tier_cost_max) == 0 else tier_cost_max[1:]\n",
    "        tier_min = int(tier_cost_min)\n",
    "        tier_max = int(tier_cost_max)\n",
    "        new_row = {'Id': pid, 'Name': name, 'Url': link, 'Goal': goal, 'Pledged': pledged, 'Backers': backers, 'Tiers': tier_count, 'TierMin': tier_min, 'TierMax': tier_max, 'Status': status}\n",
    "        df = df.append(new_row, ignore_index=True)\n",
    "        pid += 1\n",
    "        if pid % 200 == 0:\n",
    "            df.to_csv('data.csv', index=None)\n",
    "            print('Backed up ', pid, ' indices')"
   ]
  },
  {
   "cell_type": "code",
   "execution_count": null,
   "metadata": {},
   "outputs": [],
   "source": []
  }
 ],
 "metadata": {
  "kernelspec": {
   "display_name": "Python 3",
   "language": "python",
   "name": "python3"
  },
  "language_info": {
   "codemirror_mode": {
    "name": "ipython",
    "version": 3
   },
   "file_extension": ".py",
   "mimetype": "text/x-python",
   "name": "python",
   "nbconvert_exporter": "python",
   "pygments_lexer": "ipython3",
   "version": "3.7.2"
  }
 },
 "nbformat": 4,
 "nbformat_minor": 4
}
