{
 "cells": [
  {
   "cell_type": "code",
   "execution_count": 1,
   "metadata": {},
   "outputs": [],
   "source": [
    "from bs4 import BeautifulSoup\n",
    "import requests\n",
    "import json\n",
    "import pandas as pd\n",
    "import time\n",
    "import datetime as dt\n"
   ]
  },
  {
   "cell_type": "code",
   "execution_count": 224,
   "metadata": {},
   "outputs": [],
   "source": [
    "start_url = f'http://www.kicktraq.com/search/?page=1&find=in:\"technology\"&sort=new'"
   ]
  },
  {
   "cell_type": "code",
   "execution_count": 26,
   "metadata": {},
   "outputs": [],
   "source": [
    "req = requests.get(start_url)\n",
    "soup = BeautifulSoup(req.content)"
   ]
  },
  {
   "cell_type": "code",
   "execution_count": 42,
   "metadata": {},
   "outputs": [
    {
     "name": "stdout",
     "output_type": "stream",
     "text": [
      "http://www.kicktraq.com/search/?page=2&find=in:\"technology\"&sort=new\n"
     ]
    }
   ],
   "source": [
    "project_list = soup.find('div', {'id': 'project-list'})\n",
    "projects = project_list.find('div', {'class': 'projects'}).find_all('div', {'class': 'project'})\n",
    "next_url = project_list.find('div', {'class': 'paging'}).find('a', {'class': 'prn'})['href']\n",
    "next_url = ''.join([f'http://www.kicktraq.com/search/', next_url, f'&sort=new'])"
   ]
  },
  {
   "cell_type": "code",
   "execution_count": 43,
   "metadata": {},
   "outputs": [
    {
     "name": "stdout",
     "output_type": "stream",
     "text": [
      "15\n"
     ]
    }
   ],
   "source": [
    "print(len(projects))"
   ]
  },
  {
   "cell_type": "code",
   "execution_count": 90,
   "metadata": {},
   "outputs": [
    {
     "data": {
      "text/plain": [
       "'0'"
      ]
     },
     "execution_count": 90,
     "metadata": {},
     "output_type": "execute_result"
    }
   ],
   "source": [
    "proj = projects[0]\n",
    "info = proj.find('div', {'class': 'project-infobox'})\n",
    "a = info.find('h2').find()\n",
    "link = f'http://www.kickstarter.com' + a['href']\n",
    "name = a.text\n",
    "info = proj.find('div', {'class': 'project-infobits'})\n",
    "pledgilizer = info.find('div', {'class': 'project-pledgilizer'})\n",
    "\n",
    "status = pledgilizer.find('div', {'class': 'project-pledgilizer-top'}).find().text.lower()\n",
    "if status == 'closed':\n",
    "    funded = pledgilizer.find('div', {'class': 'project-pledgilizer-mid'}).find().text[:-1]\n",
    "    if int(funded) >= 100:\n",
    "        status = 'success'\n",
    "    else:\n",
    "        status = 'failed'\n",
    "    \n",
    "funding_info = info.find('div', {'class':'project-details'}).text.split('\\n\\t\\t\\t\\t\\t')\n",
    "moneys = funding_info[2].split(' ')\n",
    "goal = moneys[3][1:].replace(',', '')\n",
    "pledged = moneys[1][1:].replace(',', '')\n",
    "backers = funding_info[1].split(' ')[1]"
   ]
  },
  {
   "cell_type": "code",
   "execution_count": 114,
   "metadata": {},
   "outputs": [],
   "source": [
    "s = f'https://www.kickstarter.com/projects/601285608/scout-the-autonomous-transatlantic-boat/?ref=kicktraq'\n",
    "f = f'http://www.kickstarter.com/projects/aromaoftacoma/pocket-web-server-kit/?ref=kicktraq'\n",
    "kick_req = requests.get(f)\n",
    "kick_soup = BeautifulSoup(kick_req.content)"
   ]
  },
  {
   "cell_type": "code",
   "execution_count": 132,
   "metadata": {},
   "outputs": [],
   "source": [
    "comments = kick_soup.find('a', {'id': 'comments-emoji'}).find().text\n",
    "\n",
    "tiers = kick_soup.find('div', {'class': 'NS_projects__rewards_list'}).find('ol').find_all('li')\n",
    "tier_count = len(tiers)\n",
    "tier_min = tiers[0]\n",
    "tier_max = tiers[-1]\n",
    "tier_cost_min = tiers[0].find('div', {'class': 'pledge__info'}).find('span', {'class': 'money'}).text.split(' ')[1].replace(',', '')\n",
    "tier_cost_max = tiers[-1].find('div', {'class': 'pledge__info'}).find('span', {'class': 'money'}).text.split(' ')[1].replace(',', '')\n",
    "tier_min = int(tier_cost_min)\n",
    "tier_max = int(tier_cost_max)"
   ]
  },
  {
   "cell_type": "code",
   "execution_count": 137,
   "metadata": {},
   "outputs": [
    {
     "data": {
      "text/plain": [
       "[]"
      ]
     },
     "execution_count": 137,
     "metadata": {},
     "output_type": "execute_result"
    }
   ],
   "source": [
    "tiers"
   ]
  },
  {
   "cell_type": "code",
   "execution_count": null,
   "metadata": {},
   "outputs": [
    {
     "name": "stdout",
     "output_type": "stream",
     "text": [
      "Requested URL:  http://www.kicktraq.com/search/?page=1&find=in:\"technology\"&sort=new\n",
      "Requested URL:  http://www.kicktraq.com/search/?page=2&find=in:\"technology\"&sort=new\n",
      "Requested URL:  http://www.kicktraq.com/search/?page=3&find=in:\"technology\"&sort=new\n",
      "Requested URL:  http://www.kicktraq.com/search/?page=4&find=in:\"technology\"&sort=new\n",
      "Requested URL:  http://www.kicktraq.com/search/?page=5&find=in:\"technology\"&sort=new\n",
      "Requested URL:  http://www.kicktraq.com/search/?page=6&find=in:\"technology\"&sort=new\n",
      "Requested URL:  http://www.kicktraq.com/search/?page=7&find=in:\"technology\"&sort=new\n",
      "Requested URL:  http://www.kicktraq.com/search/?page=8&find=in:\"technology\"&sort=new\n",
      "Requested URL:  http://www.kicktraq.com/search/?page=9&find=in:\"technology\"&sort=new\n"
     ]
    }
   ],
   "source": [
    "df = pd.DataFrame(columns=['Id', 'Name', 'Url', 'Goal', 'Pledged', 'Backers', 'Tiers', 'TierMin', 'TierMax', 'Status'])\n",
    "next_url = start_url\n",
    "pid = 0\n",
    "\n",
    "while next_url is not None:\n",
    "    url = next_url\n",
    "    req = requests.get(url)\n",
    "    while not req.ok:\n",
    "        print('Request to ', url, ' failed')\n",
    "        time.sleep(1)\n",
    "        req = requests.get(url)\n",
    "    print('Requested URL: ', url)\n",
    "    \n",
    "    soup = BeautifulSoup(req.content)\n",
    "    project_list = soup.find('div', {'id': 'project-list'})\n",
    "    projects = project_list.find('div', {'class': 'projects'}).find_all('div', {'class': 'project'})\n",
    "    next_url = project_list.find('div', {'class': 'paging'}).find('a', {'class': 'prn'}, text='Next >')\n",
    "\n",
    "    if next_url is not None:\n",
    "        next_url = ''.join([f'http://www.kicktraq.com/search/', next_url['href'], f'&sort=new'])\n",
    "\n",
    "    for proj in projects:\n",
    "        info = proj.find('div', {'class': 'project-infobox'})\n",
    "        a = info.find('h2').find()\n",
    "        link = f'http://www.kickstarter.com' + a['href']\n",
    "        name = a.text\n",
    "        info = proj.find('div', {'class': 'project-infobits'})\n",
    "        pledgilizer = info.find('div', {'class': 'project-pledgilizer'})\n",
    "\n",
    "        status = pledgilizer.find('div', {'class': 'project-pledgilizer-top'}).find().text.lower()\n",
    "        if status != 'closed':\n",
    "            continue\n",
    "        else:\n",
    "            funded = pledgilizer.find('div', {'class': 'project-pledgilizer-mid'}).find().text[:-1]\n",
    "            if int(funded) >= 100:\n",
    "                status = 'success'\n",
    "            else:\n",
    "                status = 'failed'\n",
    "\n",
    "        funding_info = info.find('div', {'class':'project-details'}).text.split('\\n\\t\\t\\t\\t\\t')\n",
    "        moneys = funding_info[2].split(' ')\n",
    "        goal = moneys[3][1:].replace(',', '')\n",
    "        pledged = moneys[1][1:].replace(',', '')\n",
    "        backers = funding_info[1].split(' ')[1]\n",
    "\n",
    "        kick_req = requests.get(link)\n",
    "        while not kick_req.ok:\n",
    "            print('Request to Kickstarter ', link, ' failed')\n",
    "            time.sleep(1)\n",
    "            kick_req = requests.get(link)\n",
    "            \n",
    "        kick_soup = BeautifulSoup(kick_req.content)\n",
    "        comments = kick_soup.find('a', {'id': 'comments-emoji'})\n",
    "        if comments is None:\n",
    "            continue\n",
    "        comments = comments.find().text\n",
    "\n",
    "        tiers = kick_soup.find('div', {'class': 'NS_projects__rewards_list'}).find('ol').find_all('li', recursive=False)\n",
    "        tier_count = len(tiers)\n",
    "        tier_min = 0\n",
    "        tier_max = 0\n",
    "        if tier_count > 0:          \n",
    "            tier_cost_min = tiers[0].find('div', {'class': 'pledge__info'}).find('span', {'class': 'money'}).text.split(' ')[-1].replace(',', '')\n",
    "            tier_cost_max = tiers[-1].find('div', {'class': 'pledge__info'}).find('span', {'class': 'money'}).text.split(' ')[-1].replace(',', '')\n",
    "        \n",
    "        while not tier_cost_min.isnumeric():\n",
    "            tier_cost_min = '0' if len(tier_cost_min) == 0 else tier_cost_min[1:]\n",
    "        while not tier_cost_max.isnumeric():\n",
    "            tier_cost_max = '0' if len(tier_cost_max) == 0 else tier_cost_max[1:]\n",
    "        tier_min = int(tier_cost_min)\n",
    "        tier_max = int(tier_cost_max)\n",
    "        new_row = {'Id': pid, 'Name': name, 'Url': link, 'Goal': goal, 'Pledged': pledged, 'Backers': backers, 'Tiers': tier_count, 'TierMin': tier_min, 'TierMax': tier_max, 'Status': status}\n",
    "        df = df.append(new_row, ignore_index=True)\n",
    "        pid += 1\n",
    "        if pid % 200 == 0:\n",
    "            df.to_csv('data.csv', index=None)\n",
    "            print('Backed up ', pid, ' indices')"
   ]
  },
  {
   "cell_type": "code",
   "execution_count": 227,
   "metadata": {},
   "outputs": [],
   "source": [
    "kick_soup.find('a', {'id': 'comments-emoji'})"
   ]
  },
  {
   "cell_type": "code",
   "execution_count": 228,
   "metadata": {},
   "outputs": [],
   "source": [
    "kick_soup.find(id='comments-emoji')"
   ]
  },
  {
   "cell_type": "code",
   "execution_count": 229,
   "metadata": {},
   "outputs": [
    {
     "data": {
      "text/plain": [
       "'http://www.kickstarter.com/projects/ff-hta/hit-them-all/'"
      ]
     },
     "execution_count": 229,
     "metadata": {},
     "output_type": "execute_result"
    }
   ],
   "source": [
    "link"
   ]
  },
  {
   "cell_type": "code",
   "execution_count": null,
   "metadata": {},
   "outputs": [],
   "source": []
  }
 ],
 "metadata": {
  "kernelspec": {
   "display_name": "Python 3",
   "language": "python",
   "name": "python3"
  },
  "language_info": {
   "codemirror_mode": {
    "name": "ipython",
    "version": 3
   },
   "file_extension": ".py",
   "mimetype": "text/x-python",
   "name": "python",
   "nbconvert_exporter": "python",
   "pygments_lexer": "ipython3",
   "version": "3.7.2"
  }
 },
 "nbformat": 4,
 "nbformat_minor": 4
}
